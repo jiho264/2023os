{
 "cells": [
  {
   "attachments": {},
   "cell_type": "markdown",
   "metadata": {},
   "source": [
    "# 운영체제 과제 01\n",
    "- 201901763 이지호"
   ]
  },
  {
   "attachments": {},
   "cell_type": "markdown",
   "metadata": {},
   "source": [
    "과제 1\n",
    "마감 : 4월 30일(일) 저녁 6시까지\n",
    "내용 :\n",
    "수업때 이야기한 모든 스케줄링 방법을 구현하고 성능(5가지) 비교\n",
    "Json 파일로 입력정보를 주면 포맷을 체크해서 비교판단\n",
    "실시간스케줄링과 비실시간스케줄링을 Json  입력파일로 자동 구분처리\n",
    "파이썬만 사용, 간트차트 출력을 포함하여 5가지를 모두 비교하고, 각 입력 데이터에 대해 그 중 종합적으로 제일 나은 방법을 \"자동\" 결과 리포팅 (리포팅 내용을 간단한 설명을 포함하여 자동 생성)\n",
    "숫자 결과와 그래픽결과를 모두 나타내고 자동으로 리포팅\n",
    "chatGPT 포함한 외부 자료 사용 절대 금함. 특성을 이미 잘 알고 있으므로,  사용흔적이 보이면 0점 처리\n",
    "\n",
    "MarkDown 문서로 설명과 해설 그리고 주석이 포함된 주피터노트북 파일(*.ipynb 파일) 과 해당 파일을 PDF 로 저장한 파일, \n",
    "입력에 사용하는 json 파일 3개 (입력예제 3개임) 등, \n",
    "총 5개를 이러닝 사이트에 제출함.\n",
    "\n",
    "실행 결과는 절대 평가함. (제대로 되었는지 여부, 제출한 입력 포맷에 평가 데이터를 적용해서 진행)\n",
    "전체 결과는 등급제로 상대 평가함. 열심히 코드 만들고, 열심히 최선의 결과를 잘 만든 사람에게 높은 등급\n",
    "\n",
    "위 내용을 기준으로 추가로 필요한 부분은 스스로 판단해서 진행하면 됨. 의도에서 벗어나거나 축소되면 안됨.\n",
    "\n",
    "\n",
    "- First-come, First-Served (선입선출)\n",
    "- Shortest-Job-First (최단작업우선)\n",
    "- Shortest-remaining-time-first (최단잔여시간우선)\n",
    "- Priority (우선순위)\n",
    "- Round robin(퀀텀타임대로 순회)\n",
    "- Priority + Round robin"
   ]
  },
  {
   "attachments": {},
   "cell_type": "markdown",
   "metadata": {},
   "source": [
    "## Load data\n",
    "- 아래 변수 숫자 (int) 변경해가며, (1), (2), (3)번 case 마다 실행 가능."
   ]
  },
  {
   "cell_type": "code",
   "execution_count": 516,
   "metadata": {},
   "outputs": [],
   "source": [
    "# case_[NUM] 변경해가며 출력 가능\n",
    "_casenum = 1"
   ]
  },
  {
   "cell_type": "code",
   "execution_count": 517,
   "metadata": {},
   "outputs": [
    {
     "name": "stdout",
     "output_type": "stream",
     "text": [
      "Num of Process : 4\n",
      "Data Loading Sucess\n"
     ]
    }
   ],
   "source": [
    "import json\n",
    "import math\n",
    "import matplotlib.pyplot as plt\n",
    "\n",
    "_jsonfilename = \"case\" + str(_casenum) + \".json\"\n",
    "with open(_jsonfilename) as f:\n",
    "    json_object = json.load(f)\n",
    "\n",
    "num_of_processs = len(json_object['list'])\n",
    "print(\"Num of Process :\", num_of_processs)\n",
    "\n",
    "# data checking\n",
    "assert json_object['list']\n",
    "for i in range(num_of_processs):\n",
    "    assert json_object['list'][i][\"Num\"] > 0\n",
    "    assert json_object['list'][i][\"Burst_time\"] >= 1\n",
    "    assert json_object['list'][i][\"Priority\"] >= 0\n",
    "    assert json_object['list'][i][\"Arrival_time\"] >= 0\n",
    "print(\"Data Loading Sucess\")"
   ]
  },
  {
   "attachments": {},
   "cell_type": "markdown",
   "metadata": {},
   "source": [
    "## Function; draw Gantt chart in terminal"
   ]
  },
  {
   "cell_type": "code",
   "execution_count": 518,
   "metadata": {},
   "outputs": [],
   "source": [
    "def draw(_process, _hope):\n",
    "    fig, ax = plt.subplots(figsize=(10, 1))\n",
    "\n",
    "    _now_time = 0\n",
    "    _count_waiting_time = 0\n",
    "\n",
    "    _xlim_tickers = []\n",
    "\n",
    "    for _pid, _runtime in _hope:\n",
    "        # ALL JOP IS DONE\n",
    "        if (_pid < 0):\n",
    "            break\n",
    "        # TAKE A REST\n",
    "        elif (_pid == 999):\n",
    "            _now_time += _runtime\n",
    "        # CPU RUNNUNG\n",
    "        else:\n",
    "            ax.barh(0, _runtime, left=_now_time, edgecolor='black')\n",
    "            _now_time += _runtime\n",
    "            ax.text(_now_time - _runtime/2, 0, ('P'+str(_pid)), ha='center', va='center')\n",
    "            # if(_process[_pid]['Burst_time'] > 0):\n",
    "            #     print(_process[_pid]['Burst_time'])\n",
    "            #     _process[_pid]['Burst_time'] -= _runtime\n",
    "            # else:\n",
    "            #     print(_pid,\"is done\")\n",
    "            # count waiting time\n",
    "            \n",
    "        _xlim_tickers.append(_now_time)\n",
    "\n",
    "    ax.set_xticks(_xlim_tickers)\n",
    "    ax.set_xlim([0, _now_time])\n",
    "    ax.set_yticks([])\n",
    "    plt.show()\n",
    "\n",
    "    # print value\n",
    "    # _average_waiting_time"
   ]
  },
  {
   "attachments": {},
   "cell_type": "markdown",
   "metadata": {},
   "source": [
    "## First-come, First-Served (선입선출)"
   ]
  },
  {
   "cell_type": "code",
   "execution_count": 519,
   "metadata": {},
   "outputs": [
    {
     "name": "stdout",
     "output_type": "stream",
     "text": [
      "[[1, 10], [2, 14], [999, 10], [3, 102], [4, 12], [-1, -1]]\n"
     ]
    },
    {
     "name": "stderr",
     "output_type": "stream",
     "text": [
      "/var/folders/5c/wv993t2x5_j6ck444smxp6t00000gn/T/ipykernel_28306/1557437140.py:32: UserWarning: Attempting to set identical low and high xlims makes transformation singular; automatically expanding.\n",
      "  ax.set_xlim([0, _now_time])\n"
     ]
    },
    {
     "data": {
      "image/png": "[encoded data removed]",
      "text/plain": [
       "<Figure size 1000x100 with 1 Axes>"
      ]
     },
     "metadata": {},
     "output_type": "display_data"
    }
   ],
   "source": [
    "hope = []\n",
    "tmp = sorted(json_object['list'], key=lambda x: x['Arrival_time'])\n",
    "for i in tmp:\n",
    "    hope.append([i['Num'], i['Burst_time']])\n",
    "\n",
    "hope.append([-1, -1])\n",
    "hope.insert(2, [999, 10])\n",
    "print(hope)\n",
    "draw(tmp, hope)\n"
   ]
  },
  {
   "attachments": {},
   "cell_type": "markdown",
   "metadata": {},
   "source": [
    "## Priority First Served (우선순위먼저)"
   ]
  },
  {
   "cell_type": "code",
   "execution_count": 520,
   "metadata": {},
   "outputs": [
    {
     "name": "stdout",
     "output_type": "stream",
     "text": [
      "[[3, 102], [4, 12], [1, 10], [2, 14], [-1, -1]]\n"
     ]
    },
    {
     "name": "stderr",
     "output_type": "stream",
     "text": [
      "/var/folders/5c/wv993t2x5_j6ck444smxp6t00000gn/T/ipykernel_28306/1557437140.py:32: UserWarning: Attempting to set identical low and high xlims makes transformation singular; automatically expanding.\n",
      "  ax.set_xlim([0, _now_time])\n"
     ]
    },
    {
     "data": {
      "image/png": "[encoded data removed]",
      "text/plain": [
       "<Figure size 1000x100 with 1 Axes>"
      ]
     },
     "metadata": {},
     "output_type": "display_data"
    }
   ],
   "source": [
    "hope = []\n",
    "tmp = sorted(json_object['list'], key=lambda x: x['Priority'])\n",
    "for i in tmp:\n",
    "    hope.append([i['Num'], i['Burst_time']])\n",
    "hope.append([-1, -1])\n",
    "print(hope)\n",
    "draw(tmp, hope)\n"
   ]
  }
 ],
 "metadata": {
  "kernelspec": {
   "display_name": "Python 3",
   "language": "python",
   "name": "python3"
  },
  "language_info": {
   "codemirror_mode": {
    "name": "ipython",
    "version": 3
   },
   "file_extension": ".py",
   "mimetype": "text/x-python",
   "name": "python",
   "nbconvert_exporter": "python",
   "pygments_lexer": "ipython3",
   "version": "3.11.0"
  },
  "orig_nbformat": 4
 },
 "nbformat": 4,
 "nbformat_minor": 2
}
