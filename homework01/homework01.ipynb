{
 "cells": [
  {
   "attachments": {},
   "cell_type": "markdown",
   "metadata": {},
   "source": [
    "# 0. 운영체제 과제 01\n",
    "- 201901763 이지호"
   ]
  },
  {
   "attachments": {},
   "cell_type": "markdown",
   "metadata": {},
   "source": [
    "- 과제 1\n",
    "- 마감 : 4월 30일(일) 저녁 6시까지\n",
    "- 내용 :\n",
    "    - 수업때 이야기한 모든 스케줄링 방법을 구현하고 성능(5가지) 비교\n",
    "    - Json 파일로 입력정보를 주면 포맷을 체크해서 비교판단\n",
    "    - 실시간스케줄링과 비실시간스케줄링을 Json  입력파일로 자동 구분처리\n",
    "    - 파이썬만 사용, 간트차트 출력을 포함하여 5가지를 모두 비교하고, 각 입력 데이터에 대해 그 중 종합적으로 제일 나은 방법을 \"자동\" 결과 리포팅 (리포팅 내용을 간단한 설명을 포함하여 자동 생성)\n",
    "    - 숫자 결과와 그래픽결과를 모두 나타내고 자동으로 리포팅\n",
    "    - chatGPT 포함한 외부 자료 사용 절대 금함. 특성을 이미 잘 알고 있으므로,  사용흔적이 보이면 0점 처리\n",
    "\n",
    "    - MarkDown 문서로 설명과 해설 그리고 주석이 포함된 주피터노트북 파일(*.ipynb 파일) 과 해당 파일을 PDF 로 저장한 파일, 입력에 사용하는 json 파일 3개 (입력예제 3개임) 등, 총 5개를 이러닝 사이트에 제출함.\n",
    "\n",
    "    - 실행 결과는 절대 평가함. (제대로 되었는지 여부, 제출한 입력 포맷에 평가 데이터를 적용해서 진행)\n",
    "    - 전체 결과는 등급제로 상대 평가함. 열심히 코드 만들고, 열심히 최선의 결과를 잘 만든 사람에게 높은 등급\n",
    "\n",
    "    - 위 내용을 기준으로 추가로 필요한 부분은 스스로 판단해서 진행하면 됨. 의도에서 벗어나거나 축소되면 안됨."
   ]
  },
  {
   "attachments": {},
   "cell_type": "markdown",
   "metadata": {},
   "source": [
    "# 1. 분석 준비"
   ]
  },
  {
   "attachments": {},
   "cell_type": "markdown",
   "metadata": {},
   "source": [
    "## 1.1. Load data\n",
    "- 아래 변수 숫자 (int) 변경해가며, (1), (2), (3)번 case 마다 실행 가능."
   ]
  },
  {
   "cell_type": "code",
   "execution_count": 207,
   "metadata": {},
   "outputs": [],
   "source": [
    "import copy\n",
    "import matplotlib.pyplot as plt\n",
    "import json\n",
    "\n",
    "# _JSON_NUM_ 변경해가며 출력 가능\n",
    "_JSON_NUM_ = 1\n",
    "# 입력할 전체 프로세스들의 시간 길이. 스케쥴링 완료 시 이전에 for문 종료\n",
    "_MAX_TIME_LENGTH_ = 999\n",
    "# Round robin\n",
    "_QUANTUM_TIME_ = 20\n",
    "# print flag\n",
    "_PRINT_FLAG_ = False"
   ]
  },
  {
   "cell_type": "code",
   "execution_count": 208,
   "metadata": {},
   "outputs": [
    {
     "name": "stdout",
     "output_type": "stream",
     "text": [
      "--Data_loader-----------------\n",
      "- Num of Process : 5\n",
      "- Data Loading Success\n"
     ]
    }
   ],
   "source": [
    "\n",
    "def data_loader():\n",
    "    print(\"--Data_loader-----------------\")\n",
    "    _jsonfilename = \"case\" + str(_JSON_NUM_) + \".json\"\n",
    "    with open(_jsonfilename) as f:\n",
    "        json_object = json.load(f)\n",
    "\n",
    "    num_of_processs = len(json_object['list'])\n",
    "    print(\"- Num of Process :\", num_of_processs)\n",
    "\n",
    "    # data checking\n",
    "    assert json_object['list']\n",
    "    for i in range(num_of_processs):\n",
    "        assert json_object['list'][i][\"Num\"] > 0\n",
    "        assert json_object['list'][i][\"Burst_time\"] > 0\n",
    "        assert json_object['list'][i][\"Priority\"] > 0\n",
    "        assert json_object['list'][i][\"Arrival_time\"] >= 0\n",
    "    print(\"- Data Loading Success\")\n",
    "\n",
    "    return json_object\n",
    "\n",
    "_DATA_ = data_loader()[\"list\"]\n"
   ]
  },
  {
   "attachments": {},
   "cell_type": "markdown",
   "metadata": {},
   "source": [
    "- Color List\n",
    "    - Process 마다 같은 색으로 시각화 하기 위해 색상표 작성.\n",
    "    - \"_COLORS_\" 변수 길이 이상의 Process 갯수가 입력 될 시, 랜덤 색상 배정."
   ]
  },
  {
   "cell_type": "code",
   "execution_count": null,
   "metadata": {},
   "outputs": [],
   "source": [
    "file = open(\"color_list.txt\", \"r\")\n",
    "_COLORS_ = file.read().splitlines()\n",
    "file.close()\n",
    "print(\"_COLORS_ length is :\", len(_COLORS_))\n"
   ]
  },
  {
   "attachments": {},
   "cell_type": "markdown",
   "metadata": {},
   "source": [
    "## 1.2. Function\n",
    "- Gantt chart 작성하는 함수.\n",
    "- 프로세스 목록 json 파일 + Order 배열만으로 ploting 일반화 함.\n",
    "    - ex...\n",
    "    - Order == [[1, 50], [2, 30], [3, 40]]\n",
    "    - 1번 프로세스 50, 이후 2번 프로세스 30, 이후 3번 프로세스 40.. "
   ]
  },
  {
   "cell_type": "code",
   "execution_count": 209,
   "metadata": {},
   "outputs": [],
   "source": [
    "_ALL_JOB_IS_DONE_ = -999\n",
    "_NON_PROCESS_ = -1\n",
    "\n",
    "def draw(_order):\n",
    "    print(\"- Order is :\", _order)\n",
    "    if (_PRINT_FLAG_ == True):\n",
    "        print(\"--Start Analysis--------------\")\n",
    "    fig, ax = plt.subplots(figsize=(10, 1))\n",
    "    _process = copy.deepcopy(_DATA_)\n",
    "    _sum_of_busrt_time = 0\n",
    "    _sum_of_response_time = 0\n",
    "    _sum_of_turnaround_time = 0\n",
    "    _sum_of_running_time = 0\n",
    "    _now_time = 0\n",
    "    _cumsum_waiting_time = 0\n",
    "\n",
    "    _xlim_tickers = []\n",
    "\n",
    "    # 완전동작 카운터\n",
    "    _start_counter = 0\n",
    "    _done_counter = 0\n",
    "\n",
    "    for _pid, _runtime in _order:\n",
    "        # NOT CPU RUNNING\n",
    "        if (_pid < 0):\n",
    "            if (_runtime > 0):\n",
    "                # TAKE A REST\n",
    "                _now_time += _runtime\n",
    "                continue\n",
    "            elif (_runtime == _ALL_JOB_IS_DONE_):\n",
    "                # ALL JOP IS DONE\n",
    "                break\n",
    "        # CPU RUNNING\n",
    "        else:\n",
    "            # P_num은 1부터 시작하기에, index 맞추는 용도.\n",
    "            _JUST_PRINT_IDX_ = _pid\n",
    "            for i in range(len(_process)):\n",
    "                if (_process[i]['Num'] == _pid):\n",
    "                    _target = _process[i]\n",
    "            \n",
    "            # First come in CPU\n",
    "            if (_target['Priority'] > 0):\n",
    "                _sum_of_response_time += _now_time\n",
    "                if (_PRINT_FLAG_ == True):\n",
    "                    print(\"START - P\", _JUST_PRINT_IDX_, \"    time is\", _now_time)\n",
    "                # target의 우선순위에 음수로 시작시간 저장\n",
    "                # order는 정해져있고, Priority는 이 단계에서 사용하지 않음.\n",
    "                _target['Priority'] = 0\n",
    "                _target['Priority'] = - _now_time\n",
    "                _start_counter += 1\n",
    "                _xlim_tickers.append(_now_time)\n",
    "            \n",
    "            _sum_of_busrt_time += _target['Burst_time']\n",
    "            _cumsum_waiting_time += _now_time\n",
    "            \n",
    "            ax.barh(0, _runtime, left=_now_time,\n",
    "                    edgecolor='black', color=_COLORS_[_JUST_PRINT_IDX_-1])\n",
    "            _now_time += _runtime\n",
    "            ax.text(_now_time - _runtime/2, 0,\n",
    "                    ('P'+str(_JUST_PRINT_IDX_)), ha='center', va='center')\n",
    "            _xlim_tickers.append(_now_time)\n",
    "            \n",
    "            # burst_time - running time\n",
    "            _target['Burst_time'] -= _runtime\n",
    "            \n",
    "            # JOP IS DONE ?\n",
    "            if (_target['Burst_time'] == 0):\n",
    "                if (_PRINT_FLAG_ == True):\n",
    "                    print(\" P\", _JUST_PRINT_IDX_, \"Turnaround time is\",_now_time - _target['Arrival_time'])\n",
    "                _sum_of_turnaround_time += _now_time - _target['Arrival_time']\n",
    "                if (_PRINT_FLAG_ == True):\n",
    "                    print(\" P\", _JUST_PRINT_IDX_, \"Running    time is\", _now_time -abs(_target['Priority']))\n",
    "                _sum_of_running_time += _now_time - abs(_target['Priority'])\n",
    "                if (_PRINT_FLAG_ == True):\n",
    "                    print(\"EXIT  - P\", _JUST_PRINT_IDX_, \"    time is\", _now_time)\n",
    "                    print(\"\")\n",
    "                _done_counter +=1\n",
    "                \n",
    "    # ploting\n",
    "    if (_PRINT_FLAG_ == True):\n",
    "        print(\"------------------------------\")\n",
    "    ax.set_xticks(_xlim_tickers)\n",
    "    ax.set_xlim([0, _now_time])\n",
    "    ax.set_yticks([])\n",
    "    if (_start_counter != len(_process)):\n",
    "        print(\"응 오류야 ㅋㅋ~ 정상시작 횟수 :\", _start_counter)\n",
    "    else:\n",
    "        print(\"ALL START GOOD JOB!!!\")\n",
    "    if (_done_counter != len(_process)):\n",
    "        print(\"응 오류야 ㅋㅋ~ 정상종료 횟수 :\", _done_counter)\n",
    "    else:\n",
    "        print(\"ALL EXIT  GOOD JOB!!!\")\n",
    "    plt.show()\n",
    "    \n",
    "\n",
    "    # print value\n",
    "    if (_PRINT_FLAG_ == True):\n",
    "        # cpu 이용률    \n",
    "        print(\"CPU utilization : %2.2f\" % float(_sum_of_busrt_time/_now_time*100), \"%\")\n",
    "        # 단위 시간당 처리된 프로세스의 개수\n",
    "        print(\"Throughput :\", len(_process)/_now_time)\n",
    "        # 프로세스를 cpu가 실행하지 않은 평균 대기시간\n",
    "        print(\"Average waiting time :\", _cumsum_waiting_time/len(_process))\n",
    "        # 프로세스를 처음으로 실행하는 데에 걸린 시간\n",
    "        print(\"Average Response time :\", _sum_of_response_time/len(_process))\n",
    "        # 시작하고 나서부터 완료까지 걸린 시간\n",
    "        print(\"Average Running time :\", _sum_of_running_time/len(_process))\n",
    "        # 처음 대기 부터, 작업 완료에 대한 총 소요 시간 / p's 종료시점 - arrival_time\n",
    "        print(\"Average Turnaround time :\", _sum_of_turnaround_time/len(_process))"
   ]
  },
  {
   "attachments": {},
   "cell_type": "markdown",
   "metadata": {},
   "source": [
    "- 해당 list에 들은 burst time의 합이 0인지 판단하기\n"
   ]
  },
  {
   "cell_type": "code",
   "execution_count": 210,
   "metadata": {},
   "outputs": [],
   "source": [
    "def is_complete(_list):\n",
    "    # 해당 list에 들은 burst time의 합이 0인이 판단하기\n",
    "    _sum_of_all_burst_time = 0\n",
    "    for i in _list:\n",
    "        _sum_of_all_burst_time += i['Burst_time']\n",
    "    if (_sum_of_all_burst_time == 0):\n",
    "        return True\n",
    "    else:\n",
    "        return False"
   ]
  },
  {
   "attachments": {},
   "cell_type": "markdown",
   "metadata": {},
   "source": [
    "- order 압축기"
   ]
  },
  {
   "cell_type": "code",
   "execution_count": 229,
   "metadata": {},
   "outputs": [],
   "source": [
    "def order_zip(_order):\n",
    "    # _order 압축기\n",
    "    # [5, 1]. [5, 1],..을 [5, 2]로 압축해줌\n",
    "    _idx = 0\n",
    "    while (_idx < len(_order)):\n",
    "        # 만약 종료 지점 만나면 무한루프 탈출\n",
    "        if (_order[_idx] == [_NON_PROCESS_, _ALL_JOB_IS_DONE_]):\n",
    "            break\n",
    "        # 만약 같은 프로세스의 작업지시 만나면 합체\n",
    "        elif (_order[_idx][0] == _order[_idx + 1][0]):\n",
    "            _order[_idx + 1][1] += _order[_idx][1]\n",
    "            _order.pop(_idx)\n",
    "        # 다른 프로세스 만난거면 다음 process 압축하러 넘어감\n",
    "        else:\n",
    "            _idx += 1\n",
    "    return _order\n"
   ]
  },
  {
   "attachments": {},
   "cell_type": "markdown",
   "metadata": {},
   "source": [
    "# 2. 비선점형"
   ]
  },
  {
   "attachments": {},
   "cell_type": "markdown",
   "metadata": {},
   "source": [
    "## 2.1. First-come, First-Served (선입선출) OK\n",
    "- 도착시간만 고려\n",
    "- 기본 Arrival_time 정렬, 동일 시간 도착 시 프로세스 번호 순"
   ]
  },
  {
   "cell_type": "code",
   "execution_count": 211,
   "metadata": {},
   "outputs": [
    {
     "name": "stdout",
     "output_type": "stream",
     "text": [
      "- Order is : [[5, 30], [1, 30], [2, 10], [-1, 1], [-1, 1], [-1, 1], [-1, 1], [-1, 1], [-1, 1], [-1, 1], [-1, 1], [-1, 1], [-1, 1], [-1, 1], [-1, 1], [-1, 1], [-1, 1], [-1, 1], [-1, 1], [-1, 1], [-1, 1], [-1, 1], [-1, 1], [-1, 1], [-1, 1], [-1, 1], [-1, 1], [-1, 1], [-1, 1], [-1, 1], [-1, 1], [-1, 1], [-1, 1], [4, 50], [3, 25], [-1, -999]]\n",
      "ALL START GOOD JOB!!!\n",
      "ALL EXIT  GOOD JOB!!!\n"
     ]
    },
    {
     "data": {
      "image/png": "[encoded data removed]",
      "text/plain": [
       "<Figure size 1000x100 with 1 Axes>"
      ]
     },
     "metadata": {},
     "output_type": "display_data"
    }
   ],
   "source": [
    "def FCFO():\n",
    "    _order = []\n",
    "    _list = copy.deepcopy(_DATA_)\n",
    "    _list = sorted(_list, key=lambda x: x['Arrival_time'])\n",
    "\n",
    "    _end_time = 0\n",
    "    # arrival_time 고려해야하니 timer 작동\n",
    "    for _now_time in range(_MAX_TIME_LENGTH_):\n",
    "        # 만약 모든 Burst_time 합이 0이면 모든 작업이 종료된 것\n",
    "        # 다만 마지막 작업 추가했을 때와, _now_time간 오차있음.\n",
    "        if (is_complete(_list) == True):\n",
    "            _order.append([_NON_PROCESS_, _ALL_JOB_IS_DONE_])\n",
    "            break\n",
    "        # 아직 안 끝남.\n",
    "        else:\n",
    "            # 노는 중\n",
    "            if (_end_time < _now_time):\n",
    "                # take a rest 1sec == timer speed\n",
    "                _order.append([_NON_PROCESS_, 1])\n",
    "                _end_time += 1\n",
    "                \n",
    "            # 현재 시간에 도착해있는 작업들 리스트업\n",
    "            for _process in _list:\n",
    "                if (_process['Arrival_time'] == _now_time):\n",
    "                    _order.append([_process['Num'], _process['Burst_time']])\n",
    "                    _end_time += _process['Burst_time']\n",
    "                    _process['Burst_time'] = 0\n",
    "    draw(_order)\n",
    "    \n",
    "FCFO()"
   ]
  },
  {
   "attachments": {},
   "cell_type": "markdown",
   "metadata": {},
   "source": [
    "## 2.2. Shortest-Job-First (최단길이작업우선) OK\n",
    "- Burst_time만 고려\n",
    "- 기본 Arrival_time 정렬, 동일 시간 도착 시 프로세스 번호 순"
   ]
  },
  {
   "cell_type": "code",
   "execution_count": 212,
   "metadata": {},
   "outputs": [
    {
     "name": "stdout",
     "output_type": "stream",
     "text": [
      "- Order is : [[5, 30], [1, 30], [2, 10], [-1, 1], [-1, 1], [-1, 1], [-1, 1], [-1, 1], [-1, 1], [-1, 1], [-1, 1], [-1, 1], [-1, 1], [-1, 1], [-1, 1], [-1, 1], [-1, 1], [-1, 1], [-1, 1], [-1, 1], [-1, 1], [-1, 1], [-1, 1], [-1, 1], [-1, 1], [-1, 1], [-1, 1], [-1, 1], [-1, 1], [-1, 1], [-1, 1], [-1, 1], [-1, 1], [4, 50], [3, 25], [-1, -999]]\n",
      "ALL START GOOD JOB!!!\n",
      "ALL EXIT  GOOD JOB!!!\n"
     ]
    },
    {
     "data": {
      "image/png": "[encoded data removed]",
      "text/plain": [
       "<Figure size 1000x100 with 1 Axes>"
      ]
     },
     "metadata": {},
     "output_type": "display_data"
    }
   ],
   "source": [
    "def SJF():\n",
    "    _order = []\n",
    "    _list = copy.deepcopy(_DATA_)\n",
    "    _list = sorted(_list, key=lambda x: x['Arrival_time'])\n",
    "\n",
    "    _end_time = 0\n",
    "    # arrival_time 고려해야하니 timer 작동\n",
    "    for _now_time in range(_MAX_TIME_LENGTH_):\n",
    "        # 만약 모든 Burst_time 합이 0이면 모든 작업이 종료된 것\n",
    "        # 다만 마지막 작업 추가했을 때와, _now_time간 오차있음.\n",
    "        if (is_complete(_list) == True):\n",
    "            _order.append([_NON_PROCESS_, _ALL_JOB_IS_DONE_])\n",
    "            break\n",
    "        # 아직 안 끝남.\n",
    "        else:\n",
    "            # 노는 중\n",
    "            if (_end_time < _now_time):\n",
    "                # take a rest 1sec == timer speed\n",
    "                _order.append([_NON_PROCESS_, 1])\n",
    "                _end_time += 1\n",
    "                \n",
    "            # 현재 시간에 도착해있는 작업들 리스트업\n",
    "            _queue = []\n",
    "            for _process in _list:\n",
    "                if (_process['Arrival_time'] == _now_time):\n",
    "                    _queue.append(_process)\n",
    "            \n",
    "            # 정렬 후 order에 추가    \n",
    "            _queue.sort(key=lambda x: x['Burst_time'])\n",
    "            for _process in _queue:\n",
    "                _order.append([_process['Num'], _process['Burst_time']])\n",
    "                _end_time += _process['Burst_time']\n",
    "                _process['Burst_time'] = 0\n",
    "    draw(_order)\n",
    "\n",
    "SJF()"
   ]
  },
  {
   "attachments": {},
   "cell_type": "markdown",
   "metadata": {},
   "source": [
    "## 2.3. Priority First Served (우선순위먼저) \n",
    "- Burst_time, Priority 고려\n",
    "- 기본 Arrival_time 정렬, 동일 시간 도착 시 프로세스 번호 순\n",
    "- 우선 순위 동일 시 프로세스 번호 순"
   ]
  },
  {
   "cell_type": "code",
   "execution_count": 213,
   "metadata": {},
   "outputs": [
    {
     "name": "stdout",
     "output_type": "stream",
     "text": [
      "- Order is : [[5, 30], [1, 30], [2, 10], [-1, 1], [-1, 1], [-1, 1], [-1, 1], [-1, 1], [-1, 1], [-1, 1], [-1, 1], [-1, 1], [-1, 1], [-1, 1], [-1, 1], [-1, 1], [-1, 1], [-1, 1], [-1, 1], [-1, 1], [-1, 1], [-1, 1], [-1, 1], [-1, 1], [-1, 1], [-1, 1], [-1, 1], [-1, 1], [-1, 1], [-1, 1], [-1, 1], [-1, 1], [-1, 1], [4, 50], [3, 25], [-1, -999]]\n",
      "ALL START GOOD JOB!!!\n",
      "ALL EXIT  GOOD JOB!!!\n"
     ]
    },
    {
     "data": {
      "image/png": "[encoded data removed]",
      "text/plain": [
       "<Figure size 1000x100 with 1 Axes>"
      ]
     },
     "metadata": {},
     "output_type": "display_data"
    }
   ],
   "source": [
    "def Priority():\n",
    "    _order = []\n",
    "    _list = copy.deepcopy(_DATA_)\n",
    "    _list = sorted(_list, key=lambda x: x['Arrival_time'])\n",
    "\n",
    "    _end_time = 0\n",
    "    # arrival_time 고려해야하니 timer 작동\n",
    "    for _now_time in range(_MAX_TIME_LENGTH_):\n",
    "        # 만약 모든 Burst_time 합이 0이면 모든 작업이 종료된 것\n",
    "        # 다만 마지막 작업 추가했을 때와, _now_time간 오차있음.\n",
    "        if (is_complete(_list) == True):\n",
    "            _order.append([_NON_PROCESS_, _ALL_JOB_IS_DONE_])\n",
    "            break\n",
    "        # 아직 안 끝남.\n",
    "        else:\n",
    "            # 노는 중\n",
    "            if (_end_time < _now_time):\n",
    "                # take a rest 1sec == timer speed\n",
    "                _order.append([_NON_PROCESS_, 1])\n",
    "                _end_time += 1\n",
    "\n",
    "            # 현재 시간에 도착해있는 작업들 리스트업\n",
    "            _queue = []\n",
    "            for _process in _list:\n",
    "                if (_process['Arrival_time'] == _now_time):\n",
    "                    _queue.append(_process)\n",
    "\n",
    "            # 정렬 후 order에 추가\n",
    "            _queue.sort(key=lambda x: x['Priority'])\n",
    "            for _process in _queue:\n",
    "                _order.append([_process['Num'], _process['Burst_time']])\n",
    "                _end_time += _process['Burst_time']\n",
    "                _process['Burst_time'] = 0\n",
    "\n",
    "    draw(_order)\n",
    "\n",
    "Priority()\n"
   ]
  },
  {
   "attachments": {},
   "cell_type": "markdown",
   "metadata": {},
   "source": [
    "## 2.4. Round robin(퀀텀타임대로 순회) \n",
    "- Burst_time만 고려\n",
    "- 기본 Arrival_time 정렬, 동일 시간 도착 시 프로세스 번호 순"
   ]
  },
  {
   "cell_type": "code",
   "execution_count": 214,
   "metadata": {},
   "outputs": [
    {
     "name": "stdout",
     "output_type": "stream",
     "text": [
      "- Order is : [[5, 20], [1, 20], [2, 10], [5, 10], [1, 10], [-1, 1], [-1, 1], [-1, 1], [-1, 1], [-1, 1], [-1, 1], [-1, 1], [-1, 1], [-1, 1], [-1, 1], [-1, 1], [-1, 1], [-1, 1], [-1, 1], [-1, 1], [-1, 1], [-1, 1], [-1, 1], [-1, 1], [-1, 1], [-1, 1], [-1, 1], [-1, 1], [-1, 1], [-1, 1], [-1, 1], [-1, 1], [-1, 1], [-1, 1], [-1, 1], [4, 20], [3, 20], [4, 20], [3, 5], [4, 10], [-1, -999]]\n",
      "ALL START GOOD JOB!!!\n",
      "ALL EXIT  GOOD JOB!!!\n"
     ]
    },
    {
     "data": {
      "image/png": "[encoded data removed]",
      "text/plain": [
       "<Figure size 1000x100 with 1 Axes>"
      ]
     },
     "metadata": {},
     "output_type": "display_data"
    }
   ],
   "source": [
    "def RR():\n",
    "    _order = []\n",
    "    _list = copy.deepcopy(_DATA_)\n",
    "    _list = sorted(_list, key=lambda x: x['Arrival_time'])\n",
    "    #########################\n",
    "    # round robin이나 선점형에선 작업 추가 후 다시 볼 일이 있기 때문에 해당 변수 초기화하면 안 됨.\n",
    "    _queue = []\n",
    "    #########################\n",
    "    _end_time = 0\n",
    "    # arrival_time 고려해야하니 timer 작동\n",
    "    for _now_time in range(_MAX_TIME_LENGTH_):\n",
    "        \n",
    "        # 만약 모든 Burst_time 합이 0이면 모든 작업이 종료된 것\n",
    "        # 다만 마지막 작업 추가했을 때와, _now_time간 오차있음.\n",
    "        if (is_complete(_list) == True):\n",
    "            _order.append([_NON_PROCESS_, _ALL_JOB_IS_DONE_])\n",
    "            break\n",
    "        # 아직 안 끝남.\n",
    "        else:\n",
    "            # 노는 중\n",
    "            if (_end_time < _now_time):\n",
    "                # take a rest 1sec == timer speed\n",
    "                _order.append([_NON_PROCESS_, 1])\n",
    "                _end_time += 1\n",
    "                \n",
    "            # 현재 시간에 도착해있는 작업들 리스트업\n",
    "            for _process in _list:\n",
    "                if (_process['Arrival_time'] == _now_time):\n",
    "                    # _arrival_list.append(_process)\n",
    "                    _queue.append(_process)\n",
    "            \n",
    "            # _QUANTUM_TIME_ 마다 큐에서 스케쥴링\n",
    "            if (_now_time % _QUANTUM_TIME_ == 0):\n",
    "                _queue.sort(key=lambda x: x['Num'])\n",
    "                for _process in _queue:\n",
    "                    if (_process['Burst_time'] > 0):\n",
    "                        if (_process['Burst_time'] > _QUANTUM_TIME_):\n",
    "                            _order.append([_process['Num'], _QUANTUM_TIME_])\n",
    "                            _end_time += _QUANTUM_TIME_\n",
    "                            _process['Burst_time'] -= _QUANTUM_TIME_\n",
    "                        else:\n",
    "                            _order.append([_process['Num'], _process['Burst_time']])\n",
    "                            _end_time += _process['Burst_time']\n",
    "                            _process['Burst_time'] = 0\n",
    "    draw(_order)\n",
    "\n",
    "RR()"
   ]
  },
  {
   "attachments": {},
   "cell_type": "markdown",
   "metadata": {},
   "source": [
    "## 2.5. Priority + Round robin"
   ]
  },
  {
   "cell_type": "code",
   "execution_count": 215,
   "metadata": {},
   "outputs": [
    {
     "name": "stdout",
     "output_type": "stream",
     "text": [
      "- Order is : [[5, 20], [2, 10], [1, 20], [5, 10], [1, 10], [-1, 1], [-1, 1], [-1, 1], [-1, 1], [-1, 1], [-1, 1], [-1, 1], [-1, 1], [-1, 1], [-1, 1], [-1, 1], [-1, 1], [-1, 1], [-1, 1], [-1, 1], [-1, 1], [-1, 1], [-1, 1], [-1, 1], [-1, 1], [-1, 1], [-1, 1], [-1, 1], [-1, 1], [-1, 1], [-1, 1], [-1, 1], [-1, 1], [-1, 1], [-1, 1], [4, 20], [4, 20], [3, 20], [4, 10], [3, 5], [-1, -999]]\n",
      "ALL START GOOD JOB!!!\n",
      "ALL EXIT  GOOD JOB!!!\n"
     ]
    },
    {
     "data": {
      "image/png": "[encoded data removed]",
      "text/plain": [
       "<Figure size 1000x100 with 1 Axes>"
      ]
     },
     "metadata": {},
     "output_type": "display_data"
    }
   ],
   "source": [
    "def Priority_RR():\n",
    "    _order = []\n",
    "    _list = copy.deepcopy(_DATA_)\n",
    "    _list = sorted(_list, key=lambda x: x['Arrival_time'])\n",
    "    #########################\n",
    "    # round robin이나 선점형에선 작업 추가 후 다시 볼 일이 있기 때문에 해당 변수 초기화하면 안 됨.\n",
    "    _queue = []\n",
    "    #########################\n",
    "    _end_time = 0\n",
    "    # arrival_time 고려해야하니 timer 작동\n",
    "    for _now_time in range(_MAX_TIME_LENGTH_):\n",
    "\n",
    "        # 만약 모든 Burst_time 합이 0이면 모든 작업이 종료된 것\n",
    "        # 다만 마지막 작업 추가했을 때와, _now_time간 오차있음.\n",
    "        if (is_complete(_list) == True):\n",
    "            _order.append([_NON_PROCESS_, _ALL_JOB_IS_DONE_])\n",
    "            break\n",
    "        # 아직 안 끝남.\n",
    "        else:\n",
    "            # 노는 중\n",
    "            if (_end_time < _now_time):\n",
    "                # take a rest 1sec == timer speed\n",
    "                _order.append([_NON_PROCESS_, 1])\n",
    "                _end_time += 1\n",
    "\n",
    "            # 현재 시간에 도착해있는 작업들 리스트업\n",
    "            for _process in _list:\n",
    "                if (_process['Arrival_time'] == _now_time):\n",
    "                    # _arrival_list.append(_process)\n",
    "                    _queue.append(_process)\n",
    "\n",
    "            # _QUANTUM_TIME_ 마다 큐에서 스케쥴링\n",
    "            if (_now_time % _QUANTUM_TIME_ == 0):\n",
    "                _queue.sort(key=lambda x: x['Priority'])\n",
    "                for _process in _queue:\n",
    "                    if (_process['Burst_time'] > 0):\n",
    "                        if (_process['Burst_time'] > _QUANTUM_TIME_):\n",
    "                            _order.append([_process['Num'], _QUANTUM_TIME_])\n",
    "                            _end_time += _QUANTUM_TIME_\n",
    "                            _process['Burst_time'] -= _QUANTUM_TIME_\n",
    "                        else:\n",
    "                            _order.append(\n",
    "                                [_process['Num'], _process['Burst_time']])\n",
    "                            _end_time += _process['Burst_time']\n",
    "                            _process['Burst_time'] = 0\n",
    "    \n",
    "    _order = order_zip(_order)\n",
    "    draw(_order)\n",
    "\n",
    "\n",
    "Priority_RR()"
   ]
  },
  {
   "attachments": {},
   "cell_type": "markdown",
   "metadata": {},
   "source": [
    "# 3. 선점형"
   ]
  },
  {
   "attachments": {},
   "cell_type": "markdown",
   "metadata": {},
   "source": [
    "## 3.1. Shortest-Job-First (최단작업우선)\n",
    "- Arrival_time, Burst_time 고려"
   ]
  },
  {
   "cell_type": "code",
   "execution_count": 216,
   "metadata": {},
   "outputs": [
    {
     "name": "stdout",
     "output_type": "stream",
     "text": [
      "[{'Num': 5, 'Burst_time': 30, 'Priority': 8, 'Arrival_time': 0}]\n",
      "[{'Num': 5, 'Burst_time': 29, 'Priority': 8, 'Arrival_time': 0}]\n",
      "[{'Num': 5, 'Burst_time': 28, 'Priority': 8, 'Arrival_time': 0}]\n",
      "[{'Num': 5, 'Burst_time': 27, 'Priority': 8, 'Arrival_time': 0}]\n",
      "[{'Num': 5, 'Burst_time': 26, 'Priority': 8, 'Arrival_time': 0}]\n",
      "[{'Num': 5, 'Burst_time': 25, 'Priority': 8, 'Arrival_time': 0}]\n",
      "[{'Num': 5, 'Burst_time': 24, 'Priority': 8, 'Arrival_time': 0}]\n",
      "[{'Num': 5, 'Burst_time': 23, 'Priority': 8, 'Arrival_time': 0}]\n",
      "[{'Num': 5, 'Burst_time': 22, 'Priority': 8, 'Arrival_time': 0}]\n",
      "[{'Num': 5, 'Burst_time': 21, 'Priority': 8, 'Arrival_time': 0}]\n",
      "[{'Num': 5, 'Burst_time': 20, 'Priority': 8, 'Arrival_time': 0}, {'Num': 1, 'Burst_time': 30, 'Priority': 5, 'Arrival_time': 10}]\n",
      "[{'Num': 5, 'Burst_time': 19, 'Priority': 8, 'Arrival_time': 0}, {'Num': 1, 'Burst_time': 29, 'Priority': 5, 'Arrival_time': 10}]\n",
      "[{'Num': 5, 'Burst_time': 18, 'Priority': 8, 'Arrival_time': 0}, {'Num': 1, 'Burst_time': 28, 'Priority': 5, 'Arrival_time': 10}]\n",
      "[{'Num': 5, 'Burst_time': 17, 'Priority': 8, 'Arrival_time': 0}, {'Num': 1, 'Burst_time': 27, 'Priority': 5, 'Arrival_time': 10}]\n",
      "[{'Num': 5, 'Burst_time': 16, 'Priority': 8, 'Arrival_time': 0}, {'Num': 1, 'Burst_time': 26, 'Priority': 5, 'Arrival_time': 10}]\n",
      "[{'Num': 2, 'Burst_time': 10, 'Priority': 3, 'Arrival_time': 15}, {'Num': 5, 'Burst_time': 15, 'Priority': 8, 'Arrival_time': 0}, {'Num': 1, 'Burst_time': 25, 'Priority': 5, 'Arrival_time': 10}]\n",
      "[{'Num': 2, 'Burst_time': 9, 'Priority': 3, 'Arrival_time': 15}, {'Num': 5, 'Burst_time': 14, 'Priority': 8, 'Arrival_time': 0}, {'Num': 1, 'Burst_time': 24, 'Priority': 5, 'Arrival_time': 10}]\n",
      "[{'Num': 2, 'Burst_time': 8, 'Priority': 3, 'Arrival_time': 15}, {'Num': 5, 'Burst_time': 13, 'Priority': 8, 'Arrival_time': 0}, {'Num': 1, 'Burst_time': 23, 'Priority': 5, 'Arrival_time': 10}]\n",
      "[{'Num': 2, 'Burst_time': 7, 'Priority': 3, 'Arrival_time': 15}, {'Num': 5, 'Burst_time': 12, 'Priority': 8, 'Arrival_time': 0}, {'Num': 1, 'Burst_time': 22, 'Priority': 5, 'Arrival_time': 10}]\n",
      "[{'Num': 2, 'Burst_time': 6, 'Priority': 3, 'Arrival_time': 15}, {'Num': 5, 'Burst_time': 11, 'Priority': 8, 'Arrival_time': 0}, {'Num': 1, 'Burst_time': 21, 'Priority': 5, 'Arrival_time': 10}]\n",
      "[{'Num': 2, 'Burst_time': 5, 'Priority': 3, 'Arrival_time': 15}, {'Num': 5, 'Burst_time': 10, 'Priority': 8, 'Arrival_time': 0}, {'Num': 1, 'Burst_time': 20, 'Priority': 5, 'Arrival_time': 10}]\n",
      "[{'Num': 2, 'Burst_time': 4, 'Priority': 3, 'Arrival_time': 15}, {'Num': 5, 'Burst_time': 9, 'Priority': 8, 'Arrival_time': 0}, {'Num': 1, 'Burst_time': 19, 'Priority': 5, 'Arrival_time': 10}]\n",
      "[{'Num': 2, 'Burst_time': 3, 'Priority': 3, 'Arrival_time': 15}, {'Num': 5, 'Burst_time': 8, 'Priority': 8, 'Arrival_time': 0}, {'Num': 1, 'Burst_time': 18, 'Priority': 5, 'Arrival_time': 10}]\n",
      "[{'Num': 2, 'Burst_time': 2, 'Priority': 3, 'Arrival_time': 15}, {'Num': 5, 'Burst_time': 7, 'Priority': 8, 'Arrival_time': 0}, {'Num': 1, 'Burst_time': 17, 'Priority': 5, 'Arrival_time': 10}]\n",
      "[{'Num': 2, 'Burst_time': 1, 'Priority': 3, 'Arrival_time': 15}, {'Num': 5, 'Burst_time': 6, 'Priority': 8, 'Arrival_time': 0}, {'Num': 1, 'Burst_time': 16, 'Priority': 5, 'Arrival_time': 10}]\n",
      "[{'Num': 2, 'Burst_time': 0, 'Priority': 3, 'Arrival_time': 15}, {'Num': 5, 'Burst_time': 5, 'Priority': 8, 'Arrival_time': 0}, {'Num': 1, 'Burst_time': 15, 'Priority': 5, 'Arrival_time': 10}]\n",
      "[{'Num': 2, 'Burst_time': 0, 'Priority': 3, 'Arrival_time': 15}, {'Num': 5, 'Burst_time': 4, 'Priority': 8, 'Arrival_time': 0}, {'Num': 1, 'Burst_time': 14, 'Priority': 5, 'Arrival_time': 10}]\n",
      "[{'Num': 2, 'Burst_time': 0, 'Priority': 3, 'Arrival_time': 15}, {'Num': 5, 'Burst_time': 3, 'Priority': 8, 'Arrival_time': 0}, {'Num': 1, 'Burst_time': 13, 'Priority': 5, 'Arrival_time': 10}]\n",
      "[{'Num': 2, 'Burst_time': 0, 'Priority': 3, 'Arrival_time': 15}, {'Num': 5, 'Burst_time': 2, 'Priority': 8, 'Arrival_time': 0}, {'Num': 1, 'Burst_time': 12, 'Priority': 5, 'Arrival_time': 10}]\n",
      "[{'Num': 2, 'Burst_time': 0, 'Priority': 3, 'Arrival_time': 15}, {'Num': 5, 'Burst_time': 1, 'Priority': 8, 'Arrival_time': 0}, {'Num': 1, 'Burst_time': 11, 'Priority': 5, 'Arrival_time': 10}]\n",
      "[{'Num': 2, 'Burst_time': 0, 'Priority': 3, 'Arrival_time': 15}, {'Num': 5, 'Burst_time': 0, 'Priority': 8, 'Arrival_time': 0}, {'Num': 1, 'Burst_time': 10, 'Priority': 5, 'Arrival_time': 10}]\n",
      "[{'Num': 2, 'Burst_time': 0, 'Priority': 3, 'Arrival_time': 15}, {'Num': 5, 'Burst_time': 0, 'Priority': 8, 'Arrival_time': 0}, {'Num': 1, 'Burst_time': 9, 'Priority': 5, 'Arrival_time': 10}]\n",
      "[{'Num': 2, 'Burst_time': 0, 'Priority': 3, 'Arrival_time': 15}, {'Num': 5, 'Burst_time': 0, 'Priority': 8, 'Arrival_time': 0}, {'Num': 1, 'Burst_time': 8, 'Priority': 5, 'Arrival_time': 10}]\n",
      "[{'Num': 2, 'Burst_time': 0, 'Priority': 3, 'Arrival_time': 15}, {'Num': 5, 'Burst_time': 0, 'Priority': 8, 'Arrival_time': 0}, {'Num': 1, 'Burst_time': 7, 'Priority': 5, 'Arrival_time': 10}]\n",
      "[{'Num': 2, 'Burst_time': 0, 'Priority': 3, 'Arrival_time': 15}, {'Num': 5, 'Burst_time': 0, 'Priority': 8, 'Arrival_time': 0}, {'Num': 1, 'Burst_time': 6, 'Priority': 5, 'Arrival_time': 10}]\n",
      "[{'Num': 2, 'Burst_time': 0, 'Priority': 3, 'Arrival_time': 15}, {'Num': 5, 'Burst_time': 0, 'Priority': 8, 'Arrival_time': 0}, {'Num': 1, 'Burst_time': 5, 'Priority': 5, 'Arrival_time': 10}]\n",
      "[{'Num': 2, 'Burst_time': 0, 'Priority': 3, 'Arrival_time': 15}, {'Num': 5, 'Burst_time': 0, 'Priority': 8, 'Arrival_time': 0}, {'Num': 1, 'Burst_time': 4, 'Priority': 5, 'Arrival_time': 10}]\n",
      "[{'Num': 2, 'Burst_time': 0, 'Priority': 3, 'Arrival_time': 15}, {'Num': 5, 'Burst_time': 0, 'Priority': 8, 'Arrival_time': 0}, {'Num': 1, 'Burst_time': 3, 'Priority': 5, 'Arrival_time': 10}]\n",
      "[{'Num': 2, 'Burst_time': 0, 'Priority': 3, 'Arrival_time': 15}, {'Num': 5, 'Burst_time': 0, 'Priority': 8, 'Arrival_time': 0}, {'Num': 1, 'Burst_time': 2, 'Priority': 5, 'Arrival_time': 10}]\n",
      "[{'Num': 2, 'Burst_time': 0, 'Priority': 3, 'Arrival_time': 15}, {'Num': 5, 'Burst_time': 0, 'Priority': 8, 'Arrival_time': 0}, {'Num': 1, 'Burst_time': 1, 'Priority': 5, 'Arrival_time': 10}]\n",
      "[{'Num': 2, 'Burst_time': 0, 'Priority': 3, 'Arrival_time': 15}, {'Num': 5, 'Burst_time': 0, 'Priority': 8, 'Arrival_time': 0}, {'Num': 1, 'Burst_time': 0, 'Priority': 5, 'Arrival_time': 10}]\n",
      "[{'Num': 2, 'Burst_time': 0, 'Priority': 3, 'Arrival_time': 15}, {'Num': 5, 'Burst_time': 0, 'Priority': 8, 'Arrival_time': 0}, {'Num': 1, 'Burst_time': 0, 'Priority': 5, 'Arrival_time': 10}]\n",
      "[{'Num': 2, 'Burst_time': 0, 'Priority': 3, 'Arrival_time': 15}, {'Num': 5, 'Burst_time': 0, 'Priority': 8, 'Arrival_time': 0}, {'Num': 1, 'Burst_time': 0, 'Priority': 5, 'Arrival_time': 10}]\n",
      "[{'Num': 2, 'Burst_time': 0, 'Priority': 3, 'Arrival_time': 15}, {'Num': 5, 'Burst_time': 0, 'Priority': 8, 'Arrival_time': 0}, {'Num': 1, 'Burst_time': 0, 'Priority': 5, 'Arrival_time': 10}]\n",
      "[{'Num': 2, 'Burst_time': 0, 'Priority': 3, 'Arrival_time': 15}, {'Num': 5, 'Burst_time': 0, 'Priority': 8, 'Arrival_time': 0}, {'Num': 1, 'Burst_time': 0, 'Priority': 5, 'Arrival_time': 10}]\n",
      "[{'Num': 2, 'Burst_time': 0, 'Priority': 3, 'Arrival_time': 15}, {'Num': 5, 'Burst_time': 0, 'Priority': 8, 'Arrival_time': 0}, {'Num': 1, 'Burst_time': 0, 'Priority': 5, 'Arrival_time': 10}]\n",
      "[{'Num': 2, 'Burst_time': 0, 'Priority': 3, 'Arrival_time': 15}, {'Num': 5, 'Burst_time': 0, 'Priority': 8, 'Arrival_time': 0}, {'Num': 1, 'Burst_time': 0, 'Priority': 5, 'Arrival_time': 10}]\n",
      "[{'Num': 2, 'Burst_time': 0, 'Priority': 3, 'Arrival_time': 15}, {'Num': 5, 'Burst_time': 0, 'Priority': 8, 'Arrival_time': 0}, {'Num': 1, 'Burst_time': 0, 'Priority': 5, 'Arrival_time': 10}]\n",
      "[{'Num': 2, 'Burst_time': 0, 'Priority': 3, 'Arrival_time': 15}, {'Num': 5, 'Burst_time': 0, 'Priority': 8, 'Arrival_time': 0}, {'Num': 1, 'Burst_time': 0, 'Priority': 5, 'Arrival_time': 10}]\n",
      "[{'Num': 2, 'Burst_time': 0, 'Priority': 3, 'Arrival_time': 15}, {'Num': 5, 'Burst_time': 0, 'Priority': 8, 'Arrival_time': 0}, {'Num': 1, 'Burst_time': 0, 'Priority': 5, 'Arrival_time': 10}]\n",
      "[{'Num': 2, 'Burst_time': 0, 'Priority': 3, 'Arrival_time': 15}, {'Num': 5, 'Burst_time': 0, 'Priority': 8, 'Arrival_time': 0}, {'Num': 1, 'Burst_time': 0, 'Priority': 5, 'Arrival_time': 10}]\n",
      "[{'Num': 2, 'Burst_time': 0, 'Priority': 3, 'Arrival_time': 15}, {'Num': 5, 'Burst_time': 0, 'Priority': 8, 'Arrival_time': 0}, {'Num': 1, 'Burst_time': 0, 'Priority': 5, 'Arrival_time': 10}]\n",
      "[{'Num': 2, 'Burst_time': 0, 'Priority': 3, 'Arrival_time': 15}, {'Num': 5, 'Burst_time': 0, 'Priority': 8, 'Arrival_time': 0}, {'Num': 1, 'Burst_time': 0, 'Priority': 5, 'Arrival_time': 10}]\n",
      "[{'Num': 2, 'Burst_time': 0, 'Priority': 3, 'Arrival_time': 15}, {'Num': 5, 'Burst_time': 0, 'Priority': 8, 'Arrival_time': 0}, {'Num': 1, 'Burst_time': 0, 'Priority': 5, 'Arrival_time': 10}]\n",
      "[{'Num': 2, 'Burst_time': 0, 'Priority': 3, 'Arrival_time': 15}, {'Num': 5, 'Burst_time': 0, 'Priority': 8, 'Arrival_time': 0}, {'Num': 1, 'Burst_time': 0, 'Priority': 5, 'Arrival_time': 10}]\n",
      "[{'Num': 2, 'Burst_time': 0, 'Priority': 3, 'Arrival_time': 15}, {'Num': 5, 'Burst_time': 0, 'Priority': 8, 'Arrival_time': 0}, {'Num': 1, 'Burst_time': 0, 'Priority': 5, 'Arrival_time': 10}]\n",
      "[{'Num': 2, 'Burst_time': 0, 'Priority': 3, 'Arrival_time': 15}, {'Num': 5, 'Burst_time': 0, 'Priority': 8, 'Arrival_time': 0}, {'Num': 1, 'Burst_time': 0, 'Priority': 5, 'Arrival_time': 10}]\n",
      "[{'Num': 2, 'Burst_time': 0, 'Priority': 3, 'Arrival_time': 15}, {'Num': 5, 'Burst_time': 0, 'Priority': 8, 'Arrival_time': 0}, {'Num': 1, 'Burst_time': 0, 'Priority': 5, 'Arrival_time': 10}]\n",
      "[{'Num': 2, 'Burst_time': 0, 'Priority': 3, 'Arrival_time': 15}, {'Num': 5, 'Burst_time': 0, 'Priority': 8, 'Arrival_time': 0}, {'Num': 1, 'Burst_time': 0, 'Priority': 5, 'Arrival_time': 10}]\n",
      "[{'Num': 2, 'Burst_time': 0, 'Priority': 3, 'Arrival_time': 15}, {'Num': 5, 'Burst_time': 0, 'Priority': 8, 'Arrival_time': 0}, {'Num': 1, 'Burst_time': 0, 'Priority': 5, 'Arrival_time': 10}]\n",
      "[{'Num': 2, 'Burst_time': 0, 'Priority': 3, 'Arrival_time': 15}, {'Num': 5, 'Burst_time': 0, 'Priority': 8, 'Arrival_time': 0}, {'Num': 1, 'Burst_time': 0, 'Priority': 5, 'Arrival_time': 10}]\n",
      "[{'Num': 2, 'Burst_time': 0, 'Priority': 3, 'Arrival_time': 15}, {'Num': 5, 'Burst_time': 0, 'Priority': 8, 'Arrival_time': 0}, {'Num': 1, 'Burst_time': 0, 'Priority': 5, 'Arrival_time': 10}]\n",
      "[{'Num': 2, 'Burst_time': 0, 'Priority': 3, 'Arrival_time': 15}, {'Num': 5, 'Burst_time': 0, 'Priority': 8, 'Arrival_time': 0}, {'Num': 1, 'Burst_time': 0, 'Priority': 5, 'Arrival_time': 10}]\n",
      "[{'Num': 2, 'Burst_time': 0, 'Priority': 3, 'Arrival_time': 15}, {'Num': 5, 'Burst_time': 0, 'Priority': 8, 'Arrival_time': 0}, {'Num': 1, 'Burst_time': 0, 'Priority': 5, 'Arrival_time': 10}]\n",
      "[{'Num': 2, 'Burst_time': 0, 'Priority': 3, 'Arrival_time': 15}, {'Num': 5, 'Burst_time': 0, 'Priority': 8, 'Arrival_time': 0}, {'Num': 1, 'Burst_time': 0, 'Priority': 5, 'Arrival_time': 10}]\n",
      "[{'Num': 2, 'Burst_time': 0, 'Priority': 3, 'Arrival_time': 15}, {'Num': 5, 'Burst_time': 0, 'Priority': 8, 'Arrival_time': 0}, {'Num': 1, 'Burst_time': 0, 'Priority': 5, 'Arrival_time': 10}]\n",
      "[{'Num': 2, 'Burst_time': 0, 'Priority': 3, 'Arrival_time': 15}, {'Num': 5, 'Burst_time': 0, 'Priority': 8, 'Arrival_time': 0}, {'Num': 1, 'Burst_time': 0, 'Priority': 5, 'Arrival_time': 10}]\n",
      "[{'Num': 2, 'Burst_time': 0, 'Priority': 3, 'Arrival_time': 15}, {'Num': 5, 'Burst_time': 0, 'Priority': 8, 'Arrival_time': 0}, {'Num': 1, 'Burst_time': 0, 'Priority': 5, 'Arrival_time': 10}]\n",
      "[{'Num': 2, 'Burst_time': 0, 'Priority': 3, 'Arrival_time': 15}, {'Num': 5, 'Burst_time': 0, 'Priority': 8, 'Arrival_time': 0}, {'Num': 1, 'Burst_time': 0, 'Priority': 5, 'Arrival_time': 10}]\n",
      "[{'Num': 2, 'Burst_time': 0, 'Priority': 3, 'Arrival_time': 15}, {'Num': 5, 'Burst_time': 0, 'Priority': 8, 'Arrival_time': 0}, {'Num': 1, 'Burst_time': 0, 'Priority': 5, 'Arrival_time': 10}]\n",
      "[{'Num': 2, 'Burst_time': 0, 'Priority': 3, 'Arrival_time': 15}, {'Num': 5, 'Burst_time': 0, 'Priority': 8, 'Arrival_time': 0}, {'Num': 1, 'Burst_time': 0, 'Priority': 5, 'Arrival_time': 10}]\n",
      "[{'Num': 2, 'Burst_time': 0, 'Priority': 3, 'Arrival_time': 15}, {'Num': 5, 'Burst_time': 0, 'Priority': 8, 'Arrival_time': 0}, {'Num': 1, 'Burst_time': 0, 'Priority': 5, 'Arrival_time': 10}]\n",
      "[{'Num': 2, 'Burst_time': 0, 'Priority': 3, 'Arrival_time': 15}, {'Num': 5, 'Burst_time': 0, 'Priority': 8, 'Arrival_time': 0}, {'Num': 1, 'Burst_time': 0, 'Priority': 5, 'Arrival_time': 10}]\n",
      "[{'Num': 2, 'Burst_time': 0, 'Priority': 3, 'Arrival_time': 15}, {'Num': 5, 'Burst_time': 0, 'Priority': 8, 'Arrival_time': 0}, {'Num': 1, 'Burst_time': 0, 'Priority': 5, 'Arrival_time': 10}]\n",
      "[{'Num': 2, 'Burst_time': 0, 'Priority': 3, 'Arrival_time': 15}, {'Num': 5, 'Burst_time': 0, 'Priority': 8, 'Arrival_time': 0}, {'Num': 1, 'Burst_time': 0, 'Priority': 5, 'Arrival_time': 10}]\n",
      "[{'Num': 2, 'Burst_time': 0, 'Priority': 3, 'Arrival_time': 15}, {'Num': 5, 'Burst_time': 0, 'Priority': 8, 'Arrival_time': 0}, {'Num': 1, 'Burst_time': 0, 'Priority': 5, 'Arrival_time': 10}]\n",
      "[{'Num': 2, 'Burst_time': 0, 'Priority': 3, 'Arrival_time': 15}, {'Num': 5, 'Burst_time': 0, 'Priority': 8, 'Arrival_time': 0}, {'Num': 1, 'Burst_time': 0, 'Priority': 5, 'Arrival_time': 10}]\n",
      "[{'Num': 2, 'Burst_time': 0, 'Priority': 3, 'Arrival_time': 15}, {'Num': 5, 'Burst_time': 0, 'Priority': 8, 'Arrival_time': 0}, {'Num': 1, 'Burst_time': 0, 'Priority': 5, 'Arrival_time': 10}]\n",
      "[{'Num': 2, 'Burst_time': 0, 'Priority': 3, 'Arrival_time': 15}, {'Num': 5, 'Burst_time': 0, 'Priority': 8, 'Arrival_time': 0}, {'Num': 1, 'Burst_time': 0, 'Priority': 5, 'Arrival_time': 10}]\n",
      "[{'Num': 2, 'Burst_time': 0, 'Priority': 3, 'Arrival_time': 15}, {'Num': 5, 'Burst_time': 0, 'Priority': 8, 'Arrival_time': 0}, {'Num': 1, 'Burst_time': 0, 'Priority': 5, 'Arrival_time': 10}]\n",
      "[{'Num': 2, 'Burst_time': 0, 'Priority': 3, 'Arrival_time': 15}, {'Num': 5, 'Burst_time': 0, 'Priority': 8, 'Arrival_time': 0}, {'Num': 1, 'Burst_time': 0, 'Priority': 5, 'Arrival_time': 10}]\n",
      "[{'Num': 2, 'Burst_time': 0, 'Priority': 3, 'Arrival_time': 15}, {'Num': 5, 'Burst_time': 0, 'Priority': 8, 'Arrival_time': 0}, {'Num': 1, 'Burst_time': 0, 'Priority': 5, 'Arrival_time': 10}]\n",
      "[{'Num': 2, 'Burst_time': 0, 'Priority': 3, 'Arrival_time': 15}, {'Num': 5, 'Burst_time': 0, 'Priority': 8, 'Arrival_time': 0}, {'Num': 1, 'Burst_time': 0, 'Priority': 5, 'Arrival_time': 10}]\n",
      "[{'Num': 2, 'Burst_time': 0, 'Priority': 3, 'Arrival_time': 15}, {'Num': 5, 'Burst_time': 0, 'Priority': 8, 'Arrival_time': 0}, {'Num': 1, 'Burst_time': 0, 'Priority': 5, 'Arrival_time': 10}]\n",
      "[{'Num': 2, 'Burst_time': 0, 'Priority': 3, 'Arrival_time': 15}, {'Num': 5, 'Burst_time': 0, 'Priority': 8, 'Arrival_time': 0}, {'Num': 1, 'Burst_time': 0, 'Priority': 5, 'Arrival_time': 10}]\n",
      "[{'Num': 2, 'Burst_time': 0, 'Priority': 3, 'Arrival_time': 15}, {'Num': 5, 'Burst_time': 0, 'Priority': 8, 'Arrival_time': 0}, {'Num': 1, 'Burst_time': 0, 'Priority': 5, 'Arrival_time': 10}]\n",
      "[{'Num': 2, 'Burst_time': 0, 'Priority': 3, 'Arrival_time': 15}, {'Num': 5, 'Burst_time': 0, 'Priority': 8, 'Arrival_time': 0}, {'Num': 1, 'Burst_time': 0, 'Priority': 5, 'Arrival_time': 10}]\n",
      "[{'Num': 2, 'Burst_time': 0, 'Priority': 3, 'Arrival_time': 15}, {'Num': 5, 'Burst_time': 0, 'Priority': 8, 'Arrival_time': 0}, {'Num': 1, 'Burst_time': 0, 'Priority': 5, 'Arrival_time': 10}]\n",
      "[{'Num': 2, 'Burst_time': 0, 'Priority': 3, 'Arrival_time': 15}, {'Num': 5, 'Burst_time': 0, 'Priority': 8, 'Arrival_time': 0}, {'Num': 1, 'Burst_time': 0, 'Priority': 5, 'Arrival_time': 10}]\n",
      "[{'Num': 2, 'Burst_time': 0, 'Priority': 3, 'Arrival_time': 15}, {'Num': 5, 'Burst_time': 0, 'Priority': 8, 'Arrival_time': 0}, {'Num': 1, 'Burst_time': 0, 'Priority': 5, 'Arrival_time': 10}]\n",
      "[{'Num': 2, 'Burst_time': 0, 'Priority': 3, 'Arrival_time': 15}, {'Num': 5, 'Burst_time': 0, 'Priority': 8, 'Arrival_time': 0}, {'Num': 1, 'Burst_time': 0, 'Priority': 5, 'Arrival_time': 10}]\n",
      "[{'Num': 2, 'Burst_time': 0, 'Priority': 3, 'Arrival_time': 15}, {'Num': 5, 'Burst_time': 0, 'Priority': 8, 'Arrival_time': 0}, {'Num': 1, 'Burst_time': 0, 'Priority': 5, 'Arrival_time': 10}]\n",
      "[{'Num': 2, 'Burst_time': 0, 'Priority': 3, 'Arrival_time': 15}, {'Num': 5, 'Burst_time': 0, 'Priority': 8, 'Arrival_time': 0}, {'Num': 1, 'Burst_time': 0, 'Priority': 5, 'Arrival_time': 10}]\n",
      "[{'Num': 2, 'Burst_time': 0, 'Priority': 3, 'Arrival_time': 15}, {'Num': 5, 'Burst_time': 0, 'Priority': 8, 'Arrival_time': 0}, {'Num': 1, 'Burst_time': 0, 'Priority': 5, 'Arrival_time': 10}]\n",
      "[{'Num': 2, 'Burst_time': 0, 'Priority': 3, 'Arrival_time': 15}, {'Num': 5, 'Burst_time': 0, 'Priority': 8, 'Arrival_time': 0}, {'Num': 1, 'Burst_time': 0, 'Priority': 5, 'Arrival_time': 10}]\n",
      "[{'Num': 2, 'Burst_time': 0, 'Priority': 3, 'Arrival_time': 15}, {'Num': 5, 'Burst_time': 0, 'Priority': 8, 'Arrival_time': 0}, {'Num': 1, 'Burst_time': 0, 'Priority': 5, 'Arrival_time': 10}]\n",
      "[{'Num': 2, 'Burst_time': 0, 'Priority': 3, 'Arrival_time': 15}, {'Num': 5, 'Burst_time': 0, 'Priority': 8, 'Arrival_time': 0}, {'Num': 1, 'Burst_time': 0, 'Priority': 5, 'Arrival_time': 10}]\n",
      "[{'Num': 2, 'Burst_time': 0, 'Priority': 3, 'Arrival_time': 15}, {'Num': 5, 'Burst_time': 0, 'Priority': 8, 'Arrival_time': 0}, {'Num': 1, 'Burst_time': 0, 'Priority': 5, 'Arrival_time': 10}]\n",
      "[{'Num': 2, 'Burst_time': 0, 'Priority': 3, 'Arrival_time': 15}, {'Num': 5, 'Burst_time': 0, 'Priority': 8, 'Arrival_time': 0}, {'Num': 1, 'Burst_time': 0, 'Priority': 5, 'Arrival_time': 10}]\n",
      "[{'Num': 2, 'Burst_time': 0, 'Priority': 3, 'Arrival_time': 15}, {'Num': 5, 'Burst_time': 0, 'Priority': 8, 'Arrival_time': 0}, {'Num': 1, 'Burst_time': 0, 'Priority': 5, 'Arrival_time': 10}]\n",
      "[{'Num': 2, 'Burst_time': 0, 'Priority': 3, 'Arrival_time': 15}, {'Num': 5, 'Burst_time': 0, 'Priority': 8, 'Arrival_time': 0}, {'Num': 1, 'Burst_time': 0, 'Priority': 5, 'Arrival_time': 10}, {'Num': 4, 'Burst_time': 50, 'Priority': 2, 'Arrival_time': 100}]\n",
      "[{'Num': 2, 'Burst_time': 0, 'Priority': 3, 'Arrival_time': 15}, {'Num': 5, 'Burst_time': 0, 'Priority': 8, 'Arrival_time': 0}, {'Num': 1, 'Burst_time': 0, 'Priority': 5, 'Arrival_time': 10}, {'Num': 4, 'Burst_time': 49, 'Priority': 2, 'Arrival_time': 100}]\n",
      "[{'Num': 2, 'Burst_time': 0, 'Priority': 3, 'Arrival_time': 15}, {'Num': 5, 'Burst_time': 0, 'Priority': 8, 'Arrival_time': 0}, {'Num': 1, 'Burst_time': 0, 'Priority': 5, 'Arrival_time': 10}, {'Num': 4, 'Burst_time': 48, 'Priority': 2, 'Arrival_time': 100}]\n",
      "[{'Num': 2, 'Burst_time': 0, 'Priority': 3, 'Arrival_time': 15}, {'Num': 5, 'Burst_time': 0, 'Priority': 8, 'Arrival_time': 0}, {'Num': 1, 'Burst_time': 0, 'Priority': 5, 'Arrival_time': 10}, {'Num': 4, 'Burst_time': 47, 'Priority': 2, 'Arrival_time': 100}]\n",
      "[{'Num': 2, 'Burst_time': 0, 'Priority': 3, 'Arrival_time': 15}, {'Num': 5, 'Burst_time': 0, 'Priority': 8, 'Arrival_time': 0}, {'Num': 1, 'Burst_time': 0, 'Priority': 5, 'Arrival_time': 10}, {'Num': 4, 'Burst_time': 46, 'Priority': 2, 'Arrival_time': 100}]\n",
      "[{'Num': 2, 'Burst_time': 0, 'Priority': 3, 'Arrival_time': 15}, {'Num': 5, 'Burst_time': 0, 'Priority': 8, 'Arrival_time': 0}, {'Num': 1, 'Burst_time': 0, 'Priority': 5, 'Arrival_time': 10}, {'Num': 4, 'Burst_time': 45, 'Priority': 2, 'Arrival_time': 100}]\n",
      "[{'Num': 2, 'Burst_time': 0, 'Priority': 3, 'Arrival_time': 15}, {'Num': 5, 'Burst_time': 0, 'Priority': 8, 'Arrival_time': 0}, {'Num': 1, 'Burst_time': 0, 'Priority': 5, 'Arrival_time': 10}, {'Num': 4, 'Burst_time': 44, 'Priority': 2, 'Arrival_time': 100}]\n",
      "[{'Num': 2, 'Burst_time': 0, 'Priority': 3, 'Arrival_time': 15}, {'Num': 5, 'Burst_time': 0, 'Priority': 8, 'Arrival_time': 0}, {'Num': 1, 'Burst_time': 0, 'Priority': 5, 'Arrival_time': 10}, {'Num': 4, 'Burst_time': 43, 'Priority': 2, 'Arrival_time': 100}]\n",
      "[{'Num': 2, 'Burst_time': 0, 'Priority': 3, 'Arrival_time': 15}, {'Num': 5, 'Burst_time': 0, 'Priority': 8, 'Arrival_time': 0}, {'Num': 1, 'Burst_time': 0, 'Priority': 5, 'Arrival_time': 10}, {'Num': 4, 'Burst_time': 42, 'Priority': 2, 'Arrival_time': 100}]\n",
      "[{'Num': 2, 'Burst_time': 0, 'Priority': 3, 'Arrival_time': 15}, {'Num': 5, 'Burst_time': 0, 'Priority': 8, 'Arrival_time': 0}, {'Num': 1, 'Burst_time': 0, 'Priority': 5, 'Arrival_time': 10}, {'Num': 4, 'Burst_time': 41, 'Priority': 2, 'Arrival_time': 100}]\n",
      "[{'Num': 2, 'Burst_time': 0, 'Priority': 3, 'Arrival_time': 15}, {'Num': 5, 'Burst_time': 0, 'Priority': 8, 'Arrival_time': 0}, {'Num': 1, 'Burst_time': 0, 'Priority': 5, 'Arrival_time': 10}, {'Num': 3, 'Burst_time': 25, 'Priority': 5, 'Arrival_time': 110}, {'Num': 4, 'Burst_time': 40, 'Priority': 2, 'Arrival_time': 100}]\n",
      "[{'Num': 2, 'Burst_time': 0, 'Priority': 3, 'Arrival_time': 15}, {'Num': 5, 'Burst_time': 0, 'Priority': 8, 'Arrival_time': 0}, {'Num': 1, 'Burst_time': 0, 'Priority': 5, 'Arrival_time': 10}, {'Num': 3, 'Burst_time': 24, 'Priority': 5, 'Arrival_time': 110}, {'Num': 4, 'Burst_time': 39, 'Priority': 2, 'Arrival_time': 100}]\n",
      "[{'Num': 2, 'Burst_time': 0, 'Priority': 3, 'Arrival_time': 15}, {'Num': 5, 'Burst_time': 0, 'Priority': 8, 'Arrival_time': 0}, {'Num': 1, 'Burst_time': 0, 'Priority': 5, 'Arrival_time': 10}, {'Num': 3, 'Burst_time': 23, 'Priority': 5, 'Arrival_time': 110}, {'Num': 4, 'Burst_time': 38, 'Priority': 2, 'Arrival_time': 100}]\n",
      "[{'Num': 2, 'Burst_time': 0, 'Priority': 3, 'Arrival_time': 15}, {'Num': 5, 'Burst_time': 0, 'Priority': 8, 'Arrival_time': 0}, {'Num': 1, 'Burst_time': 0, 'Priority': 5, 'Arrival_time': 10}, {'Num': 3, 'Burst_time': 22, 'Priority': 5, 'Arrival_time': 110}, {'Num': 4, 'Burst_time': 37, 'Priority': 2, 'Arrival_time': 100}]\n",
      "[{'Num': 2, 'Burst_time': 0, 'Priority': 3, 'Arrival_time': 15}, {'Num': 5, 'Burst_time': 0, 'Priority': 8, 'Arrival_time': 0}, {'Num': 1, 'Burst_time': 0, 'Priority': 5, 'Arrival_time': 10}, {'Num': 3, 'Burst_time': 21, 'Priority': 5, 'Arrival_time': 110}, {'Num': 4, 'Burst_time': 36, 'Priority': 2, 'Arrival_time': 100}]\n",
      "[{'Num': 2, 'Burst_time': 0, 'Priority': 3, 'Arrival_time': 15}, {'Num': 5, 'Burst_time': 0, 'Priority': 8, 'Arrival_time': 0}, {'Num': 1, 'Burst_time': 0, 'Priority': 5, 'Arrival_time': 10}, {'Num': 3, 'Burst_time': 20, 'Priority': 5, 'Arrival_time': 110}, {'Num': 4, 'Burst_time': 35, 'Priority': 2, 'Arrival_time': 100}]\n",
      "[{'Num': 2, 'Burst_time': 0, 'Priority': 3, 'Arrival_time': 15}, {'Num': 5, 'Burst_time': 0, 'Priority': 8, 'Arrival_time': 0}, {'Num': 1, 'Burst_time': 0, 'Priority': 5, 'Arrival_time': 10}, {'Num': 3, 'Burst_time': 19, 'Priority': 5, 'Arrival_time': 110}, {'Num': 4, 'Burst_time': 34, 'Priority': 2, 'Arrival_time': 100}]\n",
      "[{'Num': 2, 'Burst_time': 0, 'Priority': 3, 'Arrival_time': 15}, {'Num': 5, 'Burst_time': 0, 'Priority': 8, 'Arrival_time': 0}, {'Num': 1, 'Burst_time': 0, 'Priority': 5, 'Arrival_time': 10}, {'Num': 3, 'Burst_time': 18, 'Priority': 5, 'Arrival_time': 110}, {'Num': 4, 'Burst_time': 33, 'Priority': 2, 'Arrival_time': 100}]\n",
      "[{'Num': 2, 'Burst_time': 0, 'Priority': 3, 'Arrival_time': 15}, {'Num': 5, 'Burst_time': 0, 'Priority': 8, 'Arrival_time': 0}, {'Num': 1, 'Burst_time': 0, 'Priority': 5, 'Arrival_time': 10}, {'Num': 3, 'Burst_time': 17, 'Priority': 5, 'Arrival_time': 110}, {'Num': 4, 'Burst_time': 32, 'Priority': 2, 'Arrival_time': 100}]\n",
      "[{'Num': 2, 'Burst_time': 0, 'Priority': 3, 'Arrival_time': 15}, {'Num': 5, 'Burst_time': 0, 'Priority': 8, 'Arrival_time': 0}, {'Num': 1, 'Burst_time': 0, 'Priority': 5, 'Arrival_time': 10}, {'Num': 3, 'Burst_time': 16, 'Priority': 5, 'Arrival_time': 110}, {'Num': 4, 'Burst_time': 31, 'Priority': 2, 'Arrival_time': 100}]\n",
      "[{'Num': 2, 'Burst_time': 0, 'Priority': 3, 'Arrival_time': 15}, {'Num': 5, 'Burst_time': 0, 'Priority': 8, 'Arrival_time': 0}, {'Num': 1, 'Burst_time': 0, 'Priority': 5, 'Arrival_time': 10}, {'Num': 3, 'Burst_time': 15, 'Priority': 5, 'Arrival_time': 110}, {'Num': 4, 'Burst_time': 30, 'Priority': 2, 'Arrival_time': 100}]\n",
      "[{'Num': 2, 'Burst_time': 0, 'Priority': 3, 'Arrival_time': 15}, {'Num': 5, 'Burst_time': 0, 'Priority': 8, 'Arrival_time': 0}, {'Num': 1, 'Burst_time': 0, 'Priority': 5, 'Arrival_time': 10}, {'Num': 3, 'Burst_time': 14, 'Priority': 5, 'Arrival_time': 110}, {'Num': 4, 'Burst_time': 29, 'Priority': 2, 'Arrival_time': 100}]\n",
      "[{'Num': 2, 'Burst_time': 0, 'Priority': 3, 'Arrival_time': 15}, {'Num': 5, 'Burst_time': 0, 'Priority': 8, 'Arrival_time': 0}, {'Num': 1, 'Burst_time': 0, 'Priority': 5, 'Arrival_time': 10}, {'Num': 3, 'Burst_time': 13, 'Priority': 5, 'Arrival_time': 110}, {'Num': 4, 'Burst_time': 28, 'Priority': 2, 'Arrival_time': 100}]\n",
      "[{'Num': 2, 'Burst_time': 0, 'Priority': 3, 'Arrival_time': 15}, {'Num': 5, 'Burst_time': 0, 'Priority': 8, 'Arrival_time': 0}, {'Num': 1, 'Burst_time': 0, 'Priority': 5, 'Arrival_time': 10}, {'Num': 3, 'Burst_time': 12, 'Priority': 5, 'Arrival_time': 110}, {'Num': 4, 'Burst_time': 27, 'Priority': 2, 'Arrival_time': 100}]\n",
      "[{'Num': 2, 'Burst_time': 0, 'Priority': 3, 'Arrival_time': 15}, {'Num': 5, 'Burst_time': 0, 'Priority': 8, 'Arrival_time': 0}, {'Num': 1, 'Burst_time': 0, 'Priority': 5, 'Arrival_time': 10}, {'Num': 3, 'Burst_time': 11, 'Priority': 5, 'Arrival_time': 110}, {'Num': 4, 'Burst_time': 26, 'Priority': 2, 'Arrival_time': 100}]\n",
      "[{'Num': 2, 'Burst_time': 0, 'Priority': 3, 'Arrival_time': 15}, {'Num': 5, 'Burst_time': 0, 'Priority': 8, 'Arrival_time': 0}, {'Num': 1, 'Burst_time': 0, 'Priority': 5, 'Arrival_time': 10}, {'Num': 3, 'Burst_time': 10, 'Priority': 5, 'Arrival_time': 110}, {'Num': 4, 'Burst_time': 25, 'Priority': 2, 'Arrival_time': 100}]\n",
      "[{'Num': 2, 'Burst_time': 0, 'Priority': 3, 'Arrival_time': 15}, {'Num': 5, 'Burst_time': 0, 'Priority': 8, 'Arrival_time': 0}, {'Num': 1, 'Burst_time': 0, 'Priority': 5, 'Arrival_time': 10}, {'Num': 3, 'Burst_time': 9, 'Priority': 5, 'Arrival_time': 110}, {'Num': 4, 'Burst_time': 24, 'Priority': 2, 'Arrival_time': 100}]\n",
      "[{'Num': 2, 'Burst_time': 0, 'Priority': 3, 'Arrival_time': 15}, {'Num': 5, 'Burst_time': 0, 'Priority': 8, 'Arrival_time': 0}, {'Num': 1, 'Burst_time': 0, 'Priority': 5, 'Arrival_time': 10}, {'Num': 3, 'Burst_time': 8, 'Priority': 5, 'Arrival_time': 110}, {'Num': 4, 'Burst_time': 23, 'Priority': 2, 'Arrival_time': 100}]\n",
      "[{'Num': 2, 'Burst_time': 0, 'Priority': 3, 'Arrival_time': 15}, {'Num': 5, 'Burst_time': 0, 'Priority': 8, 'Arrival_time': 0}, {'Num': 1, 'Burst_time': 0, 'Priority': 5, 'Arrival_time': 10}, {'Num': 3, 'Burst_time': 7, 'Priority': 5, 'Arrival_time': 110}, {'Num': 4, 'Burst_time': 22, 'Priority': 2, 'Arrival_time': 100}]\n",
      "[{'Num': 2, 'Burst_time': 0, 'Priority': 3, 'Arrival_time': 15}, {'Num': 5, 'Burst_time': 0, 'Priority': 8, 'Arrival_time': 0}, {'Num': 1, 'Burst_time': 0, 'Priority': 5, 'Arrival_time': 10}, {'Num': 3, 'Burst_time': 6, 'Priority': 5, 'Arrival_time': 110}, {'Num': 4, 'Burst_time': 21, 'Priority': 2, 'Arrival_time': 100}]\n",
      "[{'Num': 2, 'Burst_time': 0, 'Priority': 3, 'Arrival_time': 15}, {'Num': 5, 'Burst_time': 0, 'Priority': 8, 'Arrival_time': 0}, {'Num': 1, 'Burst_time': 0, 'Priority': 5, 'Arrival_time': 10}, {'Num': 3, 'Burst_time': 5, 'Priority': 5, 'Arrival_time': 110}, {'Num': 4, 'Burst_time': 20, 'Priority': 2, 'Arrival_time': 100}]\n",
      "[{'Num': 2, 'Burst_time': 0, 'Priority': 3, 'Arrival_time': 15}, {'Num': 5, 'Burst_time': 0, 'Priority': 8, 'Arrival_time': 0}, {'Num': 1, 'Burst_time': 0, 'Priority': 5, 'Arrival_time': 10}, {'Num': 3, 'Burst_time': 4, 'Priority': 5, 'Arrival_time': 110}, {'Num': 4, 'Burst_time': 19, 'Priority': 2, 'Arrival_time': 100}]\n",
      "[{'Num': 2, 'Burst_time': 0, 'Priority': 3, 'Arrival_time': 15}, {'Num': 5, 'Burst_time': 0, 'Priority': 8, 'Arrival_time': 0}, {'Num': 1, 'Burst_time': 0, 'Priority': 5, 'Arrival_time': 10}, {'Num': 3, 'Burst_time': 3, 'Priority': 5, 'Arrival_time': 110}, {'Num': 4, 'Burst_time': 18, 'Priority': 2, 'Arrival_time': 100}]\n",
      "[{'Num': 2, 'Burst_time': 0, 'Priority': 3, 'Arrival_time': 15}, {'Num': 5, 'Burst_time': 0, 'Priority': 8, 'Arrival_time': 0}, {'Num': 1, 'Burst_time': 0, 'Priority': 5, 'Arrival_time': 10}, {'Num': 3, 'Burst_time': 2, 'Priority': 5, 'Arrival_time': 110}, {'Num': 4, 'Burst_time': 17, 'Priority': 2, 'Arrival_time': 100}]\n",
      "[{'Num': 2, 'Burst_time': 0, 'Priority': 3, 'Arrival_time': 15}, {'Num': 5, 'Burst_time': 0, 'Priority': 8, 'Arrival_time': 0}, {'Num': 1, 'Burst_time': 0, 'Priority': 5, 'Arrival_time': 10}, {'Num': 3, 'Burst_time': 1, 'Priority': 5, 'Arrival_time': 110}, {'Num': 4, 'Burst_time': 16, 'Priority': 2, 'Arrival_time': 100}]\n",
      "[{'Num': 2, 'Burst_time': 0, 'Priority': 3, 'Arrival_time': 15}, {'Num': 5, 'Burst_time': 0, 'Priority': 8, 'Arrival_time': 0}, {'Num': 1, 'Burst_time': 0, 'Priority': 5, 'Arrival_time': 10}, {'Num': 3, 'Burst_time': 0, 'Priority': 5, 'Arrival_time': 110}, {'Num': 4, 'Burst_time': 15, 'Priority': 2, 'Arrival_time': 100}]\n",
      "[{'Num': 2, 'Burst_time': 0, 'Priority': 3, 'Arrival_time': 15}, {'Num': 5, 'Burst_time': 0, 'Priority': 8, 'Arrival_time': 0}, {'Num': 1, 'Burst_time': 0, 'Priority': 5, 'Arrival_time': 10}, {'Num': 3, 'Burst_time': 0, 'Priority': 5, 'Arrival_time': 110}, {'Num': 4, 'Burst_time': 14, 'Priority': 2, 'Arrival_time': 100}]\n",
      "[{'Num': 2, 'Burst_time': 0, 'Priority': 3, 'Arrival_time': 15}, {'Num': 5, 'Burst_time': 0, 'Priority': 8, 'Arrival_time': 0}, {'Num': 1, 'Burst_time': 0, 'Priority': 5, 'Arrival_time': 10}, {'Num': 3, 'Burst_time': 0, 'Priority': 5, 'Arrival_time': 110}, {'Num': 4, 'Burst_time': 13, 'Priority': 2, 'Arrival_time': 100}]\n",
      "[{'Num': 2, 'Burst_time': 0, 'Priority': 3, 'Arrival_time': 15}, {'Num': 5, 'Burst_time': 0, 'Priority': 8, 'Arrival_time': 0}, {'Num': 1, 'Burst_time': 0, 'Priority': 5, 'Arrival_time': 10}, {'Num': 3, 'Burst_time': 0, 'Priority': 5, 'Arrival_time': 110}, {'Num': 4, 'Burst_time': 12, 'Priority': 2, 'Arrival_time': 100}]\n",
      "[{'Num': 2, 'Burst_time': 0, 'Priority': 3, 'Arrival_time': 15}, {'Num': 5, 'Burst_time': 0, 'Priority': 8, 'Arrival_time': 0}, {'Num': 1, 'Burst_time': 0, 'Priority': 5, 'Arrival_time': 10}, {'Num': 3, 'Burst_time': 0, 'Priority': 5, 'Arrival_time': 110}, {'Num': 4, 'Burst_time': 11, 'Priority': 2, 'Arrival_time': 100}]\n",
      "[{'Num': 2, 'Burst_time': 0, 'Priority': 3, 'Arrival_time': 15}, {'Num': 5, 'Burst_time': 0, 'Priority': 8, 'Arrival_time': 0}, {'Num': 1, 'Burst_time': 0, 'Priority': 5, 'Arrival_time': 10}, {'Num': 3, 'Burst_time': 0, 'Priority': 5, 'Arrival_time': 110}, {'Num': 4, 'Burst_time': 10, 'Priority': 2, 'Arrival_time': 100}]\n",
      "[{'Num': 2, 'Burst_time': 0, 'Priority': 3, 'Arrival_time': 15}, {'Num': 5, 'Burst_time': 0, 'Priority': 8, 'Arrival_time': 0}, {'Num': 1, 'Burst_time': 0, 'Priority': 5, 'Arrival_time': 10}, {'Num': 3, 'Burst_time': 0, 'Priority': 5, 'Arrival_time': 110}, {'Num': 4, 'Burst_time': 9, 'Priority': 2, 'Arrival_time': 100}]\n",
      "[{'Num': 2, 'Burst_time': 0, 'Priority': 3, 'Arrival_time': 15}, {'Num': 5, 'Burst_time': 0, 'Priority': 8, 'Arrival_time': 0}, {'Num': 1, 'Burst_time': 0, 'Priority': 5, 'Arrival_time': 10}, {'Num': 3, 'Burst_time': 0, 'Priority': 5, 'Arrival_time': 110}, {'Num': 4, 'Burst_time': 8, 'Priority': 2, 'Arrival_time': 100}]\n",
      "[{'Num': 2, 'Burst_time': 0, 'Priority': 3, 'Arrival_time': 15}, {'Num': 5, 'Burst_time': 0, 'Priority': 8, 'Arrival_time': 0}, {'Num': 1, 'Burst_time': 0, 'Priority': 5, 'Arrival_time': 10}, {'Num': 3, 'Burst_time': 0, 'Priority': 5, 'Arrival_time': 110}, {'Num': 4, 'Burst_time': 7, 'Priority': 2, 'Arrival_time': 100}]\n",
      "[{'Num': 2, 'Burst_time': 0, 'Priority': 3, 'Arrival_time': 15}, {'Num': 5, 'Burst_time': 0, 'Priority': 8, 'Arrival_time': 0}, {'Num': 1, 'Burst_time': 0, 'Priority': 5, 'Arrival_time': 10}, {'Num': 3, 'Burst_time': 0, 'Priority': 5, 'Arrival_time': 110}, {'Num': 4, 'Burst_time': 6, 'Priority': 2, 'Arrival_time': 100}]\n",
      "[{'Num': 2, 'Burst_time': 0, 'Priority': 3, 'Arrival_time': 15}, {'Num': 5, 'Burst_time': 0, 'Priority': 8, 'Arrival_time': 0}, {'Num': 1, 'Burst_time': 0, 'Priority': 5, 'Arrival_time': 10}, {'Num': 3, 'Burst_time': 0, 'Priority': 5, 'Arrival_time': 110}, {'Num': 4, 'Burst_time': 5, 'Priority': 2, 'Arrival_time': 100}]\n",
      "[{'Num': 2, 'Burst_time': 0, 'Priority': 3, 'Arrival_time': 15}, {'Num': 5, 'Burst_time': 0, 'Priority': 8, 'Arrival_time': 0}, {'Num': 1, 'Burst_time': 0, 'Priority': 5, 'Arrival_time': 10}, {'Num': 3, 'Burst_time': 0, 'Priority': 5, 'Arrival_time': 110}, {'Num': 4, 'Burst_time': 4, 'Priority': 2, 'Arrival_time': 100}]\n",
      "[{'Num': 2, 'Burst_time': 0, 'Priority': 3, 'Arrival_time': 15}, {'Num': 5, 'Burst_time': 0, 'Priority': 8, 'Arrival_time': 0}, {'Num': 1, 'Burst_time': 0, 'Priority': 5, 'Arrival_time': 10}, {'Num': 3, 'Burst_time': 0, 'Priority': 5, 'Arrival_time': 110}, {'Num': 4, 'Burst_time': 3, 'Priority': 2, 'Arrival_time': 100}]\n",
      "[{'Num': 2, 'Burst_time': 0, 'Priority': 3, 'Arrival_time': 15}, {'Num': 5, 'Burst_time': 0, 'Priority': 8, 'Arrival_time': 0}, {'Num': 1, 'Burst_time': 0, 'Priority': 5, 'Arrival_time': 10}, {'Num': 3, 'Burst_time': 0, 'Priority': 5, 'Arrival_time': 110}, {'Num': 4, 'Burst_time': 2, 'Priority': 2, 'Arrival_time': 100}]\n",
      "[{'Num': 2, 'Burst_time': 0, 'Priority': 3, 'Arrival_time': 15}, {'Num': 5, 'Burst_time': 0, 'Priority': 8, 'Arrival_time': 0}, {'Num': 1, 'Burst_time': 0, 'Priority': 5, 'Arrival_time': 10}, {'Num': 3, 'Burst_time': 0, 'Priority': 5, 'Arrival_time': 110}, {'Num': 4, 'Burst_time': 1, 'Priority': 2, 'Arrival_time': 100}]\n",
      "- Order is : [[5, 1], [5, 1], [5, 1], [5, 1], [5, 1], [5, 1], [5, 1], [5, 1], [5, 1], [5, 1], [5, 1], [1, 1], [5, 1], [1, 1], [5, 1], [1, 1], [5, 1], [1, 1], [5, 1], [1, 1], [2, 1], [5, 1], [1, 1], [2, 1], [5, 1], [1, 1], [2, 1], [5, 1], [1, 1], [2, 1], [5, 1], [1, 1], [2, 1], [5, 1], [1, 1], [2, 1], [5, 1], [1, 1], [2, 1], [5, 1], [1, 1], [2, 1], [5, 1], [1, 1], [2, 1], [5, 1], [1, 1], [2, 1], [5, 1], [1, 1], [5, 1], [1, 1], [5, 1], [1, 1], [5, 1], [1, 1], [5, 1], [1, 1], [5, 1], [1, 1], [1, 1], [1, 1], [1, 1], [1, 1], [1, 1], [1, 1], [1, 1], [1, 1], [1, 1], [1, 1], [-1, 1], [-1, 1], [-1, 1], [-1, 1], [-1, 1], [-1, 1], [-1, 1], [-1, 1], [-1, 1], [-1, 1], [-1, 1], [-1, 1], [-1, 1], [-1, 1], [-1, 1], [-1, 1], [-1, 1], [-1, 1], [-1, 1], [-1, 1], [-1, 1], [-1, 1], [-1, 1], [-1, 1], [-1, 1], [-1, 1], [-1, 1], [-1, 1], [-1, 1], [-1, 1], [4, 1], [4, 1], [4, 1], [4, 1], [4, 1], [4, 1], [4, 1], [4, 1], [4, 1], [4, 1], [3, 1], [4, 1], [3, 1], [4, 1], [3, 1], [4, 1], [3, 1], [4, 1], [3, 1], [4, 1], [3, 1], [4, 1], [3, 1], [4, 1], [3, 1], [4, 1], [3, 1], [4, 1], [3, 1], [4, 1], [3, 1], [4, 1], [3, 1], [4, 1], [3, 1], [4, 1], [3, 1], [4, 1], [3, 1], [4, 1], [3, 1], [4, 1], [3, 1], [4, 1], [3, 1], [4, 1], [3, 1], [4, 1], [3, 1], [4, 1], [3, 1], [4, 1], [3, 1], [4, 1], [3, 1], [4, 1], [3, 1], [4, 1], [3, 1], [4, 1], [4, 1], [4, 1], [4, 1], [4, 1], [4, 1], [4, 1], [4, 1], [4, 1], [4, 1], [4, 1], [4, 1], [4, 1], [4, 1], [4, 1], [4, 1], [-1, -999]]\n",
      "ALL START GOOD JOB!!!\n",
      "ALL EXIT  GOOD JOB!!!\n"
     ]
    },
    {
     "data": {
      "image/png": "[encoded data removed]",
      "text/plain": [
       "<Figure size 1000x100 with 1 Axes>"
      ]
     },
     "metadata": {},
     "output_type": "display_data"
    }
   ],
   "source": [
    "def preemptive_SJF():\n",
    "    _order = []\n",
    "    _list = copy.deepcopy(_DATA_)\n",
    "    _original_burst_time = copy.deepcopy(_DATA_)\n",
    "    \n",
    "    _list = sorted(_list, key=lambda x: x['Arrival_time'])\n",
    "    #########################\n",
    "    # round robin이나 선점형에선 작업 추가 후 다시 볼 일이 있기 때문에 해당 변수 초기화하면 안 됨.\n",
    "    _queue = []\n",
    "    #########################\n",
    "    _end_time = 0\n",
    "    # arrival_time 고려해야하니 timer 작동\n",
    "    for _now_time in range(_MAX_TIME_LENGTH_):\n",
    "\n",
    "        # 만약 모든 Burst_time 합이 0이면 모든 작업이 종료된 것\n",
    "        # 다만 마지막 작업 추가했을 때와, _now_time간 오차있음.\n",
    "        if (is_complete(_list) == True):\n",
    "            _order.append([_NON_PROCESS_, _ALL_JOB_IS_DONE_])\n",
    "            break\n",
    "        # 아직 안 끝남.\n",
    "        else:\n",
    "            # 노는 중\n",
    "            if (_end_time < _now_time):\n",
    "                # take a rest 1sec == timer speed\n",
    "                _order.append([_NON_PROCESS_, 1])\n",
    "                _end_time += 1\n",
    "\n",
    "            # 현재 시간에 도착해있는 작업들 리스트업\n",
    "            for _process in _list:\n",
    "                if (_process['Arrival_time'] == _now_time):\n",
    "                    # _arrival_list.append(_process)\n",
    "                    _queue.append(_process)\n",
    "        \n",
    "            \n",
    "            # 남은 burst_time 순으로 정렬하기\n",
    "            _queue.sort(\n",
    "                key=lambda x: x['Burst_time']-_original_burst_time[_process['Num']]['Burst_time'])\n",
    "            \n",
    "            print(_queue)\n",
    "            # _now_time 마다 큐에서 스케쥴링\n",
    "            for _process in _queue:\n",
    "                if (_process['Burst_time'] > 0):\n",
    "                    if (_process['Burst_time'] - 1 >= 0):\n",
    "                        _order.append([_process['Num'], 1])\n",
    "                        _end_time += 1\n",
    "                        _process['Burst_time'] -= 1\n",
    "    draw(_order)\n",
    "    \n",
    "preemptive_SJF()"
   ]
  },
  {
   "attachments": {},
   "cell_type": "markdown",
   "metadata": {},
   "source": [
    "## 2.3. Shortest-Remaining-Job-First (최단 잔여시간 작업우선) \n",
    "- Burst_time, 잔여시간 고려\n",
    "- 기본 Arrival_time 정렬, 동일 시간 도착 시 프로세스 번호 순"
   ]
  },
  {
   "cell_type": "code",
   "execution_count": 231,
   "metadata": {},
   "outputs": [
    {
     "name": "stdout",
     "output_type": "stream",
     "text": [
      "- Order is : [[5, 15], [2, 10], [5, 15], [1, 30], [-1, 30], [4, 10], [3, 25], [4, 40], [-1, -999]]\n",
      "ALL START GOOD JOB!!!\n",
      "ALL EXIT  GOOD JOB!!!\n"
     ]
    },
    {
     "data": {
      "image/png": "[encoded data removed]",
      "text/plain": [
       "<Figure size 1000x100 with 1 Axes>"
      ]
     },
     "metadata": {},
     "output_type": "display_data"
    }
   ],
   "source": [
    "def preemptive_SRJF():\n",
    "    _order = []\n",
    "    _list = copy.deepcopy(_DATA_)\n",
    "    _original_burst_time = copy.deepcopy(_DATA_)\n",
    "\n",
    "    _list = sorted(_list, key=lambda x: x['Arrival_time'])\n",
    "    #########################\n",
    "    # round robin이나 선점형에선 작업 추가 후 다시 볼 일이 있기 때문에 해당 변수 초기화하면 안 됨.\n",
    "    _queue = []\n",
    "    #########################\n",
    "    _end_time = 0\n",
    "    # arrival_time 고려해야하니 timer 작동\n",
    "    for _now_time in range(_MAX_TIME_LENGTH_):\n",
    "\n",
    "        # 만약 모든 Burst_time 합이 0이면 모든 작업이 종료된 것\n",
    "        # 다만 마지막 작업 추가했을 때와, _now_time간 오차있음.\n",
    "        if (is_complete(_list) == True):\n",
    "            _order.append([_NON_PROCESS_, _ALL_JOB_IS_DONE_])\n",
    "            break\n",
    "        # 아직 안 끝남.\n",
    "        else:\n",
    "            # 노는 중\n",
    "            if (_end_time < _now_time):\n",
    "                # take a rest 1sec == timer speed\n",
    "                _order.append([_NON_PROCESS_, 1])\n",
    "                _end_time += 1\n",
    "\n",
    "            # 현재 시간에 도착해있는 작업들 리스트업\n",
    "            for _process in _list:\n",
    "                if (_process['Arrival_time'] == _now_time):\n",
    "                    # _arrival_list.append(_process)\n",
    "                    _queue.append(_process)\n",
    "\n",
    "            # 남은 burst_time 순으로 정렬하기\n",
    "            _queue.sort(\n",
    "                key=lambda x: x['Burst_time']-_original_burst_time[_process['Num']]['Burst_time'])\n",
    "\n",
    "            \n",
    "            # _now_time 마다 큐에서 스케쥴링\n",
    "            _idx = 0\n",
    "            while (_queue[_idx]['Burst_time'] == 0):\n",
    "                # index 넘어가는데, 도착 목록들에 남은 것 있으면 넘기기\n",
    "                if (is_complete(_queue) == False):\n",
    "                    _idx += 1\n",
    "                # 미도착 목록 존재하면 idx넘어가지 않음. out of range error있음.\n",
    "                else:\n",
    "                    break\n",
    "                \n",
    "            _process = _queue[_idx]\n",
    "            if (_process['Burst_time'] > 0):\n",
    "                if (_process['Burst_time'] - 1 >= 0):\n",
    "                    _order.append([_process['Num'], 1])\n",
    "                    _end_time += 1\n",
    "                    _process['Burst_time'] -= 1\n",
    "    \n",
    "    _order = order_zip(_order)\n",
    "    draw(_order)\n",
    "    \n",
    "preemptive_SRJF()\n"
   ]
  },
  {
   "attachments": {},
   "cell_type": "markdown",
   "metadata": {},
   "source": [
    "## 3.2. Priority First Served (우선순위먼저)\n",
    "- Burst_time, Priority 고려\n",
    "- Starvation 고려한 Aging 실행\n"
   ]
  },
  {
   "attachments": {},
   "cell_type": "markdown",
   "metadata": {},
   "source": [
    "## 3.3. Shortest-remaining-time-first (최단잔여시간우선)\n",
    "- Arrival_time, Burst_time 고려"
   ]
  }
 ],
 "metadata": {
  "kernelspec": {
   "display_name": "Python 3",
   "language": "python",
   "name": "python3"
  },
  "language_info": {
   "codemirror_mode": {
    "name": "ipython",
    "version": 3
   },
   "file_extension": ".py",
   "mimetype": "text/x-python",
   "name": "python",
   "nbconvert_exporter": "python",
   "pygments_lexer": "ipython3",
   "version": "3.11.0"
  },
  "orig_nbformat": 4
 },
 "nbformat": 4,
 "nbformat_minor": 2
}
