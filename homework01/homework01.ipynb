{
 "cells": [
  {
   "attachments": {},
   "cell_type": "markdown",
   "metadata": {},
   "source": [
    "# 운영체제 과제 01\n",
    "- 201901763 이지호"
   ]
  },
  {
   "attachments": {},
   "cell_type": "markdown",
   "metadata": {},
   "source": [
    "과제 1\n",
    "마감 : 4월 30일(일) 저녁 6시까지\n",
    "내용 :\n",
    "수업때 이야기한 모든 스케줄링 방법을 구현하고 성능(5가지) 비교\n",
    "Json 파일로 입력정보를 주면 포맷을 체크해서 비교판단\n",
    "실시간스케줄링과 비실시간스케줄링을 Json  입력파일로 자동 구분처리\n",
    "파이썬만 사용, 간트차트 출력을 포함하여 5가지를 모두 비교하고, 각 입력 데이터에 대해 그 중 종합적으로 제일 나은 방법을 \"자동\" 결과 리포팅 (리포팅 내용을 간단한 설명을 포함하여 자동 생성)\n",
    "숫자 결과와 그래픽결과를 모두 나타내고 자동으로 리포팅\n",
    "chatGPT 포함한 외부 자료 사용 절대 금함. 특성을 이미 잘 알고 있으므로,  사용흔적이 보이면 0점 처리\n",
    "\n",
    "MarkDown 문서로 설명과 해설 그리고 주석이 포함된 주피터노트북 파일(*.ipynb 파일) 과 해당 파일을 PDF 로 저장한 파일, \n",
    "입력에 사용하는 json 파일 3개 (입력예제 3개임) 등, \n",
    "총 5개를 이러닝 사이트에 제출함.\n",
    "\n",
    "실행 결과는 절대 평가함. (제대로 되었는지 여부, 제출한 입력 포맷에 평가 데이터를 적용해서 진행)\n",
    "전체 결과는 등급제로 상대 평가함. 열심히 코드 만들고, 열심히 최선의 결과를 잘 만든 사람에게 높은 등급\n",
    "\n",
    "위 내용을 기준으로 추가로 필요한 부분은 스스로 판단해서 진행하면 됨. 의도에서 벗어나거나 축소되면 안됨.\n",
    "\n",
    "\n",
    "- First-come, First-Served (선입선출)\n",
    "- Shortest-Job-First (최단작업우선)\n",
    "- Shortest-remaining-time-first (최단잔여시간우선)\n",
    "- Priority (우선순위)\n",
    "- Round robin(퀀텀타임대로 순회)\n",
    "- Priority + Round robin"
   ]
  },
  {
   "attachments": {},
   "cell_type": "markdown",
   "metadata": {},
   "source": [
    "## Load data\n",
    "- 아래 변수 숫자 (int) 변경해가며, (1), (2), (3)번 case 마다 실행 가능."
   ]
  },
  {
   "cell_type": "code",
   "execution_count": 1232,
   "metadata": {},
   "outputs": [],
   "source": [
    "# case_[NUM] 변경해가며 출력 가능\n",
    "_casenum = 1"
   ]
  },
  {
   "cell_type": "code",
   "execution_count": 1233,
   "metadata": {},
   "outputs": [],
   "source": [
    "import json\n",
    "import matplotlib.pyplot as plt\n",
    "\n",
    "def data_loader():\n",
    "    _jsonfilename = \"case\" + str(_casenum) + \".json\"\n",
    "    with open(_jsonfilename) as f:\n",
    "        json_object = json.load(f)\n",
    "\n",
    "    num_of_processs = len(json_object['list'])\n",
    "    print(\"Num of Process :\", num_of_processs)\n",
    "\n",
    "    # data checking\n",
    "    assert json_object['list']\n",
    "    for i in range(num_of_processs):\n",
    "        assert json_object['list'][i][\"Num\"] > 0\n",
    "        assert json_object['list'][i][\"Burst_time\"] >= 1\n",
    "        assert json_object['list'][i][\"Priority\"] >= 0\n",
    "        assert json_object['list'][i][\"Arrival_time\"] >= 0\n",
    "    print(\"Data Loading Sucess\")\n",
    "    \n",
    "    return json_object"
   ]
  },
  {
   "attachments": {},
   "cell_type": "markdown",
   "metadata": {},
   "source": [
    "## Function; draw Gantt chart in terminal"
   ]
  },
  {
   "cell_type": "code",
   "execution_count": 1234,
   "metadata": {},
   "outputs": [],
   "source": [
    "_ALL_JOB_IS_DONE_ = -999\n",
    "_NON_PROCESS_ = -1\n",
    "\n",
    "def draw(_process, _order):\n",
    "    _original_process_list = _process\n",
    "    fig, ax = plt.subplots(figsize=(10, 1))\n",
    "\n",
    "    _sum_of_busrt_time = 0\n",
    "    _sum_of_response_time = 0\n",
    "    _sum_of_turnaround_time = 0\n",
    "    _sum_of_running_time = 0\n",
    "    _now_time = 0\n",
    "    _cumsum_waiting_time = 0\n",
    "\n",
    "    _xlim_tickers = []\n",
    "\n",
    "    for _pid, _runtime in _order:\n",
    "        # P_num은 1부터 시작하기에, index 맞추는 용도.\n",
    "        _pid -= 1\n",
    "        # NOT CPU RUNNING\n",
    "        if (_pid < 0):\n",
    "            if (_runtime > 0):\n",
    "                # TAKE A REST\n",
    "                _now_time += _runtime\n",
    "            elif (_runtime == _ALL_JOB_IS_DONE_):\n",
    "                # ALL JOP IS DONE\n",
    "                break\n",
    "        # CPU RUNNING\n",
    "        else:\n",
    "            # First come in CPU\n",
    "            if (_original_process_list[_pid]['Burst_time']==_process[_pid]['Burst_time']):\n",
    "                _sum_of_response_time += _now_time\n",
    "                print(\"START - P\", _pid, \":\", _now_time)\n",
    "                # 원본의 Priority 시작시간 메모장으로 사용함.\n",
    "                _original_process_list[_pid]['Priority'] = _now_time\n",
    "            \n",
    "            # if (_process[_pid]['Burst_time'] >= _runtime):\n",
    "            _sum_of_busrt_time += _process[_pid]['Burst_time']\n",
    "            _cumsum_waiting_time += _now_time\n",
    "            \n",
    "            ax.barh(0, _runtime, left=_now_time, edgecolor='black')\n",
    "            _now_time += _runtime\n",
    "            ax.text(_now_time - _runtime/2, 0, ('P'+str(_pid+1)), ha='center', va='center')\n",
    "            \n",
    "            # burst_time - running time\n",
    "            _process[_pid]['Burst_time'] -= _runtime\n",
    "            # JOP IS DONE ?\n",
    "            if (_process[_pid]['Burst_time'] == 0):\n",
    "                print(\"P\", _pid, \"Turnaround time is\", _now_time - _process[_pid]['Arrival_time'])\n",
    "                _sum_of_turnaround_time += _now_time - _process[_pid]['Arrival_time']\n",
    "                print(\"P\", _pid, \"Running    time is\", _now_time -\n",
    "                      _original_process_list[_pid]['Priority'])\n",
    "                _sum_of_running_time += _now_time - \\\n",
    "                    _original_process_list[_pid]['Priority']\n",
    "                print(\"EXIT  - P\", _pid, \":\", _now_time)\n",
    "        _xlim_tickers.append(_now_time)\n",
    "\n",
    "    ax.set_xticks(_xlim_tickers)\n",
    "    ax.set_xlim([0, _now_time])\n",
    "    ax.set_yticks([])\n",
    "    plt.show()\n",
    "\n",
    "    # print value\n",
    "    # cpu 이용률\n",
    "    print(\"CPU utilization : %2.2f\" % float(_sum_of_busrt_time/_now_time*100), \"%\")\n",
    "    # 프로세스를 cpu가 실행하지 않은 평균 대기시간\n",
    "    print(\"Average waiting time :\", _cumsum_waiting_time/len(_process))\n",
    "    # 프로세스를 처음으로 실행하는 데에 걸린 시간\n",
    "    print(\"Average Response time :\", _sum_of_response_time/len(_process))\n",
    "    # 시작하고 나서부터 완료까지 걸린 시간\n",
    "    print(\"Average Running time :\", _sum_of_running_time/len(_process))\n",
    "    # 처음 대기 부터, 작업 완료에 대한 총 소요 시간 / p's 종료시점 - arrival_time\n",
    "    print(\"Average Turnaround time :\", _sum_of_turnaround_time/len(_process))"
   ]
  },
  {
   "attachments": {},
   "cell_type": "markdown",
   "metadata": {},
   "source": [
    "## First-come, First-Served (선입선출)"
   ]
  },
  {
   "cell_type": "code",
   "execution_count": 1235,
   "metadata": {},
   "outputs": [
    {
     "name": "stdout",
     "output_type": "stream",
     "text": [
      "Num of Process : 4\n",
      "Data Loading Sucess\n",
      "START - P 0 : 0\n",
      "P 0 Turnaround time is 10\n",
      "P 0 Running    time is 10\n",
      "EXIT  - P 0 : 10\n",
      "START - P 1 : 10\n",
      "P 1 Turnaround time is 25\n",
      "P 1 Running    time is 25\n",
      "EXIT  - P 1 : 35\n",
      "START - P 2 : 45\n",
      "P 2 Turnaround time is 102\n",
      "P 2 Running    time is 102\n",
      "EXIT  - P 2 : 147\n",
      "START - P 3 : 147\n",
      "P 3 Turnaround time is 12\n",
      "P 3 Running    time is 12\n",
      "EXIT  - P 3 : 159\n"
     ]
    },
    {
     "data": {
      "image/png": "[encoded data removed]",
      "text/plain": [
       "<Figure size 1000x100 with 1 Axes>"
      ]
     },
     "metadata": {},
     "output_type": "display_data"
    },
    {
     "name": "stdout",
     "output_type": "stream",
     "text": [
      "CPU utilization : 93.71 %\n",
      "Average waiting time : 50.5\n",
      "Average Response time : 50.5\n",
      "Average Running time : 37.25\n",
      "Average Turnaround time : 37.25\n"
     ]
    }
   ],
   "source": [
    "_order = []\n",
    "tmp = data_loader()\n",
    "tmp = sorted(tmp['list'], key=lambda x: x['Arrival_time'])\n",
    "for i in tmp:\n",
    "    _order.append([i['Num'], i['Burst_time']])\n",
    "_order.insert(2, [_NON_PROCESS_, 10])\n",
    "_order.append([_NON_PROCESS_, _ALL_JOB_IS_DONE_])\n",
    "\n",
    "draw(tmp, _order)"
   ]
  },
  {
   "attachments": {},
   "cell_type": "markdown",
   "metadata": {},
   "source": [
    "## Priority First Served (우선순위먼저)"
   ]
  },
  {
   "cell_type": "code",
   "execution_count": 1236,
   "metadata": {},
   "outputs": [
    {
     "name": "stdout",
     "output_type": "stream",
     "text": [
      "Num of Process : 4\n",
      "Data Loading Sucess\n",
      "[[4, 12], [2, 25], [-1, 10], [1, 10], [3, 102], [-1, -999]]\n",
      "START - P 3 : 0\n",
      "START - P 1 : 12\n",
      "P 1 Turnaround time is 25\n",
      "P 1 Running    time is 25\n",
      "EXIT  - P 1 : 37\n",
      "START - P 0 : 47\n",
      "START - P 2 : 57\n"
     ]
    },
    {
     "data": {
      "image/png": "[encoded data removed]",
      "text/plain": [
       "<Figure size 1000x100 with 1 Axes>"
      ]
     },
     "metadata": {},
     "output_type": "display_data"
    },
    {
     "name": "stdout",
     "output_type": "stream",
     "text": [
      "CPU utilization : 93.71 %\n",
      "Average waiting time : 29.0\n",
      "Average Response time : 29.0\n",
      "Average Running time : 6.25\n",
      "Average Turnaround time : 6.25\n"
     ]
    }
   ],
   "source": [
    "_order = []\n",
    "tmp = data_loader()\n",
    "tmp = sorted(tmp['list'], key=lambda x: x['Priority'])\n",
    "for i in tmp:\n",
    "    _order.append([i['Num'], i['Burst_time']])\n",
    "_order.insert(2, [_NON_PROCESS_, 10])\n",
    "_order.append([_NON_PROCESS_, _ALL_JOB_IS_DONE_])\n",
    "print(_order)\n",
    "draw(tmp, _order)\n"
   ]
  }
 ],
 "metadata": {
  "kernelspec": {
   "display_name": "Python 3",
   "language": "python",
   "name": "python3"
  },
  "language_info": {
   "codemirror_mode": {
    "name": "ipython",
    "version": 3
   },
   "file_extension": ".py",
   "mimetype": "text/x-python",
   "name": "python",
   "nbconvert_exporter": "python",
   "pygments_lexer": "ipython3",
   "version": "3.11.0"
  },
  "orig_nbformat": 4
 },
 "nbformat": 4,
 "nbformat_minor": 2
}
