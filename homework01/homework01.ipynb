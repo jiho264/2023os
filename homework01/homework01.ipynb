{
 "cells": [
  {
   "attachments": {},
   "cell_type": "markdown",
   "metadata": {},
   "source": [
    "# 0.운영체제 과제 01\n",
    "- 201901763 이지호\n",
    "\n",
    "- 코드 개요 : \n",
    "    \n",
    "    1. 각 스케쥴링 방법에서, json 파일을 받아온 다음에 속성들을 파악해 스케쥴링 함. 이후 order라는 list로 \"몇 번 프로세스를 얼마 동안 실행해라\" 를 전달하고 draw()로 간트차트 그래픽 출력함.\n",
    "    2. JSON_NUM : 숫자를 바꿔가며 각 파일마다 결정론적 벤치마킹 가능함.\n",
    "    3. PRINT_FLAG (기본값 false) : True로 변경 시 각 프로세스들의 첫 시작과 첫 종료 시간 출력함.\n",
    "    4. DEFAULT_QUANTUM_TIME : 기본 퀀텀타임 전역으로 설정가능함. MLQ, MLFQ에서도 각 레벨마다 할당치 재설정 가능함.\n",
    "\n",
    "\n",
    "- json file 개요 : \n",
    "    1. Arrival time, Burst time이 각각 다른 여러 프로세스들.\n",
    "    2. (1)과 비슷하지만, 도착이 아주 느린 프로세스있으며 전체적으로 Burst time scale 대폭 늘림. (RR에서 퀀텀타임 늘려야 예쁘게 출력됨. 기본 간격 4인데 세자리 burst time 대입해서 너무 조밀하게 보이는 것일 뿐임.)\n",
    "    3. Rate-monotonic 에서는 Hard RTOS 처리 불가하지만, EDF 스케쥴링 에선 Hard RTOS 성립하는 경우의 의도적 비교 (Hard RTOS 성립 불가 시, 아예 출력하지 않음)"
   ]
  },
  {
   "attachments": {},
   "cell_type": "markdown",
   "metadata": {},
   "source": [
    "## 1.1. Set Global const Value"
   ]
  },
  {
   "cell_type": "code",
   "execution_count": 209,
   "metadata": {},
   "outputs": [],
   "source": [
    "import copy\n",
    "import matplotlib.pyplot as plt\n",
    "import json"
   ]
  },
  {
   "attachments": {},
   "cell_type": "markdown",
   "metadata": {},
   "source": [
    "    - _JSON_NUM_\n",
    "    \n",
    "    json file 변경해가며 출력 가능"
   ]
  },
  {
   "cell_type": "code",
   "execution_count": 210,
   "metadata": {},
   "outputs": [],
   "source": [
    "_JSON_NUM_ = 2"
   ]
  },
  {
   "attachments": {},
   "cell_type": "markdown",
   "metadata": {},
   "source": [
    "    - 입력할 전체 프로세스들의 시간 길이. 스케쥴링 완료 시 이전에 for문 종료\n"
   ]
  },
  {
   "cell_type": "code",
   "execution_count": 211,
   "metadata": {},
   "outputs": [],
   "source": [
    "_MAX_TIME_LENGTH_ = 99999"
   ]
  },
  {
   "attachments": {},
   "cell_type": "markdown",
   "metadata": {},
   "source": [
    "    - Round robin\n",
    "\n",
    "    퀀텀 타임 설정. 전역에 적용되는 상수인데, RR function parameter에서도 value수정 가능"
   ]
  },
  {
   "cell_type": "code",
   "execution_count": 212,
   "metadata": {},
   "outputs": [],
   "source": [
    "_DEFAULT_QUANTUM_TIME_ = 4"
   ]
  },
  {
   "attachments": {},
   "cell_type": "markdown",
   "metadata": {},
   "source": [
    "    - print flag\n",
    "\n",
    "    해당 플래그 True로 바꾸면, 모든 프로세스들의 최초 실행 시 정상 시작 - 정상 종료 여부 출력함"
   ]
  },
  {
   "cell_type": "code",
   "execution_count": 213,
   "metadata": {},
   "outputs": [],
   "source": [
    "_PRINT_FLAG_ = False\n",
    "# _PRINT_FLAG_ = True"
   ]
  },
  {
   "attachments": {},
   "cell_type": "markdown",
   "metadata": {},
   "source": [
    "    - complete flag"
   ]
  },
  {
   "cell_type": "code",
   "execution_count": 214,
   "metadata": {},
   "outputs": [],
   "source": [
    "_COMPLETE_ = 0"
   ]
  },
  {
   "attachments": {},
   "cell_type": "markdown",
   "metadata": {},
   "source": [
    "    - 모든 스케쥴링 결과 저장하는 변수"
   ]
  },
  {
   "cell_type": "code",
   "execution_count": 215,
   "metadata": {},
   "outputs": [],
   "source": [
    "_result = dict()"
   ]
  },
  {
   "attachments": {},
   "cell_type": "markdown",
   "metadata": {},
   "source": [
    "## 1.2. Load data"
   ]
  },
  {
   "cell_type": "code",
   "execution_count": 216,
   "metadata": {},
   "outputs": [
    {
     "name": "stdout",
     "output_type": "stream",
     "text": [
      "--Data_loader-----------------\n",
      "- Num of Process : 5\n",
      "- Data Loading Success\n"
     ]
    }
   ],
   "source": [
    "def data_loader():\n",
    "    print(\"--Data_loader-----------------\")\n",
    "    _jsonfilename = \"case\" + str(_JSON_NUM_) + \".json\"\n",
    "    with open(_jsonfilename) as f:\n",
    "        json_object = json.load(f)\n",
    "\n",
    "    num_of_processs = len(json_object['list'])\n",
    "    print(\"- Num of Process :\", num_of_processs)\n",
    "\n",
    "    # data checking\n",
    "    assert json_object['list']\n",
    "    for i in range(num_of_processs):\n",
    "        assert json_object['list'][i][\"Num\"] > 0\n",
    "        assert json_object['list'][i][\"Burst_time\"] > 0\n",
    "        assert json_object['list'][i][\"Priority\"] > 0\n",
    "        assert json_object['list'][i][\"Arrival_time\"] >= 0\n",
    "        assert json_object['list'][i][\"Period\"] >= 0\n",
    "    print(\"- Data Loading Success\")\n",
    "\n",
    "    return json_object\n",
    "\n",
    "_DATA_ = data_loader()[\"list\"]\n"
   ]
  },
  {
   "attachments": {},
   "cell_type": "markdown",
   "metadata": {},
   "source": [
    "## 1.3. Function\n",
    "### 1.3.1. draw()\n"
   ]
  },
  {
   "attachments": {},
   "cell_type": "markdown",
   "metadata": {},
   "source": [
    "#### 1.3.1.1. Color List\n",
    "- 동일 번호 Process 마다 같은 색으로 시각화 하기 위해 색상표 작성.\n",
    "- \"_COLORS_\" 변수 길이 이상의 Process 갯수가 입력 될 시, 랜덤 색상 배정."
   ]
  },
  {
   "cell_type": "code",
   "execution_count": 217,
   "metadata": {},
   "outputs": [
    {
     "name": "stdout",
     "output_type": "stream",
     "text": [
      "_COLORS_ length is : 117\n"
     ]
    }
   ],
   "source": [
    "_COLORS_ = list(['#F0E68C','#ADD8E6','#FFB6C1','#87CEFA','#66CDAA','#7FFF00','#D2691E','#FF7F50','#6495ED','#00FFFF','#FFFF00','#099099','#00FF00','#FF0000','#FFF8DC','#C0C0C0','#008080','#FFA500','#F0F8FF','#FAEBD7','#7FFFD4','#F0FFFF','#F5F5DC','#FFE4C4','#FFEBCD','#8A2BE2','#A52A2A','#DEB887','#5F9EA0','#008000','#800000','#000080','#808000','#800080','#DC143C','#00008B','#008B8B','#B8860B','#A9A9A9','#006400','#BDB76B','#8B008B','#556B2F','#FF8C00','#9932CC','#8B0000','#E9967A','#8FBC8F','#483D8B','#2F4F4F','#00CED1','#9400D3','#FF1493','#00BFFF','#696969','#1E90FF','#B22222','#FFFAF0','#228B22','#DCDCDC','#F8F8FF','#FFD700','#DAA520','#ADFF2F','#F0FFF0','#FF69B4','#CD5C5C','#4B0082','#0000CD','#BA55D3','#9370DB','#3CB371','#7B68EE','#00FA9A','#48D1CC','#C71585','#191970','#F5FFFA','#FFE4E1','#FFE4B5','#FFDEAD','#FDF5E6','#6B8E23','#FF4500','#DA70D6','#EEE8AA','#98FB98','#AFEEEE','#DB7093','#FFEFD5','#FFDAB9','#CD853F','#FFC0CB','#DDA0DD','#B0E0E6','#BC8F8F','#4169E1','#8B4513','#FA8072','#F4A460','#2E8B57','#FFF5EE','#A0522D','#87CEEB','#6A5ACD','#708090','#FFFAFA','#00FF7F','#4682B4','#D2B48C','#D8BFD8','#FF6347','#40E0D0','#EE82EE','#F5DEB3','#F5F5F5','#9ACD32'])\n",
    "print(\"_COLORS_ length is :\", len(_COLORS_))"
   ]
  },
  {
   "attachments": {},
   "cell_type": "markdown",
   "metadata": {},
   "source": [
    "#### 1.3.1.2. draw Gantt chart\n",
    "- 프로세스 목록 json 파일 + Order 배열만으로 ploting 일반화 함.\n",
    "    - ex...\n",
    "    - Order == [[1, 50], [2, 30], [3, 40]]\n",
    "    - 1번 프로세스 50, 이후 2번 프로세스 30, 이후 3번 프로세스 40.. "
   ]
  },
  {
   "cell_type": "code",
   "execution_count": 218,
   "metadata": {},
   "outputs": [],
   "source": [
    "_ALL_JOB_IS_DONE_ = -999\n",
    "_NON_PROCESS_ = -1\n",
    "\n",
    "\n",
    "def draw(_order, _title='', _Displaying=True, _period_vector=[], _jop_complete_alram_vector = []):\n",
    "    ## set print level\n",
    "    # nothing\n",
    "    if (_Displaying == False):\n",
    "        _PRINT_LEVEL_ = 0\n",
    "    # all information\n",
    "    elif (_PRINT_FLAG_ == True):\n",
    "        _PRINT_LEVEL_ = 2\n",
    "    # simple information\n",
    "    else:\n",
    "        _PRINT_LEVEL_ = 1\n",
    "    if (_PRINT_LEVEL_ > 0):\n",
    "        print(\"- Order :\", _order)\n",
    "    if (_PRINT_LEVEL_ > 1):\n",
    "        print(\"--Start Analysis--------------\")\n",
    "        \n",
    "    # init default variable\n",
    "    fig, ax = plt.subplots(figsize=(10, 1))\n",
    "    _process = copy.deepcopy(_DATA_)\n",
    "    _sum_of_non_busrt_time = 0\n",
    "    _sum_of_response_time = 0\n",
    "    _sum_of_turnaround_time = 0\n",
    "    # _sum_of_running_time = 0\n",
    "    _now_time = 0\n",
    "    _cumsum_waiting_time = 0\n",
    "    _xlim_tickers = []\n",
    "\n",
    "    # 완전동작 카운터\n",
    "    _start_counter = 0\n",
    "    _exit_counter = 0\n",
    "\n",
    "    for _pid, _runtime in _order:\n",
    "        # NOT CPU RUNNING\n",
    "        if (_pid < 0):\n",
    "            # TAKE A REST\n",
    "            if (_runtime > 0):\n",
    "                _now_time += _runtime\n",
    "                _sum_of_non_busrt_time += _runtime\n",
    "                continue\n",
    "            # ALL JOP IS DONE\n",
    "            elif (_runtime == _ALL_JOB_IS_DONE_):\n",
    "                break\n",
    "        # CPU RUNNING\n",
    "        else:\n",
    "            # P_num은 1부터 시작하기에, index 맞추는 용도.\n",
    "            _JUST_PRINT_IDX_ = _pid\n",
    "            for i in range(len(_process)):\n",
    "                if (_process[i]['Num'] == _pid):\n",
    "                    _target = _process[i]\n",
    "            \n",
    "            # First come in CPU\n",
    "            if (_target['Priority'] > 0):\n",
    "                _sum_of_response_time += _now_time\n",
    "                if (_PRINT_LEVEL_ > 1):\n",
    "                    print(\"START - P\", _JUST_PRINT_IDX_, \"    time is\", _now_time)\n",
    "                # target의 우선순위에 음수로 시작시간 저장\n",
    "                # order는 정해져있고, Priority는 이 단계에서 사용하지 않음.\n",
    "                _target['Priority'] = 0\n",
    "                _target['Priority'] = - _now_time\n",
    "                _start_counter += 1\n",
    "                _xlim_tickers.append(_now_time)\n",
    "            \n",
    "            # 통계용 전체 대기 시간 구하기\n",
    "            _cumsum_waiting_time += _now_time\n",
    "            \n",
    "            # ploting\n",
    "            ax.barh(0, _runtime, left=_now_time,\n",
    "                    edgecolor='black', color=_COLORS_[_JUST_PRINT_IDX_-1])\n",
    "            _now_time += _runtime\n",
    "            ax.text(_now_time - _runtime/2, 0,\n",
    "                    ('P'+str(_JUST_PRINT_IDX_)), ha='center', va='center')\n",
    "            _xlim_tickers.append(_now_time)\n",
    "            \n",
    "            # 프로세스 정보에서 진행 시간만큼 차감\n",
    "            # >> 남은 시간만큼 더 스케줄링하면 됨.\n",
    "            _target['Burst_time'] -= _runtime\n",
    "            \n",
    "            # JOP IS DONE ?\n",
    "            if (_target['Burst_time'] == 0):\n",
    "                if (_PRINT_LEVEL_ > 1):\n",
    "                    print(\" P\", _JUST_PRINT_IDX_, \"Turnaround time is\",_now_time - _target['Arrival_time'])\n",
    "                _sum_of_turnaround_time += _now_time - _target['Arrival_time']\n",
    "                if (_PRINT_LEVEL_ > 1):\n",
    "                    print(\" P\", _JUST_PRINT_IDX_, \"Running    time is\", _now_time -abs(_target['Priority']))\n",
    "                if (_PRINT_LEVEL_ > 1):\n",
    "                    print(\"EXIT  - P\", _JUST_PRINT_IDX_, \"    time is\", _now_time)\n",
    "                    print(\"\")\n",
    "                _exit_counter +=1\n",
    "                \n",
    "    # is_success?\n",
    "    if (_PRINT_LEVEL_ > 0):\n",
    "        print(\"------------------------------\")\n",
    "        if (_start_counter != len(_process)):\n",
    "            print(\"START ERROR.. start fault cnt :\", len(_process) - _start_counter)\n",
    "        else:\n",
    "            print(\"ALL START GOOD JOB!!!\")\n",
    "        if (_exit_counter != len(_process)):\n",
    "            print(\"EXIT  ERROR.. exit  complete cnt :\", len(_process) - _exit_counter)\n",
    "        else:\n",
    "            print(\"ALL EXIT  GOOD JOB!!!\")\n",
    "            \n",
    "    # ploting\n",
    "    # _period_vector = [number, period]\n",
    "    _last_xlim_ticker = _xlim_tickers[-1]\n",
    "    _RTOS_PLOT_LANGTH_ = 1.2\n",
    "    # 각 벡터마다 gantt chart 끝까지 주기 티거 생성하기\n",
    "    if(_period_vector != []):\n",
    "        for _now_time in range(int(_last_xlim_ticker * _RTOS_PLOT_LANGTH_)):\n",
    "            _print_ticker = ''\n",
    "            _draw_flag = False\n",
    "            for _num, _period in _period_vector:\n",
    "                # 0초 이상이고, 주기 도래할 때마다 적기\n",
    "                if (_now_time % _period == 0 and _now_time > 0):\n",
    "                    # 누구의 period인지?\n",
    "                    if (_draw_flag == True):\n",
    "                        _print_ticker = _print_ticker + ','\n",
    "                    _print_ticker = _print_ticker + str(_num)\n",
    "                    _draw_flag = True\n",
    "                    # _xlim_tickers.append(_now_time)\n",
    "            if (_draw_flag == True):\n",
    "                ax.text(_now_time, 0.49, '|', ha='center', fontweight='bold')\n",
    "                ax.text(_now_time, 0.7, ('P'+_print_ticker),\n",
    "                        ha='center', va='center')\n",
    "    # x_ticker 중복 제거\n",
    "    _xlim_tickers = list(set(_xlim_tickers))\n",
    "    if (_period_vector != []):\n",
    "        ax.text(0, 0.7, 'Deadline', va='center')\n",
    "        ax.set_title(_title, y=1.5, ha='center')\n",
    "        _xlim_tickers = []\n",
    "        for _ticker in range(int(round(_last_xlim_ticker * _RTOS_PLOT_LANGTH_, -1))):\n",
    "            if(_ticker % 10 == 0):\n",
    "                _xlim_tickers.append(_ticker)\n",
    "        ax.set_xticks(_xlim_tickers)\n",
    "    else:\n",
    "        ax.set_title(_title, ha='center')\n",
    "        ax.set_xticks(_xlim_tickers)\n",
    "    ax.set_xlim([0, _now_time])\n",
    "    ax.set_yticks([])\n",
    "    \n",
    "    \n",
    "    if (_PRINT_LEVEL_ > 0):\n",
    "        plt.show()\n",
    "    \n",
    "    _ans = dict()\n",
    "    # 프로세스를 cpu가 실행하지 않은 평균 대기시간\n",
    "    _ans['Average_waiting_time'] = _cumsum_waiting_time/len(_process)\n",
    "    # 처음 대기 부터, 작업 완료에 대한 총 소요 시간 / p's 종료시점 - arrival_time\n",
    "    _ans['Average_Turnaround_time'] = _sum_of_turnaround_time/len(_process)\n",
    "    # 프로세스를 처음으로 실행하는 데에 걸린 시간\n",
    "    _ans['Average_Response_time'] = _sum_of_response_time/len(_process)\n",
    "    # cpu 이용률\n",
    "    _ans['CPU_utilization'] = float(\n",
    "        (_now_time-_sum_of_non_busrt_time)/_now_time*100)\n",
    "    # 단위 시간당 처리된 프로세스의 개수\n",
    "    _ans['Throughput'] = len(_process)/_now_time\n",
    "    # print value\n",
    "    if (_PRINT_LEVEL_ > 1):\n",
    "        for _subject, _value in _ans.items():\n",
    "            if (_subject == 'CPU_utilization'):\n",
    "                print(_subject, \": %2.2f\" % _value, \"%\")\n",
    "            elif (_subject == 'Throughput'):\n",
    "                print(_subject, \": %2.4f\" % _value)\n",
    "            else:\n",
    "                print(_subject, \":\", _value)\n",
    "    \n",
    "    return _ans\n",
    "_list =  copy.deepcopy(_DATA_)"
   ]
  },
  {
   "attachments": {},
   "cell_type": "markdown",
   "metadata": {},
   "source": [
    "### 1.3.3. is_complete()\n",
    "- 해당 list에 들은 burst time의 합이 0인지 판단하기\n"
   ]
  },
  {
   "cell_type": "code",
   "execution_count": 219,
   "metadata": {},
   "outputs": [],
   "source": [
    "def is_complete(_list):\n",
    "    _sum_of_all_burst_time = 0\n",
    "    for i in _list:\n",
    "        _sum_of_all_burst_time += i['Burst_time']\n",
    "    if (_sum_of_all_burst_time == 0):\n",
    "        return True\n",
    "    else:\n",
    "        return False"
   ]
  },
  {
   "attachments": {},
   "cell_type": "markdown",
   "metadata": {},
   "source": [
    "### 1.3.3. order_zip()\n",
    "- order 압축기\n",
    "- [5, 1]. [5, 1],..을 [5, 2]로 압축해줌"
   ]
  },
  {
   "cell_type": "code",
   "execution_count": 220,
   "metadata": {},
   "outputs": [],
   "source": [
    "def order_zip(_order):\n",
    "    _idx = 0\n",
    "    while (_idx < len(_order)):\n",
    "        # 만약 종료 지점 만나면 무한루프 탈출\n",
    "        if (_order[_idx+1] == [_NON_PROCESS_, _ALL_JOB_IS_DONE_]):\n",
    "            break\n",
    "        # 만약 같은 프로세스의 작업지시 만나면 합체\n",
    "        elif (_order[_idx][0] == _order[_idx + 1][0]):\n",
    "            _order[_idx + 1][1] += _order[_idx][1]\n",
    "            _order.pop(_idx)\n",
    "        # 다른 프로세스 만난거면 다음 process 압축하러 넘어감\n",
    "        else:\n",
    "            _idx += 1\n",
    "    return _order"
   ]
  },
  {
   "attachments": {},
   "cell_type": "markdown",
   "metadata": {},
   "source": [
    "# 2.Non Real-time Scheduling\n"
   ]
  },
  {
   "attachments": {},
   "cell_type": "markdown",
   "metadata": {},
   "source": [
    "## 2.1. First-come, First-Served\n",
    "- 기본 Arrival_time 정렬, 동일 시간 도착 시 프로세스 번호 순"
   ]
  },
  {
   "cell_type": "code",
   "execution_count": 221,
   "metadata": {},
   "outputs": [
    {
     "name": "stdout",
     "output_type": "stream",
     "text": [
      "- Order : [[2, 350], [3, 251], [4, 578], [1, 250], [5, 153], [-1, -999]]\n",
      "------------------------------\n",
      "ALL START GOOD JOB!!!\n",
      "ALL EXIT  GOOD JOB!!!\n"
     ]
    },
    {
     "data": {
      "image/png": "[encoded data removed]",
      "text/plain": [
       "<Figure size 1000x100 with 1 Axes>"
      ]
     },
     "metadata": {},
     "output_type": "display_data"
    }
   ],
   "source": [
    "def FCFS(_list, _Displaying=True):\n",
    "    _order = list()\n",
    "    _ready_queue = list()\n",
    "    # arrival_time 고려해야하니 timer 작동\n",
    "    for _now_time in range(_MAX_TIME_LENGTH_):\n",
    "        if (is_complete(_list) == True):\n",
    "            _order.append([_NON_PROCESS_, _ALL_JOB_IS_DONE_])\n",
    "            break\n",
    "        # 아직 안 끝남.\n",
    "        else:\n",
    "            # 현재 시간에 도착해있는 작업들 리스트업\n",
    "            for _process in _list:\n",
    "                if _process['Arrival_time'] == _now_time:\n",
    "                    _ready_queue.append(_process)\n",
    "            # 도착 대기\n",
    "            if _ready_queue == []:\n",
    "                _order.append([_NON_PROCESS_, 1])\n",
    "                pass\n",
    "            # _ready_queue에 프로세스 있을 시\n",
    "            else:   \n",
    "                # 아무 조건 없이 0번째 process 실행시킴\n",
    "                _ready_queue[0]['Burst_time'] -= 1\n",
    "                _order.append([_ready_queue[0]['Num'], 1])\n",
    "                if _ready_queue[0]['Burst_time'] == _COMPLETE_:\n",
    "                    _ready_queue.pop(0)\n",
    "                \n",
    "                \n",
    "    _order = order_zip(_order)\n",
    "    \n",
    "    if (_Displaying == True):\n",
    "        _result['FCFS'] = draw(_order, 'FCFS', _Displaying)\n",
    "    return _order\n",
    "\n",
    "_list = copy.deepcopy(_DATA_)\n",
    "_tmp = FCFS(_list)\n"
   ]
  },
  {
   "attachments": {},
   "cell_type": "markdown",
   "metadata": {},
   "source": [
    "## 2.2. Shortest-Job-First\n"
   ]
  },
  {
   "attachments": {},
   "cell_type": "markdown",
   "metadata": {},
   "source": [
    "### 2.2.1. SJF\n",
    "- 기본 Arrival_time 정렬, 동일 시간 도착 시 프로세스 번호 순\n",
    "- Arrival_time 시점 기준, Burst_time만 고려"
   ]
  },
  {
   "cell_type": "code",
   "execution_count": 222,
   "metadata": {},
   "outputs": [
    {
     "name": "stdout",
     "output_type": "stream",
     "text": [
      "- Order : [[2, 350], [3, 251], [1, 250], [5, 153], [4, 578], [-1, -999]]\n",
      "------------------------------\n",
      "ALL START GOOD JOB!!!\n",
      "ALL EXIT  GOOD JOB!!!\n"
     ]
    },
    {
     "data": {
      "image/png": "[encoded data removed]",
      "text/plain": [
       "<Figure size 1000x100 with 1 Axes>"
      ]
     },
     "metadata": {},
     "output_type": "display_data"
    }
   ],
   "source": [
    "def SJF(_list, _Displaying=True):\n",
    "    _order = list()\n",
    "    _ready_queue = list()\n",
    "\n",
    "    # arrival_time 고려해야하니 timer 작동\n",
    "    for _now_time in range(_MAX_TIME_LENGTH_):\n",
    "        if (is_complete(_list) == True):\n",
    "            _order.append([_NON_PROCESS_, _ALL_JOB_IS_DONE_])\n",
    "            break\n",
    "        # 아직 안 끝남.\n",
    "        else:\n",
    "            # 현재 시간에 도착해있는 작업들 리스트업\n",
    "            for _process in _list:\n",
    "                if _process['Arrival_time'] == _now_time:\n",
    "                    _ready_queue.append(_process)\n",
    "                    \n",
    "            if _ready_queue == []:\n",
    "                _order.append([_NON_PROCESS_, 1])\n",
    "                pass\n",
    "\n",
    "            else:                \n",
    "                # 만약 0초의 초기 상태나, 직전까지 대기하고 있었다면, burst_time 기준 재정렬\n",
    "                if _order == [] or _order[-1][0] == _NON_PROCESS_:\n",
    "                    _ready_queue.sort(key=lambda x: x['Burst_time'])\n",
    "                # burst time 기준으로 정렬했으니, 맨 앞이 제일 짧은 시간 가진 것\n",
    "                _ready_queue[0]['Burst_time'] -= 1\n",
    "                _order.append([_ready_queue[0]['Num'], 1])\n",
    "                if _ready_queue[0]['Burst_time'] == _COMPLETE_:\n",
    "                    _ready_queue.pop(0)\n",
    "                    # 재 스케쥴링 위해, burst time 기준 정렬하기\n",
    "                    _ready_queue.sort(key=lambda x: x['Burst_time'])\n",
    "    \n",
    "    _order = order_zip(_order)\n",
    "    if (_Displaying == True):\n",
    "        _result['SJF'] = draw(_order, 'SJF', _Displaying)\n",
    "    return _order\n",
    "\n",
    "\n",
    "_list = copy.deepcopy(_DATA_)\n",
    "_tmp = SJF(_list)\n"
   ]
  },
  {
   "attachments": {},
   "cell_type": "markdown",
   "metadata": {},
   "source": [
    "### 2.2.2. Preemptive_SJF\n",
    "- 기본 Arrival_time 정렬, 동일 시간 도착 시 프로세스 번호 순\n",
    "- Arrival_time 시점 기준, Burst_time만 고려\n",
    "- 단, Burst_time 짧은 process 도착 시, 이것으로 대체 됨."
   ]
  },
  {
   "cell_type": "code",
   "execution_count": 223,
   "metadata": {},
   "outputs": [
    {
     "name": "stdout",
     "output_type": "stream",
     "text": [
      "- Order : [[2, 78], [3, 251], [2, 171], [1, 250], [2, 50], [5, 153], [2, 51], [4, 578], [-1, -999]]\n",
      "------------------------------\n",
      "ALL START GOOD JOB!!!\n",
      "ALL EXIT  GOOD JOB!!!\n"
     ]
    },
    {
     "data": {
      "image/png": "[encoded data removed]",
      "text/plain": [
       "<Figure size 1000x100 with 1 Axes>"
      ]
     },
     "metadata": {},
     "output_type": "display_data"
    }
   ],
   "source": [
    "def Preemptive_SJF(_list, _Displaying=True):\n",
    "    _order = list()\n",
    "    _ready_queue = list()\n",
    "    \n",
    "    # arrival_time 고려해야하니 timer 작동\n",
    "    for _now_time in range(_MAX_TIME_LENGTH_):\n",
    "        if (is_complete(_list) == True):\n",
    "            _order.append([_NON_PROCESS_, _ALL_JOB_IS_DONE_])\n",
    "            break\n",
    "        # 아직 안 끝남.\n",
    "        else:\n",
    "            # 현재 시간에 도착해있는 작업들 리스트업\n",
    "            for _process in _list:\n",
    "                if _process['Arrival_time'] == _now_time:\n",
    "                    # priority 속성에 원래 burst time를 메모함.\n",
    "                    _process['Priority'] = _process['Burst_time']\n",
    "                    _ready_queue.append(_process)\n",
    "\n",
    "            if _ready_queue == []:\n",
    "                _order.append([_NON_PROCESS_, 1])\n",
    "                pass\n",
    "\n",
    "            else:\n",
    "                _ready_queue.sort(key=lambda x: x['Priority'])\n",
    "                # 메모한 burst time 기준으로 정렬했으니, 맨 앞이 제일 짧은 시간 가진 것\n",
    "                _ready_queue[0]['Burst_time'] -= 1\n",
    "                _order.append([_ready_queue[0]['Num'], 1])\n",
    "                if _ready_queue[0]['Burst_time'] == _COMPLETE_:\n",
    "                    _ready_queue.pop(0)\n",
    "                    \n",
    "    _order = order_zip(_order)\n",
    "    if (_Displaying == True):\n",
    "        _result['Preemptive_SJF'] = draw(_order, 'Preemptive_SJF', _Displaying)\n",
    "    return _order\n",
    "\n",
    "_list = copy.deepcopy(_DATA_)\n",
    "_tmp = Preemptive_SJF(_list)\n"
   ]
  },
  {
   "attachments": {},
   "cell_type": "markdown",
   "metadata": {},
   "source": [
    "### 2.2.3. Preemptive_SRJF\n",
    "- 기본 Arrival_time 정렬, 동일 시간 도착 시 프로세스 번호 순\n",
    "- Arrival_time 시점 기준, 잔여 Burst_time 고려\n",
    "- 단, 잔여 Burst_time 짧은 process 발견 시, 이것으로 대체 됨."
   ]
  },
  {
   "cell_type": "code",
   "execution_count": 224,
   "metadata": {},
   "outputs": [
    {
     "name": "stdout",
     "output_type": "stream",
     "text": [
      "- Order : [[2, 78], [3, 251], [2, 272], [1, 250], [5, 153], [4, 578], [-1, -999]]\n",
      "------------------------------\n",
      "ALL START GOOD JOB!!!\n",
      "ALL EXIT  GOOD JOB!!!\n"
     ]
    },
    {
     "data": {
      "image/png": "[encoded data removed]",
      "text/plain": [
       "<Figure size 1000x100 with 1 Axes>"
      ]
     },
     "metadata": {},
     "output_type": "display_data"
    }
   ],
   "source": [
    "def Preemptive_SRJF(_list, _Displaying=True):\n",
    "    _order = list()\n",
    "    _ready_queue = list()\n",
    "\n",
    "    # arrival_time 고려해야하니 timer 작동\n",
    "    for _now_time in range(_MAX_TIME_LENGTH_):\n",
    "        if (is_complete(_list) == True):\n",
    "            _order.append([_NON_PROCESS_, _ALL_JOB_IS_DONE_])\n",
    "            break\n",
    "        # 아직 안 끝남.\n",
    "        else:\n",
    "            # 현재 시간에 도착해있는 작업들 리스트업\n",
    "            for _process in _list:\n",
    "                if _process['Arrival_time'] == _now_time:\n",
    "                    _ready_queue.append(_process)\n",
    "\n",
    "            if _ready_queue == []:\n",
    "                _order.append([_NON_PROCESS_, 1])\n",
    "                pass\n",
    "\n",
    "            else:\n",
    "                # 실시간으로 재정렬\n",
    "                _ready_queue.sort(key=lambda x: x['Burst_time'])\n",
    "                # burst time 기준으로 정렬했으니, 맨 앞이 제일 짧은 시간 가진 것\n",
    "                _ready_queue[0]['Burst_time'] -= 1\n",
    "                _order.append([_ready_queue[0]['Num'], 1])\n",
    "                if _ready_queue[0]['Burst_time'] == _COMPLETE_:\n",
    "                    _ready_queue.pop(0)\n",
    "\n",
    "    _order = order_zip(_order)\n",
    "    if (_Displaying == True):\n",
    "        _result['Preemptive_SRJF'] = draw(_order, 'Preemptive_SRJF', _Displaying)\n",
    "    return _order\n",
    "\n",
    "_list = copy.deepcopy(_DATA_)\n",
    "_tmp = Preemptive_SRJF(_list)\n"
   ]
  },
  {
   "attachments": {},
   "cell_type": "markdown",
   "metadata": {},
   "source": [
    "## 2.3. Priority First Served"
   ]
  },
  {
   "attachments": {},
   "cell_type": "markdown",
   "metadata": {},
   "source": [
    "### 2.3.1. Priority\n",
    "- 기본 Arrival_time 정렬, 동일 시간 도착 시 프로세스 번호 순\n",
    "- Priority 고려, 우선 순위 동일 시 프로세스 번호 순"
   ]
  },
  {
   "cell_type": "code",
   "execution_count": 225,
   "metadata": {},
   "outputs": [
    {
     "name": "stdout",
     "output_type": "stream",
     "text": [
      "- Order : [[2, 350], [3, 251], [1, 250], [5, 153], [4, 578], [-1, -999]]\n",
      "------------------------------\n",
      "ALL START GOOD JOB!!!\n",
      "ALL EXIT  GOOD JOB!!!\n"
     ]
    },
    {
     "data": {
      "image/png": "[encoded data removed]",
      "text/plain": [
       "<Figure size 1000x100 with 1 Axes>"
      ]
     },
     "metadata": {},
     "output_type": "display_data"
    }
   ],
   "source": [
    "def Priority(_list, _Displaying=True):\n",
    "    _order = list()\n",
    "    _ready_queue = list()\n",
    "\n",
    "    # arrival_time 고려해야하니 timer 작동\n",
    "    for _now_time in range(_MAX_TIME_LENGTH_):\n",
    "        if (is_complete(_list) == True):\n",
    "            _order.append([_NON_PROCESS_, _ALL_JOB_IS_DONE_])\n",
    "            break\n",
    "        # 아직 안 끝남.\n",
    "        else:\n",
    "            # 현재 시간에 도착해있는 작업들 리스트업\n",
    "            for _process in _list:\n",
    "                if _process['Arrival_time'] == _now_time:\n",
    "                    _ready_queue.append(_process)\n",
    "\n",
    "            if _ready_queue == []:\n",
    "                _order.append([_NON_PROCESS_, 1])\n",
    "                pass\n",
    "\n",
    "            else:\n",
    "                # 만약 0초의 초기 상태나, 직전까지 대기하고 있었다면, burst_time 기준 재정렬\n",
    "                if _order == [] or _order[-1][0] == _NON_PROCESS_:\n",
    "                    _ready_queue.sort(key=lambda x: x['Priority'])\n",
    "                # burst time 기준으로 정렬했으니, 맨 앞이 제일 짧은 시간 가진 것\n",
    "                _ready_queue[0]['Burst_time'] -= 1\n",
    "                _order.append([_ready_queue[0]['Num'], 1])\n",
    "                if _ready_queue[0]['Burst_time'] == _COMPLETE_:\n",
    "                    _ready_queue.pop(0)\n",
    "                    # 재 스케쥴링 위해, burst time 기준 정렬하기\n",
    "                    _ready_queue.sort(key=lambda x: x['Priority'])\n",
    "                \n",
    "                \n",
    "    _order = order_zip(_order)\n",
    "    if (_Displaying == True):\n",
    "        _result['non-preemptive_Priority'] = draw(_order, 'non-preemptive_Priority', _Displaying)\n",
    "    return _order\n",
    "\n",
    "_list = copy.deepcopy(_DATA_)\n",
    "_tmp = Priority(_list)\n"
   ]
  },
  {
   "attachments": {},
   "cell_type": "markdown",
   "metadata": {},
   "source": [
    "### 2.3.2. Preemptive_Priority\n",
    "- 기본 Arrival_time 정렬, 동일 시간 도착 시 프로세스 번호 순\n",
    "- Priority 고려, 우선 순위 동일 시 프로세스 번호 순\n",
    "- 단, 더 높은 우선 순위 process 발견 시 이것으로 대체 됨."
   ]
  },
  {
   "cell_type": "code",
   "execution_count": 226,
   "metadata": {},
   "outputs": [
    {
     "name": "stdout",
     "output_type": "stream",
     "text": [
      "- Order : [[2, 78], [3, 251], [2, 171], [1, 250], [2, 50], [5, 153], [2, 51], [4, 578], [-1, -999]]\n",
      "------------------------------\n",
      "ALL START GOOD JOB!!!\n",
      "ALL EXIT  GOOD JOB!!!\n"
     ]
    },
    {
     "data": {
      "image/png": "[encoded data removed]",
      "text/plain": [
       "<Figure size 1000x100 with 1 Axes>"
      ]
     },
     "metadata": {},
     "output_type": "display_data"
    }
   ],
   "source": [
    "def Preemptive_Priority(_list, _Displaying=True):\n",
    "    _order = list()\n",
    "    _ready_queue = list()\n",
    "\n",
    "    # arrival_time 고려해야하니 timer 작동\n",
    "    for _now_time in range(_MAX_TIME_LENGTH_):\n",
    "        if (is_complete(_list) == True):\n",
    "            _order.append([_NON_PROCESS_, _ALL_JOB_IS_DONE_])\n",
    "            break\n",
    "        # 아직 안 끝남.\n",
    "        else:\n",
    "            # 현재 시간에 도착해있는 작업들 리스트업\n",
    "            for _process in _list:\n",
    "                if _process['Arrival_time'] == _now_time:\n",
    "                    _ready_queue.append(_process)\n",
    "\n",
    "            if _ready_queue == []:\n",
    "                _order.append([_NON_PROCESS_, 1])\n",
    "                pass\n",
    "\n",
    "            else:\n",
    "                _ready_queue.sort(key=lambda x: x['Priority'])\n",
    "                # burst time 기준으로 정렬했으니, 맨 앞이 제일 짧은 시간 가진 것\n",
    "                _ready_queue[0]['Burst_time'] -= 1\n",
    "                _order.append([_ready_queue[0]['Num'], 1])\n",
    "                if _ready_queue[0]['Burst_time'] == _COMPLETE_:\n",
    "                    _ready_queue.pop(0)\n",
    "\n",
    "    _order = order_zip(_order)\n",
    "    if (_Displaying == True):\n",
    "        _result['Preemptive_Priority'] = draw(_order, 'Preemptive_Priority', _Displaying)\n",
    "    return _order\n",
    "\n",
    "\n",
    "_list = copy.deepcopy(_DATA_)\n",
    "_tmp = Preemptive_Priority(_list)\n"
   ]
  },
  {
   "attachments": {},
   "cell_type": "markdown",
   "metadata": {},
   "source": [
    "## 2.4. Round robin\n",
    "- 기본 Arrival_time 정렬, 동일 시간 도착 시 프로세스 번호 순\n",
    "- QUANTUM_TIME 내에 처리하지 못 할 경우, 남은 Burst_time은 큐의 맨 뒤로 감."
   ]
  },
  {
   "attachments": {},
   "cell_type": "markdown",
   "metadata": {},
   "source": [
    "### 2.4.1. Round Robin"
   ]
  },
  {
   "cell_type": "code",
   "execution_count": 227,
   "metadata": {},
   "outputs": [
    {
     "name": "stdout",
     "output_type": "stream",
     "text": [
      "- Order : [[2, 80], [3, 4], [2, 4], [3, 4], [2, 4], [3, 4], [2, 4], [3, 4], [2, 4], [3, 4], [2, 4], [3, 4], [2, 4], [3, 4], [2, 4], [3, 4], [2, 4], [3, 4], [2, 4], [3, 4], [2, 4], [3, 4], [4, 4], [2, 4], [3, 4], [4, 4], [2, 4], [3, 4], [4, 4], [2, 4], [3, 4], [4, 4], [2, 4], [3, 4], [4, 4], [2, 4], [3, 4], [4, 4], [2, 4], [3, 4], [4, 4], [2, 4], [3, 4], [4, 4], [2, 4], [3, 4], [4, 4], [2, 4], [3, 4], [4, 4], [2, 4], [3, 4], [4, 4], [2, 4], [3, 4], [4, 4], [2, 4], [3, 4], [4, 4], [2, 4], [3, 4], [4, 4], [2, 4], [3, 4], [4, 4], [2, 4], [3, 4], [4, 4], [2, 4], [3, 4], [4, 4], [2, 4], [3, 4], [4, 4], [2, 4], [3, 4], [4, 4], [2, 4], [3, 4], [4, 4], [2, 4], [3, 4], [4, 4], [2, 4], [3, 4], [4, 4], [2, 4], [3, 4], [4, 4], [2, 4], [3, 4], [4, 4], [2, 4], [3, 4], [4, 4], [2, 4], [3, 4], [4, 4], [2, 4], [3, 4], [4, 4], [2, 4], [3, 4], [4, 4], [2, 4], [3, 4], [4, 4], [2, 4], [3, 4], [1, 4], [4, 4], [2, 4], [3, 4], [1, 4], [4, 4], [2, 4], [3, 4], [1, 4], [4, 4], [2, 4], [3, 4], [1, 4], [4, 4], [2, 4], [3, 4], [1, 4], [4, 4], [2, 4], [3, 4], [1, 4], [4, 4], [2, 4], [3, 4], [1, 4], [4, 4], [2, 4], [3, 4], [1, 4], [4, 4], [2, 4], [3, 4], [1, 4], [4, 4], [2, 4], [3, 4], [1, 4], [4, 4], [2, 4], [3, 4], [1, 4], [4, 4], [2, 4], [3, 4], [1, 4], [4, 4], [2, 4], [3, 4], [1, 4], [4, 4], [2, 4], [3, 4], [1, 4], [4, 4], [2, 4], [3, 4], [1, 4], [4, 4], [2, 4], [3, 4], [1, 4], [4, 4], [2, 4], [3, 4], [1, 4], [4, 4], [2, 4], [3, 4], [1, 4], [4, 4], [2, 4], [3, 4], [1, 4], [4, 4], [2, 4], [3, 4], [5, 4], [1, 4], [4, 4], [2, 4], [3, 4], [5, 4], [1, 4], [4, 4], [2, 4], [3, 4], [5, 4], [1, 4], [4, 4], [2, 4], [3, 4], [5, 4], [1, 4], [4, 4], [2, 4], [3, 3], [5, 4], [1, 4], [4, 4], [2, 4], [5, 4], [1, 4], [4, 4], [2, 4], [5, 4], [1, 4], [4, 4], [2, 4], [5, 4], [1, 4], [4, 4], [2, 4], [5, 4], [1, 4], [4, 4], [2, 4], [5, 4], [1, 4], [4, 4], [2, 2], [5, 4], [1, 4], [4, 4], [5, 4], [1, 4], [4, 4], [5, 4], [1, 4], [4, 4], [5, 4], [1, 4], [4, 4], [5, 4], [1, 4], [4, 4], [5, 4], [1, 4], [4, 4], [5, 4], [1, 4], [4, 4], [5, 4], [1, 4], [4, 4], [5, 4], [1, 4], [4, 4], [5, 4], [1, 4], [4, 4], [5, 4], [1, 4], [4, 4], [5, 4], [1, 4], [4, 4], [5, 4], [1, 4], [4, 4], [5, 4], [1, 4], [4, 4], [5, 4], [1, 4], [4, 4], [5, 4], [1, 4], [4, 4], [5, 4], [1, 4], [4, 4], [5, 4], [1, 4], [4, 4], [5, 4], [1, 4], [4, 4], [5, 4], [1, 4], [4, 4], [5, 4], [1, 4], [4, 4], [5, 4], [1, 4], [4, 4], [5, 4], [1, 4], [4, 4], [5, 4], [1, 4], [4, 4], [5, 4], [1, 4], [4, 4], [5, 4], [1, 4], [4, 4], [5, 4], [1, 4], [4, 4], [5, 4], [1, 4], [4, 4], [5, 1], [1, 4], [4, 4], [1, 4], [4, 4], [1, 4], [4, 4], [1, 4], [4, 4], [1, 4], [4, 4], [1, 2], [4, 214], [-1, -999]]\n",
      "------------------------------\n",
      "ALL START GOOD JOB!!!\n",
      "ALL EXIT  GOOD JOB!!!\n"
     ]
    },
    {
     "data": {
      "image/png": "[encoded data removed]",
      "text/plain": [
       "<Figure size 1000x100 with 1 Axes>"
      ]
     },
     "metadata": {},
     "output_type": "display_data"
    }
   ],
   "source": [
    "def RR(_list, _Displaying=True, _usr_quantum_time=_DEFAULT_QUANTUM_TIME_):\n",
    "    _order = list()\n",
    "    _ready_queue = list()\n",
    "    _QUANTUM_TIME_ = _usr_quantum_time\n",
    "    \n",
    "    _remain_quantum_time = _QUANTUM_TIME_\n",
    "    \n",
    "    # arrival_time 고려해야하니 timer 작동\n",
    "    for _now_time in range(_MAX_TIME_LENGTH_):\n",
    "        if (is_complete(_list) == True):\n",
    "            _order.append([_NON_PROCESS_, _ALL_JOB_IS_DONE_])\n",
    "            break\n",
    "        # 아직 안 끝남.\n",
    "        else:\n",
    "            # 현재 시간에 도착해있는 작업들 리스트업\n",
    "            for _process in _list:\n",
    "                if _process['Arrival_time'] == _now_time:\n",
    "                    _ready_queue.append(_process)\n",
    "\n",
    "            if _ready_queue == []:\n",
    "                _order.append([_NON_PROCESS_, 1])\n",
    "                pass\n",
    "            else:\n",
    "                if _remain_quantum_time == _COMPLETE_:\n",
    "                    _remain_quantum_time = _QUANTUM_TIME_\n",
    "                # 그리고 오더 1초씩 추가\n",
    "                _order.append([_ready_queue[0]['Num'], 1])\n",
    "                # 남은 burst_time 1초 삭감\n",
    "                _ready_queue[0]['Burst_time'] -= 1\n",
    "                # 남은 오더 가능 횟수 1회 삭감\n",
    "                _remain_quantum_time -= 1\n",
    "                # 만약 몇초 안 남아서 퀀텀타임보다 일찍 끝나면?\n",
    "                if (_ready_queue[0]['Burst_time'] == _COMPLETE_):\n",
    "                    # 기능종료와 큐에서 삭제\n",
    "                    _ready_queue.pop(0)\n",
    "                    _remain_quantum_time = _COMPLETE_\n",
    "                # 만약 퀀텀타임을 다 사용하면?\n",
    "                elif (_remain_quantum_time == 0):\n",
    "                    # 큐의 맨 뒤로 돌려보냄\n",
    "                    _ready_queue.append(_ready_queue.pop(0))\n",
    "\n",
    "    _order = order_zip(_order)\n",
    "    if (_Displaying == True):\n",
    "        _result['Round-Robin'] = draw(_order, 'Round-Robin', _Displaying)\n",
    "    return _order\n",
    "\n",
    "_list = copy.deepcopy(_DATA_)\n",
    "_tmp = RR(_list, True, _DEFAULT_QUANTUM_TIME_)\n"
   ]
  },
  {
   "attachments": {},
   "cell_type": "markdown",
   "metadata": {},
   "source": [
    "### 2.4.2. Priority + Round robin\n",
    "- 기본 Arrival_time 정렬, 동일 시간 도착 시 프로세스 번호 순\n",
    "- QUANTUM_TIME 내에 처리하지 못 할 경우, 남은 Burst_time은 큐의 맨 뒤로 감.\n",
    "- Priority 고려, 우선 순위 동일 시 프로세스 번호 순"
   ]
  },
  {
   "cell_type": "code",
   "execution_count": 228,
   "metadata": {},
   "outputs": [
    {
     "name": "stdout",
     "output_type": "stream",
     "text": [
      "- Order : [[2, 80], [3, 251], [2, 4], [4, 4], [2, 4], [4, 4], [2, 4], [4, 4], [2, 4], [4, 4], [2, 4], [4, 4], [2, 4], [4, 4], [2, 4], [4, 4], [2, 4], [4, 4], [2, 4], [4, 4], [2, 4], [4, 4], [2, 4], [4, 4], [2, 4], [4, 4], [2, 4], [4, 4], [2, 4], [4, 4], [2, 4], [4, 4], [2, 4], [4, 4], [2, 4], [4, 4], [2, 4], [4, 4], [2, 4], [4, 4], [2, 4], [4, 4], [2, 4], [4, 4], [2, 4], [1, 250], [4, 4], [2, 4], [4, 4], [2, 4], [4, 4], [2, 4], [4, 4], [2, 4], [4, 4], [2, 4], [4, 4], [2, 4], [5, 153], [4, 4], [2, 4], [4, 4], [2, 4], [4, 4], [2, 4], [4, 4], [2, 4], [4, 4], [2, 4], [4, 4], [2, 4], [4, 4], [2, 4], [4, 4], [2, 4], [4, 4], [2, 4], [4, 4], [2, 4], [4, 4], [2, 4], [4, 4], [2, 4], [4, 4], [2, 4], [4, 4], [2, 4], [4, 4], [2, 4], [4, 4], [2, 4], [4, 4], [2, 4], [4, 4], [2, 4], [4, 4], [2, 4], [4, 4], [2, 4], [4, 4], [2, 4], [4, 4], [2, 4], [4, 4], [2, 4], [4, 4], [2, 4], [4, 4], [2, 4], [4, 4], [2, 4], [4, 4], [2, 4], [4, 4], [2, 4], [4, 4], [2, 4], [4, 4], [2, 4], [4, 4], [2, 4], [4, 4], [2, 4], [4, 4], [2, 4], [4, 4], [2, 4], [4, 4], [2, 4], [4, 4], [2, 4], [4, 4], [2, 4], [4, 4], [2, 4], [4, 4], [2, 4], [4, 4], [2, 2], [4, 310], [-1, -999]]\n",
      "------------------------------\n",
      "ALL START GOOD JOB!!!\n",
      "ALL EXIT  GOOD JOB!!!\n"
     ]
    },
    {
     "data": {
      "image/png": "[encoded data removed]",
      "text/plain": [
       "<Figure size 1000x100 with 1 Axes>"
      ]
     },
     "metadata": {},
     "output_type": "display_data"
    }
   ],
   "source": [
    "def Priority_RR(_list, _Displaying=True, _usr_quantum_time=_DEFAULT_QUANTUM_TIME_):\n",
    "    _order = list()\n",
    "    _ready_queue = list()\n",
    "    _QUANTUM_TIME_ = _usr_quantum_time\n",
    "\n",
    "    _remain_quantum_time = _QUANTUM_TIME_\n",
    "\n",
    "    # arrival_time 고려해야하니 timer 작동\n",
    "    for _now_time in range(_MAX_TIME_LENGTH_):\n",
    "        if (is_complete(_list) == True):\n",
    "            _order.append([_NON_PROCESS_, _ALL_JOB_IS_DONE_])\n",
    "            break\n",
    "        # 아직 안 끝남.\n",
    "        else:\n",
    "            # 현재 시간에 도착해있는 작업들 리스트업\n",
    "            for _process in _list:\n",
    "                if _process['Arrival_time'] == _now_time:\n",
    "                    _ready_queue.append(_process)\n",
    "\n",
    "            if _ready_queue == []:\n",
    "                _order.append([_NON_PROCESS_, 1])\n",
    "                pass\n",
    "            else:\n",
    "                if _remain_quantum_time == _COMPLETE_:\n",
    "                    _ready_queue.sort(key=lambda x: x['Priority'])\n",
    "                    _remain_quantum_time = _QUANTUM_TIME_\n",
    "                # 그리고 오더 1초씩 추가\n",
    "                _order.append([_ready_queue[0]['Num'], 1])\n",
    "                # 남은 burst_time 1초 삭감\n",
    "                _ready_queue[0]['Burst_time'] -= 1\n",
    "                # 남은 오더 가능 횟수 1회 삭감\n",
    "                _remain_quantum_time -= 1\n",
    "                # 만약 몇초 안 남아서 퀀텀타임보다 일찍 끝나면?\n",
    "                if (_ready_queue[0]['Burst_time'] == _COMPLETE_):\n",
    "                    # 기능종료와 큐에서 삭제\n",
    "                    _ready_queue.pop(0)\n",
    "                    _remain_quantum_time = _COMPLETE_\n",
    "                # 만약 퀀텀타임을 다 사용하면?\n",
    "                elif (_remain_quantum_time == 0):\n",
    "                    # 큐의 맨 뒤로 돌려보냄\n",
    "                    _ready_queue.append(_ready_queue.pop(0))\n",
    "                    \n",
    "                    \n",
    "    _order = order_zip(_order)\n",
    "    if (_Displaying == True):\n",
    "        _result['Priority_Round-Robin'] = draw(_order,\n",
    "                                               'Priority_Round-Robin', _Displaying)\n",
    "    return _order\n",
    "\n",
    "_list = copy.deepcopy(_DATA_)\n",
    "_tmp = Priority_RR(_list, True, _DEFAULT_QUANTUM_TIME_)\n"
   ]
  },
  {
   "attachments": {},
   "cell_type": "markdown",
   "metadata": {},
   "source": [
    "## 2.5. Multi Level Queue\n",
    "- 스케줄링 함수 호출 시, 2번째 파라미터로 False 주면 출력 아예 없음."
   ]
  },
  {
   "attachments": {},
   "cell_type": "markdown",
   "metadata": {},
   "source": [
    "### 2.5.1. Multi Level Queue\n"
   ]
  },
  {
   "cell_type": "code",
   "execution_count": 229,
   "metadata": {},
   "outputs": [
    {
     "name": "stdout",
     "output_type": "stream",
     "text": [
      "- Order : [[2, 78], [3, 251], [2, 171], [1, 250], [2, 50], [5, 153], [2, 51], [4, 578], [-1, -999]]\n",
      "------------------------------\n",
      "ALL START GOOD JOB!!!\n",
      "ALL EXIT  GOOD JOB!!!\n"
     ]
    },
    {
     "data": {
      "image/png": "[encoded data removed]",
      "text/plain": [
       "<Figure size 1000x100 with 1 Axes>"
      ]
     },
     "metadata": {},
     "output_type": "display_data"
    }
   ],
   "source": [
    "def Multi_level_queue(_list, _quantum_time):\n",
    "    _order = list()\n",
    "    # 서로다른 priority 갯수 세기\n",
    "    _unique_priorities = set()\n",
    "    for process in _list:\n",
    "        _unique_priorities.add(process['Priority'])\n",
    "    # index 나중에 필요해서 list로 전환\n",
    "    _unique_priorities = list(_unique_priorities)\n",
    "    _unique_priorities = sorted(_unique_priorities)\n",
    "    # create level empty queue\n",
    "    _level = list()\n",
    "    # print(_unique_priorities)\n",
    "    for i in range(len(_unique_priorities)):\n",
    "        _level.append([])\n",
    "        # 동일 레벨 갯수대로 각각 level_queue 생성하기\n",
    "    \n",
    "    for _target_priority in _unique_priorities:\n",
    "        for i in range(len(_list)):\n",
    "            if (_list[i]['Priority'] == _target_priority):\n",
    "                _level[_unique_priorities.index(\n",
    "                    _target_priority)].append(_list[i])\n",
    "    \n",
    "    #####################################################################    \n",
    "    ## 각자 레벨에서 각기 다른 방식으로 스케쥴링 된 것들이, 선점형 우선순위 스케쥴링 되어야함.\n",
    "    # each level scheduling\n",
    "    _level_complete = list()\n",
    "    for i in range(len(_level)):\n",
    "        if(i == 0):\n",
    "            _level_complete.append(Priority_RR(\n",
    "                _level[i], False, _quantum_time))\n",
    "        elif(i == 1):\n",
    "            _level_complete.append(Priority_RR(\n",
    "                _level[i], False, _quantum_time))\n",
    "        elif (i == 2):\n",
    "            _level_complete.append(Preemptive_SRJF(_level[i], False))\n",
    "        elif (i == 3):\n",
    "            _level_complete.append(Preemptive_SRJF(_level[i], False))\n",
    "        elif (i == 4):\n",
    "            _level_complete.append(SJF(_level[i], False))\n",
    "        else:\n",
    "            _level_complete.append(FCFS(_level[i], False))\n",
    "    \n",
    "    #####################################################################\n",
    "    ### 우선순위 기반 큐 간 스케쥴링 \n",
    "    for _now_time in range(_MAX_TIME_LENGTH_):\n",
    "\n",
    "        \n",
    "        # 하위 우선순위부터 _now_time에 실행할 것을 갱신함.\n",
    "        # 제일 마지막에 갱신된 것이 가장 높은 우선순위 & 실행가능한 프로세스임.\n",
    "        _now_order = [_NON_PROCESS_, 1]\n",
    "        for _each_level in reversed(_level_complete):\n",
    "            # 맨 앞이 무엇이든, 0초 남은 complete면 삭제\n",
    "            if (_each_level[0][1] == _COMPLETE_):\n",
    "                _each_level.pop(0)\n",
    "            # 만약 대기 플래그였다면 ? 대기 시간 1초 진행 (삭감)\n",
    "            if (_each_level[0][0] == _NON_PROCESS_):\n",
    "                _each_level[0][1] -= 1    \n",
    "            # queue의 맨 앞이 프로세스고, 진행 가능하면 진행할 것임\n",
    "            else:\n",
    "                # _now_order[0]은 process number임\n",
    "                _now_order[0] = _each_level[0][0]\n",
    "        # 만약 모두 대기시간이라면, _now_order == [_NON_PROCESS_, 1] 그대로일 것,\n",
    "        # 만약 최우선 우선순위 프로세스 탐지되면, _now_order == [NUMBER, 1] 로 변경되었을 것.\n",
    "        ##################################################\n",
    "        # 그런데 만약 모든 레벨에서 작업 종료되었다면, [_NON_PROCESS, _ALL_JOB_IS_DONE_] 에서 \n",
    "        # _ALL_JOB_IS_DONE_ -= 1 이 누적된 종료 플래그만 남아있을 것.\n",
    "        _end_flag = True\n",
    "        # 만약 모든 레벨에서 유효한 잔여 burst_time 하나라도 발견되면? 종료 취소\n",
    "        for _each_level in _level_complete:\n",
    "            if (_each_level[0][1] > _ALL_JOB_IS_DONE_):\n",
    "                _end_flag = False\n",
    "        # 모든 레벨 검사 후, 엔드 플래그 변경 없으면, 전체 스케쥴링 종료 플래그 삽입\n",
    "        if (_end_flag == True):\n",
    "            break\n",
    "        ##################################################\n",
    "        # 만약 정해진 것이 _NON_PROCESS라면 pass\n",
    "        if _now_order == [_NON_PROCESS_, 1]:\n",
    "            _order.append(_now_order)\n",
    "            \n",
    "        # 만약 정해진 것이 PROCESS라면 그 number process 찾아서 -1 시키기\n",
    "        else:\n",
    "            for _each_level in _level_complete:\n",
    "                # 해당 프로세스 찾을 시\n",
    "                if (_now_order[0] == _each_level[0][0]):\n",
    "                    _each_level[0][1] -= 1\n",
    "                    _order.append(_now_order)\n",
    "                    break\n",
    "\n",
    "            \n",
    "    _order.append([_NON_PROCESS_, _ALL_JOB_IS_DONE_])\n",
    "    # order 압축\n",
    "    _order = order_zip(_order)\n",
    "    _result['Multi_level_queue'] = draw(_order, 'Multi_level_queue', True)\n",
    "\n",
    "_list = copy.deepcopy(_DATA_)\n",
    "Multi_level_queue(_list, 30)\n"
   ]
  },
  {
   "attachments": {},
   "cell_type": "markdown",
   "metadata": {},
   "source": [
    "### 2.5.2. Multi Level Feedback Queue\n",
    "\n",
    "case 2에서 1번 bursttime 25주면 8, 16하고 1따로 해야하는데, 두번째 점유에서 17s 진행됨.\n",
    "버그 잡아야함"
   ]
  },
  {
   "cell_type": "code",
   "execution_count": 230,
   "metadata": {},
   "outputs": [
    {
     "name": "stdout",
     "output_type": "stream",
     "text": [
      "- Order : [[2, 130], [3, 40], [4, 40], [2, 220], [3, 90], [1, 40], [4, 90], [3, 121], [1, 90], [5, 40], [4, 448], [1, 120], [5, 113], [-1, -999]]\n",
      "------------------------------\n",
      "ALL START GOOD JOB!!!\n",
      "ALL EXIT  GOOD JOB!!!\n"
     ]
    },
    {
     "data": {
      "image/png": "[encoded data removed]",
      "text/plain": [
       "<Figure size 1000x100 with 1 Axes>"
      ]
     },
     "metadata": {},
     "output_type": "display_data"
    }
   ],
   "source": [
    "def is_empty_list(_levels):\n",
    "    is_empty = True\n",
    "    for i in range(len(_levels)):\n",
    "        if _levels[i]:\n",
    "            is_empty = False\n",
    "            break\n",
    "    return is_empty\n",
    "\n",
    "def Multi_level_feedback_queue(_list, _level1 = 8, _level2 = 16):\n",
    "    _order = list()\n",
    "\n",
    "    # 각 quantum 8, 16, FCFO\n",
    "    _levels = [[],[],[]]\n",
    "    _LEVEL_1_QUANTUM_TIME_ = _level1\n",
    "    _LEVEL_2_QUANTUM_TIME_ = _level2\n",
    "    #####################################################################\n",
    "    # 우선순위 기반 큐 간 스케쥴링\n",
    "    for _now_time in range(_MAX_TIME_LENGTH_):\n",
    "        if (is_complete(_list) == True):\n",
    "            _order.append([_NON_PROCESS_, _ALL_JOB_IS_DONE_])\n",
    "            break\n",
    "        # 현재 시간에 도착해있는 작업들 리스트업\n",
    "        for _process in _list:\n",
    "            if (_process['Arrival_time'] == _now_time):\n",
    "                _levels[0].append(_process)\n",
    "                # priority에 부여된 퀀텀타임 메모함\n",
    "                _levels[0][-1]['Priority'] = _levels[0][-1]['Burst_time']\n",
    "                # Period에 스케쥴링 횟수 메모함. 0번이면 최초 퀀텀, 1번이면 둘째 퀀텀, 세번이면 FCFS 배정.\n",
    "                _levels[0][-1]['Period'] = 0\n",
    "                if (_levels[0][-1]['Burst_time'] < _LEVEL_1_QUANTUM_TIME_):\n",
    "                    pass\n",
    "                else:\n",
    "                    _levels[0][-1]['Burst_time'] = _LEVEL_1_QUANTUM_TIME_\n",
    "        ###############################################################\n",
    "        # 하나도 도착 안 했으면 >> wait\n",
    "        if (is_empty_list(_levels) == True):\n",
    "            _order.append([_NON_PROCESS_, 1])\n",
    "            pass\n",
    "        # 기본 세팅 끝. 이하 levels 존재 가정함.\n",
    "        else:\n",
    "            ###########################\n",
    "            # 첫 레벨에 없는 경우\n",
    "            while _levels[0] == []:\n",
    "                # 둘째 레벨에도 없는 경우\n",
    "                while _levels[1] == []:\n",
    "                    _levels[1].append(_levels[2].pop(0))\n",
    "                    _levels[1][0]['Burst_time'] = _levels[1][0]['Priority']\n",
    "                # 둘째 레벨까지 채워 넣었음.\n",
    "                _levels[0].append(_levels[1].pop(0))\n",
    "                if (_levels[0][0]['Period'] == 2):\n",
    "                    _levels[0][0]['Burst_time'] = _levels[0][0]['Priority']\n",
    "                    pass\n",
    "                else:\n",
    "                    _levels[0][0]['Burst_time'] = _LEVEL_2_QUANTUM_TIME_\n",
    "            ######## 대기는 위에서 예외처리했으니, 무조건 1단계에 process 존재함.\n",
    "            _now_process = _levels[0][0]\n",
    "            \n",
    "            # 할당 시간 오더에 추가하고\n",
    "            _order.append([_now_process['Num'], 1])\n",
    "            # 일단 시간 줄이고 다음 큐에 대입\n",
    "            _now_process['Burst_time'] -= 1\n",
    "            _now_process['Priority'] -= 1\n",
    "            \n",
    "            \n",
    "            # 배정시간 끝난 경우, 아래 레벨로 강등\n",
    "            if (_now_process['Priority'] > 0 and _now_process['Burst_time'] == 0):\n",
    "                # 여기서 burst time = 0 해버리면, is complete 함수에서 전체 종료로 인식하기에,\n",
    "                # 임의의 이상한 숫자 넣어둠\n",
    "                _now_process['Burst_time'] = -987654321\n",
    "                _levels[0][0]['Period'] += 1\n",
    "                _levels[1].append(_levels[0].pop(0))\n",
    "            # 빈 프로세서 발견하면 다 치워버리고 카운터 초기화\n",
    "            elif (_now_process['Priority'] == 0):\n",
    "                _now_process['Burst_time'] = 0\n",
    "                _levels[0].pop(0)\n",
    "        # print(_now_time, _levels[0])\n",
    "        # print(_now_time, _levels[1])\n",
    "        # print(_now_time, _levels[2])\n",
    "        # print('-')\n",
    "    \n",
    "    _order = order_zip(_order)\n",
    "    _result['Multi_level_feedback_queue'] = draw(_order, 'Multi_level_feedback_queue', True)\n",
    "\n",
    "_list = copy.deepcopy(_DATA_)\n",
    "# 2, 3번째 parameter로 퀀텀타임 배정하는 것 수정 가능.\n",
    "Multi_level_feedback_queue(_list, 40, 90)\n"
   ]
  },
  {
   "attachments": {},
   "cell_type": "markdown",
   "metadata": {},
   "source": [
    "-------------------------------------"
   ]
  },
  {
   "attachments": {},
   "cell_type": "markdown",
   "metadata": {},
   "source": [
    "## 결과 분석\n",
    "\n",
    "- Benchmark Rule\n",
    "\n",
    "    - 1순위 비교 값 : 평균 대기 시간 (Average_waiting_time) 낮은 것.\n",
    "    - 2순위 비교 값 : 평균 총 처리 시간 (Average_Turnaround_time) 낮은 것.\n",
    "    - 3순위 비교 값 : 평균 응답 시간 (Average_Response_time) 낮은 것.\n",
    "    - 4순위 비교 값 : CPU 이용률 (CPU_utilization) 높은 것.\n",
    "    - 5순위 비교 값 : 처리율 (Throughput) 높은 것."
   ]
  },
  {
   "cell_type": "code",
   "execution_count": 231,
   "metadata": {},
   "outputs": [
    {
     "name": "stdout",
     "output_type": "stream",
     "text": [
      "---------Deterministic Benchmark Result---------\n",
      "- The best scheduling solution for json file[ 2 ]\n",
      ">> SJF\n",
      "------------------------------------------------\n",
      "- 단, non-preemptive_Priority 도, 5 순위 까지 같음.\n",
      ">> 5순위 비교 결과까지 같은 1 가지 방법으로 대체 가능함.\n",
      "------------------------------------------------\n"
     ]
    },
    {
     "data": {
      "text/html": [
       "<div>\n",
       "<style scoped>\n",
       "    .dataframe tbody tr th:only-of-type {\n",
       "        vertical-align: middle;\n",
       "    }\n",
       "\n",
       "    .dataframe tbody tr th {\n",
       "        vertical-align: top;\n",
       "    }\n",
       "\n",
       "    .dataframe thead th {\n",
       "        text-align: right;\n",
       "    }\n",
       "</style>\n",
       "<table border=\"1\" class=\"dataframe\">\n",
       "  <thead>\n",
       "    <tr style=\"text-align: right;\">\n",
       "      <th></th>\n",
       "      <th>Average_waiting_time</th>\n",
       "      <th>Average_Turnaround_time</th>\n",
       "      <th>Average_Response_time</th>\n",
       "      <th>CPU_utilization</th>\n",
       "      <th>Throughput</th>\n",
       "    </tr>\n",
       "  </thead>\n",
       "  <tbody>\n",
       "    <tr>\n",
       "      <th>SJF</th>\n",
       "      <td>561.2</td>\n",
       "      <td>570.4</td>\n",
       "      <td>561.2</td>\n",
       "      <td>100.0</td>\n",
       "      <td>0.003161</td>\n",
       "    </tr>\n",
       "    <tr>\n",
       "      <th>non-preemptive_Priority</th>\n",
       "      <td>561.2</td>\n",
       "      <td>570.4</td>\n",
       "      <td>561.2</td>\n",
       "      <td>100.0</td>\n",
       "      <td>0.003161</td>\n",
       "    </tr>\n",
       "    <tr>\n",
       "      <th>Preemptive_SRJF</th>\n",
       "      <td>572.6</td>\n",
       "      <td>566.2</td>\n",
       "      <td>506.8</td>\n",
       "      <td>100.0</td>\n",
       "      <td>0.003161</td>\n",
       "    </tr>\n",
       "    <tr>\n",
       "      <th>FCFS</th>\n",
       "      <td>711.8</td>\n",
       "      <td>721.0</td>\n",
       "      <td>711.8</td>\n",
       "      <td>100.0</td>\n",
       "      <td>0.003161</td>\n",
       "    </tr>\n",
       "    <tr>\n",
       "      <th>Preemptive_SJF</th>\n",
       "      <td>882.8</td>\n",
       "      <td>616.4</td>\n",
       "      <td>476.4</td>\n",
       "      <td>100.0</td>\n",
       "      <td>0.003161</td>\n",
       "    </tr>\n",
       "    <tr>\n",
       "      <th>Preemptive_Priority</th>\n",
       "      <td>882.8</td>\n",
       "      <td>616.4</td>\n",
       "      <td>476.4</td>\n",
       "      <td>100.0</td>\n",
       "      <td>0.003161</td>\n",
       "    </tr>\n",
       "    <tr>\n",
       "      <th>Multi_level_queue</th>\n",
       "      <td>882.8</td>\n",
       "      <td>616.4</td>\n",
       "      <td>476.4</td>\n",
       "      <td>100.0</td>\n",
       "      <td>0.003161</td>\n",
       "    </tr>\n",
       "    <tr>\n",
       "      <th>Multi_level_feedback_queue</th>\n",
       "      <td>1604.2</td>\n",
       "      <td>813.0</td>\n",
       "      <td>336.2</td>\n",
       "      <td>100.0</td>\n",
       "      <td>0.003161</td>\n",
       "    </tr>\n",
       "    <tr>\n",
       "      <th>Priority_Round-Robin</th>\n",
       "      <td>23752.2</td>\n",
       "      <td>671.2</td>\n",
       "      <td>343.8</td>\n",
       "      <td>100.0</td>\n",
       "      <td>0.003161</td>\n",
       "    </tr>\n",
       "    <tr>\n",
       "      <th>Round-Robin</th>\n",
       "      <td>47249.4</td>\n",
       "      <td>924.8</td>\n",
       "      <td>314.4</td>\n",
       "      <td>100.0</td>\n",
       "      <td>0.003161</td>\n",
       "    </tr>\n",
       "  </tbody>\n",
       "</table>\n",
       "</div>"
      ],
      "text/plain": [
       "                            Average_waiting_time  Average_Turnaround_time   \n",
       "SJF                                        561.2                    570.4  \\\n",
       "non-preemptive_Priority                    561.2                    570.4   \n",
       "Preemptive_SRJF                            572.6                    566.2   \n",
       "FCFS                                       711.8                    721.0   \n",
       "Preemptive_SJF                             882.8                    616.4   \n",
       "Preemptive_Priority                        882.8                    616.4   \n",
       "Multi_level_queue                          882.8                    616.4   \n",
       "Multi_level_feedback_queue                1604.2                    813.0   \n",
       "Priority_Round-Robin                     23752.2                    671.2   \n",
       "Round-Robin                              47249.4                    924.8   \n",
       "\n",
       "                            Average_Response_time  CPU_utilization  Throughput  \n",
       "SJF                                         561.2            100.0    0.003161  \n",
       "non-preemptive_Priority                     561.2            100.0    0.003161  \n",
       "Preemptive_SRJF                             506.8            100.0    0.003161  \n",
       "FCFS                                        711.8            100.0    0.003161  \n",
       "Preemptive_SJF                              476.4            100.0    0.003161  \n",
       "Preemptive_Priority                         476.4            100.0    0.003161  \n",
       "Multi_level_queue                           476.4            100.0    0.003161  \n",
       "Multi_level_feedback_queue                  336.2            100.0    0.003161  \n",
       "Priority_Round-Robin                        343.8            100.0    0.003161  \n",
       "Round-Robin                                 314.4            100.0    0.003161  "
      ]
     },
     "execution_count": 231,
     "metadata": {},
     "output_type": "execute_result"
    }
   ],
   "source": [
    "import pandas as pd\n",
    "\n",
    "df = pd.DataFrame(_result)\n",
    "df = df.transpose()\n",
    "_sort_priority_list = ['Average_waiting_time', \\\n",
    "                        'Average_Turnaround_time', \\\n",
    "                            'Average_Response_time', \\\n",
    "                                'CPU_utilization', \\\n",
    "                                    'Throughput']\n",
    "# True == 오름차순, False == 내림차순\n",
    "df.sort_values(by=_sort_priority_list, ascending=[True, True, True, False, False], inplace=True)\n",
    "\n",
    "\n",
    "print('---------Deterministic Benchmark Result---------')\n",
    "print('- The best scheduling solution for json file[', _JSON_NUM_, ']')\n",
    "print('>>', df.index[0])    \n",
    "print('------------------------------------------------')\n",
    "\n",
    "# 출력 결과는 0번일테니, 1번부터 비교\n",
    "_same_result_cnt = 0\n",
    "for i in range(1, len(_result)):\n",
    "    _same_flag = 0\n",
    "    _idx = 0\n",
    "    while(df[df.columns[_idx]][df.index[i]] == df[df.columns[_idx]][df.index[0]]):\n",
    "        if(_idx == 4):\n",
    "            break\n",
    "        _idx += 1\n",
    "        _same_flag += 1\n",
    "    if(_same_flag > 0):\n",
    "        if(_same_flag == 4):\n",
    "            _same_result_cnt += 1\n",
    "        print('- 단,', df.index[i],'도,', _same_flag+1, '순위 까지 같음.')\n",
    "if(_same_result_cnt != 0):\n",
    "    print('>> 5순위 비교 결과까지 같은', _same_result_cnt,'가지 방법으로 대체 가능함.')\n",
    "else:\n",
    "    print('>> 전체 스케쥴링 간 최고 우위인,', df.index[0],'는 벤치마크가 가장 좋은 스케쥴링임.')\n",
    "print('------------------------------------------------')      \n",
    "    \n",
    "# - 5순위까지 일치 시, 동일한 성능이라고 판단.\n",
    "# - 4순위까지 일치해도, 5순위 다르면 최고 우위 스케쥴링 선정할 수 있음.\n",
    "df\n"
   ]
  },
  {
   "attachments": {},
   "cell_type": "markdown",
   "metadata": {},
   "source": [
    "-------------------------"
   ]
  },
  {
   "attachments": {},
   "cell_type": "markdown",
   "metadata": {},
   "source": [
    "# 3.Real-Time scheduling"
   ]
  },
  {
   "attachments": {},
   "cell_type": "markdown",
   "metadata": {},
   "source": [
    "## 3.1. Rate-Monotonic\n",
    "- period가 짧은 프로세스가 높은 우선순위를 가짐.\n",
    "- 단위 시간 당, 프로세스의 수행 비율과 우선순위 간의 관계를 고려함\n",
    "- 모든 프로세스는 부팅과 동시에 주기를 갖고 실행된다고 가정 -> 오로지 Burst_time과 period만 필요."
   ]
  },
  {
   "cell_type": "code",
   "execution_count": 232,
   "metadata": {},
   "outputs": [
    {
     "name": "stdout",
     "output_type": "stream",
     "text": [
      "- Order : [[1, 250], [5, 153], [3, 97], [1, 250], [5, 153], [3, 97], [1, 250], [3, 57], [2, 93], [5, 100], [1, 250], [5, 53], [2, 197], [1, 250], [5, 153], [2, 60], [4, 37], [1, 250], [4, 50], [5, 153], [4, 47], [1, 250], [4, 250], [1, 250], [5, 153], [4, 97], [1, 250], [5, 153], [4, 97], [1, 250], [-1, 150], [5, 100], [1, 250], [5, 53], [-1, 197], [1, 250], [5, 153], [-1, 97], [1, 250], [-1, 50], [5, 153], [-1, 47], [1, 250], [-1, 250], [1, 250], [5, 153], [3, 97], [1, 250], [5, 153], [3, 97], [1, 250], [3, 57], [2, 93], [5, 100], [1, 250], [5, 53], [2, 197], [1, 250], [5, 153], [2, 60], [4, 37], [1, 250], [4, 50], [5, 153], [4, 47], [1, 250], [4, 250], [1, 250], [5, 153], [4, 97], [1, 250], [5, 153], [4, 97], [1, 250], [-1, 150], [5, 100], [1, 250], [5, 53], [-1, 197], [1, 250], [5, 153], [-1, 97], [1, 250], [-1, 50], [5, 153], [-1, 47], [1, 250], [-1, 250], [1, 250], [5, 153], [3, 97], [1, 250], [5, 153], [3, 97], [1, 250], [3, 57], [-1, 93], [5, 100], [1, 250], [5, 53], [-1, 197], [-1, -999]]\n",
      "------------------------------\n",
      "ALL START GOOD JOB!!!\n",
      "ALL EXIT  GOOD JOB!!!\n"
     ]
    },
    {
     "data": {
      "image/png": "[encoded data removed]",
      "text/plain": [
       "<Figure size 1000x100 with 1 Axes>"
      ]
     },
     "metadata": {},
     "output_type": "display_data"
    }
   ],
   "source": [
    "def Rate_Monotonic(_list):\n",
    "    # burst_time copy\n",
    "    _original_list = copy.deepcopy(_list)\n",
    "    # 완료 판단할 것인데, index 기반 접근 위해 num 기준 sort\n",
    "    _original_list = sorted(_original_list, key=lambda x: x['Num'])\n",
    "    _pass_list = set()\n",
    "    # rate-monotonic이 성립할지?\n",
    "    # 각자 모두가 0초부터 자신의 period 내에 1번이라도 실행되었는가 판단하면 됨.\n",
    "    # can_to_this에서 period와 now_time을 비교하는데, burst_time 남아있으면 다 못한 것\n",
    "    _order = []\n",
    "\n",
    "    # _period_vector는 우선순위로 정렬해서 줘야함.\n",
    "    _period_vector = []\n",
    "    _jop_complete_alram_vector = []\n",
    "\n",
    "    # 가장 긴 주기 2배 만큼 플로팅\n",
    "    _periods = []\n",
    "    for _process in _list:\n",
    "        _period_vector.append([_process['Num'], _process['Period']])\n",
    "        _periods.append(_process['Period'])\n",
    "\n",
    "    for _now_time in range(max(_periods)*2):\n",
    "\n",
    "        # period 주기가 도래할 때마다 그 프로세서를 큐에 추가함\n",
    "        for _process in _original_list:\n",
    "            if (_now_time % _process['Period'] == 0 and _now_time > 0):\n",
    "                _add_this_jop = copy.deepcopy(_process)\n",
    "                _list.append(_add_this_jop)\n",
    "\n",
    "        # period에 기반한 우선순위 설정\n",
    "        if (_list == []):\n",
    "            # 비어있을 시 대기시간 추가\n",
    "            _order.append([_NON_PROCESS_, 1])\n",
    "            continue\n",
    "        else:\n",
    "            # 우선순위 별 정렬\n",
    "            _list = sorted(_list, key=lambda x: x['Period'])\n",
    "            # 오더 추가\n",
    "            _order.append([_list[0]['Num'], 1])\n",
    "            # 진행 상황 반영\n",
    "            _list[0]['Burst_time'] -= 1\n",
    "            # 모두 진행 되었으면, 큐에서 삭제\n",
    "            if (_list[0]['Burst_time'] == 0):\n",
    "                _jop_complete_alram_vector.append([_list[0]['Num'], _now_time])\n",
    "                _list.pop(0)\n",
    "\n",
    "        # 주기 안에 실행완료 성공했는지 확인하는 코드\n",
    "        for _complete_process, _when in _jop_complete_alram_vector:\n",
    "            # 1 주기 돌았을 때에만 검사함.\n",
    "            # 만약 그게 pass list에 없으면\n",
    "            if _complete_process not in _pass_list:\n",
    "                # 근데 완료 시점이 추기보다 짧으면\n",
    "                if (_when <= _original_list[_complete_process-1]['Period']):\n",
    "                    # pass 확인요\n",
    "                    _pass_list.add(_complete_process)\n",
    "                    pass\n",
    "                # 근데 추기보다 길다면, 걔때문에 rate-monotonic 불가\n",
    "                else:\n",
    "                    print(\"CAN'T TO THIS..\", \"Force exit..\")\n",
    "                    print('now_time :', _now_time)\n",
    "                    print(\"running failed process :\", _complete_process)\n",
    "                    return\n",
    "    # 종료 플래그 삽입\n",
    "    _order.append([_NON_PROCESS_, _ALL_JOB_IS_DONE_])\n",
    "    _order = order_zip(_order)\n",
    "\n",
    "    \n",
    "    draw(_order, 'Rate Monotonic',  True,_period_vector)\n",
    "\n",
    "\n",
    "_list = copy.deepcopy(_DATA_)\n",
    "Rate_Monotonic(_list)\n",
    "\n",
    "##########################\n",
    "# 만약 모든 프로세스들이 첫 period 내에 1회 이상 완전히 실행되지 않는 경우,\n",
    "# print(\"CAN'T TO THIS\")와 바로 return 하며 종료\n",
    "\n"
   ]
  },
  {
   "cell_type": "code",
   "execution_count": 233,
   "metadata": {},
   "outputs": [],
   "source": [
    "# 최소공배수 찾는 함수\n",
    "from math import gcd\n",
    "def lcm_solution(arr):\n",
    "    def lcm(x, y):\n",
    "        return x * y // gcd(x, y)\n",
    "\n",
    "    while True:\n",
    "        arr.append(lcm(arr.pop(), arr.pop()))\n",
    "        if len(arr) == 1:\n",
    "            return arr[0]"
   ]
  },
  {
   "attachments": {},
   "cell_type": "markdown",
   "metadata": {},
   "source": [
    "## 3.2. EDF (Earliest Deadline First)"
   ]
  },
  {
   "cell_type": "code",
   "execution_count": 234,
   "metadata": {},
   "outputs": [
    {
     "name": "stdout",
     "output_type": "stream",
     "text": [
      "LCM == 56000\n",
      "P 1 : 56000 divided by 500 = 112 . and cnt == 112 . OK.\n",
      "P 2 : 56000 divided by 8000 = 7 . and cnt == 7 . OK.\n",
      "P 3 : 56000 divided by 7000 = 8 . and cnt == 8 . OK.\n",
      "P 4 : 56000 divided by 8000 = 7 . and cnt == 7 . OK.\n",
      "P 5 : 56000 divided by 700 = 80 . and cnt == 80 . OK.\n",
      "- Order : [[1, 250], [5, 153], [3, 97], [1, 250], [5, 153], [3, 97], [1, 250], [3, 57], [2, 93], [5, 100], [1, 250], [5, 53], [2, 197], [1, 250], [5, 153], [2, 60], [4, 37], [1, 250], [4, 50], [5, 153], [4, 47], [1, 250], [4, 250], [1, 250], [5, 153], [4, 97], [1, 250], [5, 153], [4, 97], [1, 250], [-1, 150], [5, 100], [1, 250], [5, 53], [-1, 197], [1, 250], [5, 153], [-1, 97], [1, 250], [-1, 50], [5, 153], [-1, 47], [1, 250], [-1, 250], [1, 250], [5, 153], [3, 97], [1, 250], [5, 153], [3, 97], [1, 250], [3, 57], [2, 93], [5, 100], [1, 250], [5, 53], [2, 197], [1, 250], [5, 153], [2, 60], [4, 37], [1, 250], [4, 50], [5, 153], [4, 47], [1, 250], [4, 250], [1, 250], [5, 153], [4, 97], [1, 250], [5, 153], [4, 97], [1, 250], [-1, 150], [5, 100], [1, 250], [5, 53], [-1, 197], [1, 250], [5, 153], [-1, 97], [1, 250], [-1, 50], [5, 153], [-1, 47], [1, 250], [-1, 250], [1, 250], [5, 153], [3, 97], [1, 250], [5, 153], [3, 97], [1, 250], [3, 57], [-1, 93], [5, 100], [1, 250], [5, 53], [-1, 197], [-1, -999]]\n",
      "------------------------------\n",
      "ALL START GOOD JOB!!!\n",
      "ALL EXIT  GOOD JOB!!!\n"
     ]
    },
    {
     "data": {
      "image/png": "[encoded data removed]",
      "text/plain": [
       "<Figure size 1000x100 with 1 Axes>"
      ]
     },
     "metadata": {},
     "output_type": "display_data"
    }
   ],
   "source": [
    "def EDF(_list):\n",
    "    # burst_time copy\n",
    "    _original_list = copy.deepcopy(_list)\n",
    "    # 완료 판단할 것인데, index 기반 접근 위해 num 기준 sort\n",
    "    _original_list = sorted(_original_list, key=lambda x: x['Num'])\n",
    "    \n",
    "    _order = []\n",
    "\n",
    "    # _period_vector는 우선순위로 정렬해서 줘야함.\n",
    "    _period_vector = []\n",
    "    # _jop_complete_alram_vector = []\n",
    "    \n",
    "\n",
    "    # 가장 긴 주기 2배 만큼 플로팅\n",
    "    _periods = []\n",
    "    _complete_counter = []\n",
    "    for _process in _list:\n",
    "        _period_vector.append([_process['Num'], _process['Period']])\n",
    "        _complete_counter.append(0)\n",
    "        _periods.append(_process['Period'])\n",
    "    \n",
    "    _max_period = max(_periods)*2\n",
    "    \n",
    "    \n",
    "    # 최소공배수 구하기\n",
    "    _lcm = lcm_solution(_periods)\n",
    "    \n",
    "    if (_MAX_TIME_LENGTH_ < _lcm):\n",
    "        print(\"계산 보증 불가능. 주기들의 최소공배수 시간에서 정상횟수 작동 확인 불가. MAX_TIME_LENGTH 늘리고 다시시도.\")\n",
    "        print(_lcm, \"여기까지 시도해봐야 정확히 RTOS 구현 가능 여부 알 수 있음.\")\n",
    "    \n",
    "    for _now_time in range(max(_periods)*2):\n",
    "\n",
    "        # period 주기가 도래할 때마다 그 프로세서를 큐에 추가함\n",
    "        for _process in _original_list:\n",
    "            if (_now_time % _process['Period'] == 0 and _now_time > 0):\n",
    "                _add_this_jop = copy.deepcopy(_process)\n",
    "                _list.append(_add_this_jop)\n",
    "\n",
    "        # period에 기반한 우선순위 설정\n",
    "        if (_list == []):\n",
    "            # 비어있을 시 대기시간 추가\n",
    "            if (_now_time < _max_period):\n",
    "                _order.append([_NON_PROCESS_, 1])\n",
    "            \n",
    "        else:\n",
    "            # 우선순위 별 정렬\n",
    "            _list = sorted(_list, key=lambda x: x['Period'])\n",
    "            ###################################\n",
    "            # 데드라인 얼마 안 남은 놈을 _list 맨 앞으로 보내면 됨.\n",
    "            # 1. 데드라인 제일 가까운 놈을 구해야함.\n",
    "            _i_want_complete = 0\n",
    "            _min_remain_time = _MAX_TIME_LENGTH_\n",
    "            # 모든 list의 프로세스에서\n",
    "            for _process in _list:\n",
    "                # dead_line까지 남은 시간 구하기\n",
    "                _remain_time = (_process['Period'] - _now_time % _process['Period'])\n",
    "                # 이번 process의 dead_line이 가장 짧았다면 갱신\n",
    "                if (_remain_time < _min_remain_time):\n",
    "                    _min_remain_time = _remain_time\n",
    "                    _i_want_complete = _process\n",
    "                # print(_now_time, _remain_time, _process)\n",
    "            # 2. 걔만 맨 앞으로. (데드라인 순 정렬 안 해도, 어차피 매 순간 적게 남은 프로세스만 앞으로 옴)\n",
    "            _list.remove(_i_want_complete)\n",
    "            _list.insert(0, _i_want_complete)\n",
    "            ###################################\n",
    "            # 오더 추가\n",
    "            if (_now_time < _max_period):\n",
    "                _order.append([_list[0]['Num'], 1])\n",
    "            # 진행 상황 반영\n",
    "            _list[0]['Burst_time'] -= 1\n",
    "            # 모두 진행 되었으면, 큐에서 삭제\n",
    "            if (_list[0]['Burst_time'] == 0):\n",
    "                # if (_now_time < _max_period):\n",
    "                #     _jop_complete_alram_vector.append([_list[0]['Num'], _now_time])\n",
    "                _complete_counter[_list[0]['Num']-1] += 1\n",
    "                _list.pop(0)\n",
    "\n",
    "        # 최소공배수 안에 완료가능한가.\n",
    "        if (_now_time == _lcm):\n",
    "            print(\"LCM ==\", _now_time)\n",
    "            for _process in _original_list:\n",
    "                if (_now_time / _process['Period'] <= _complete_counter[_process['Num']-1]):\n",
    "                    print(\"P\", _process['Num'], ':', _lcm, \"divided by\", _process['Period'], '=', int(\n",
    "                        _now_time / _process['Period']), \". and cnt ==\", _complete_counter[_process['Num']-1], \". OK.\")\n",
    "                else:\n",
    "                    print(\"P\", _process['Num'], ':', \"CAN'T DO THIS..\", \"Force exit..\")\n",
    "                    return\n",
    "\n",
    "    # 종료 플래그 삽입\n",
    "    _order.append([_NON_PROCESS_, _ALL_JOB_IS_DONE_])\n",
    "    _order = order_zip(_order)\n",
    "    \n",
    "    draw(_order, 'Earliest Deadline First', True, _period_vector)\n",
    "\n",
    "_list = copy.deepcopy(_DATA_)\n",
    "EDF(_list)\n",
    "\n",
    "#######################\n",
    "# 해당 스케쥴링 불가한 경우, 진행 불가하단 메시지 출력함.\n"
   ]
  }
 ],
 "metadata": {
  "kernelspec": {
   "display_name": "Python 3",
   "language": "python",
   "name": "python3"
  },
  "language_info": {
   "codemirror_mode": {
    "name": "ipython",
    "version": 3
   },
   "file_extension": ".py",
   "mimetype": "text/x-python",
   "name": "python",
   "nbconvert_exporter": "python",
   "pygments_lexer": "ipython3",
   "version": "3.11.0"
  },
  "orig_nbformat": 4
 },
 "nbformat": 4,
 "nbformat_minor": 2
}
