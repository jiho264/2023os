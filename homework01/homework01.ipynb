{
 "cells": [
  {
   "attachments": {},
   "cell_type": "markdown",
   "metadata": {},
   "source": [
    "# 0. 운영체제 과제 01\n",
    "- 201901763 이지호"
   ]
  },
  {
   "attachments": {},
   "cell_type": "markdown",
   "metadata": {},
   "source": [
    "과제 1\n",
    "마감 : 4월 30일(일) 저녁 6시까지\n",
    "내용 :\n",
    "수업때 이야기한 모든 스케줄링 방법을 구현하고 성능(5가지) 비교\n",
    "Json 파일로 입력정보를 주면 포맷을 체크해서 비교판단\n",
    "실시간스케줄링과 비실시간스케줄링을 Json  입력파일로 자동 구분처리\n",
    "파이썬만 사용, 간트차트 출력을 포함하여 5가지를 모두 비교하고, 각 입력 데이터에 대해 그 중 종합적으로 제일 나은 방법을 \"자동\" 결과 리포팅 (리포팅 내용을 간단한 설명을 포함하여 자동 생성)\n",
    "숫자 결과와 그래픽결과를 모두 나타내고 자동으로 리포팅\n",
    "chatGPT 포함한 외부 자료 사용 절대 금함. 특성을 이미 잘 알고 있으므로,  사용흔적이 보이면 0점 처리\n",
    "\n",
    "MarkDown 문서로 설명과 해설 그리고 주석이 포함된 주피터노트북 파일(*.ipynb 파일) 과 해당 파일을 PDF 로 저장한 파일, \n",
    "입력에 사용하는 json 파일 3개 (입력예제 3개임) 등, \n",
    "총 5개를 이러닝 사이트에 제출함.\n",
    "\n",
    "실행 결과는 절대 평가함. (제대로 되었는지 여부, 제출한 입력 포맷에 평가 데이터를 적용해서 진행)\n",
    "전체 결과는 등급제로 상대 평가함. 열심히 코드 만들고, 열심히 최선의 결과를 잘 만든 사람에게 높은 등급\n",
    "\n",
    "위 내용을 기준으로 추가로 필요한 부분은 스스로 판단해서 진행하면 됨. 의도에서 벗어나거나 축소되면 안됨.\n",
    "\n",
    "\n",
    "- First-come, First-Served (선입선출)\n",
    "- Shortest-Job-First (최단작업우선)\n",
    "- Shortest-remaining-time-first (최단잔여시간우선)\n",
    "- Priority (우선순위)\n",
    "- Round robin(퀀텀타임대로 순회)\n",
    "- Priority + Round robin"
   ]
  },
  {
   "attachments": {},
   "cell_type": "markdown",
   "metadata": {},
   "source": [
    "# 1. 분석 준비"
   ]
  },
  {
   "attachments": {},
   "cell_type": "markdown",
   "metadata": {},
   "source": [
    "## 1.1. Load data\n",
    "- 아래 변수 숫자 (int) 변경해가며, (1), (2), (3)번 case 마다 실행 가능."
   ]
  },
  {
   "cell_type": "code",
   "execution_count": 103,
   "metadata": {},
   "outputs": [],
   "source": [
    "import copy\n",
    "import matplotlib.pyplot as plt\n",
    "import json\n",
    "import numpy as np\n",
    "\n",
    "# _JSON_NUM_ 변경해가며 출력 가능\n",
    "_JSON_NUM_ = 1\n",
    "# 입력할 전체 프로세스들의 시간 길이. 스케쥴링 완료 시 이전에 for문 종료\n",
    "_MAX_TIME_LENGTH_ = 999\n",
    "# Round robin\n",
    "_QUANTUM_TIME_ = 10\n",
    "# print flag\n",
    "_PRINT_FLAG_ = False"
   ]
  },
  {
   "cell_type": "code",
   "execution_count": 104,
   "metadata": {},
   "outputs": [
    {
     "name": "stdout",
     "output_type": "stream",
     "text": [
      "--Data_loader-----------------\n",
      "- Num of Process : 5\n",
      "- Data Loading Success\n"
     ]
    }
   ],
   "source": [
    "\n",
    "def data_loader():\n",
    "    print(\"--Data_loader-----------------\")\n",
    "    _jsonfilename = \"case\" + str(_JSON_NUM_) + \".json\"\n",
    "    with open(_jsonfilename) as f:\n",
    "        json_object = json.load(f)\n",
    "\n",
    "    num_of_processs = len(json_object['list'])\n",
    "    print(\"- Num of Process :\", num_of_processs)\n",
    "\n",
    "    # data checking\n",
    "    assert json_object['list']\n",
    "    for i in range(num_of_processs):\n",
    "        assert json_object['list'][i][\"Num\"] > 0\n",
    "        assert json_object['list'][i][\"Burst_time\"] > 0\n",
    "        assert json_object['list'][i][\"Priority\"] > 0\n",
    "        assert json_object['list'][i][\"Arrival_time\"] >= 0\n",
    "    print(\"- Data Loading Success\")\n",
    "\n",
    "    return json_object\n",
    "\n",
    "_DATA_ = data_loader()[\"list\"]\n"
   ]
  },
  {
   "attachments": {},
   "cell_type": "markdown",
   "metadata": {},
   "source": [
    "## 1.2. Function"
   ]
  },
  {
   "cell_type": "code",
   "execution_count": 105,
   "metadata": {},
   "outputs": [],
   "source": [
    "_ALL_JOB_IS_DONE_ = -999\n",
    "_NON_PROCESS_ = -1\n",
    "\n",
    "def draw(_order):\n",
    "    print(\"- Order is :\", _order)\n",
    "    if (_PRINT_FLAG_ == True):\n",
    "        print(\"--Start Analysis--------------\")\n",
    "    fig, ax = plt.subplots(figsize=(10, 1))\n",
    "    _process = copy.deepcopy(_DATA_)\n",
    "    _sum_of_busrt_time = 0\n",
    "    _sum_of_response_time = 0\n",
    "    _sum_of_turnaround_time = 0\n",
    "    _sum_of_running_time = 0\n",
    "    _now_time = 0\n",
    "    _cumsum_waiting_time = 0\n",
    "\n",
    "    _xlim_tickers = []\n",
    "\n",
    "    # 완전동작 카운터\n",
    "    _start_counter = 0\n",
    "    _done_counter = 0\n",
    "\n",
    "\n",
    "    for _pid, _runtime in _order:\n",
    "        # NOT CPU RUNNING\n",
    "        if (_pid < 0):\n",
    "            if (_runtime > 0):\n",
    "                # TAKE A REST\n",
    "                _now_time += _runtime\n",
    "                continue\n",
    "            elif (_runtime == _ALL_JOB_IS_DONE_):\n",
    "                # ALL JOP IS DONE\n",
    "                break\n",
    "        # CPU RUNNING\n",
    "        else:\n",
    "            # P_num은 1부터 시작하기에, index 맞추는 용도.\n",
    "            _JUST_PRINT_IDX_ = _pid\n",
    "            for i in range(len(_process)):\n",
    "                if (_process[i]['Num'] == _pid):\n",
    "                    _target = _process[i]\n",
    "            _pid -= 1\n",
    "            \n",
    "            # First come in CPU\n",
    "            if (_target['Priority'] > 0):\n",
    "                _sum_of_response_time += _now_time\n",
    "                if (_PRINT_FLAG_ == True):\n",
    "                    print(\"START - P\", _JUST_PRINT_IDX_, \"    time is\", _now_time)\n",
    "                # target의 우선순위에 음수로 시작시간 저장\n",
    "                # order는 정해져있고, Priority는 이 단계에서 사용하지 않음.\n",
    "                _target['Priority'] = 0\n",
    "                _target['Priority'] = - _now_time\n",
    "                _start_counter += 1\n",
    "                _xlim_tickers.append(_now_time)\n",
    "            \n",
    "            # if (_process[_pid]['Burst_time'] >= _runtime):\n",
    "            _sum_of_busrt_time += _target['Burst_time']\n",
    "            _cumsum_waiting_time += _now_time\n",
    "            \n",
    "            ax.barh(0, _runtime, left=_now_time, edgecolor='black')\n",
    "            _now_time += _runtime\n",
    "            ax.text(_now_time - _runtime/2, 0,\n",
    "                    ('P'+str(_target['Num'])), ha='center', va='center')\n",
    "            \n",
    "            # burst_time - running time\n",
    "            _target['Burst_time'] -= _runtime\n",
    "            # JOP IS DONE ?\n",
    "            if (_target['Burst_time'] == 0):\n",
    "                if (_PRINT_FLAG_ == True):\n",
    "                    print(\" P\", _JUST_PRINT_IDX_, \"Turnaround time is\",_now_time - _target['Arrival_time'])\n",
    "                _sum_of_turnaround_time += _now_time - _target['Arrival_time']\n",
    "                if (_PRINT_FLAG_ == True):\n",
    "                    print(\" P\", _JUST_PRINT_IDX_, \"Running    time is\", _now_time -abs(_target['Priority']))\n",
    "                _sum_of_running_time += _now_time - abs(_target['Priority'])\n",
    "                if (_PRINT_FLAG_ == True):\n",
    "                    print(\"EXIT  - P\", _JUST_PRINT_IDX_, \"    time is\", _now_time)\n",
    "                    print(\"\")\n",
    "                _done_counter +=1\n",
    "            _xlim_tickers.append(_now_time)\n",
    "        \n",
    "    # ploting\n",
    "    if (_PRINT_FLAG_ == True):\n",
    "        print(\"------------------------------\")\n",
    "    ax.set_xticks(_xlim_tickers)\n",
    "    ax.set_xlim([0, _now_time])\n",
    "    ax.set_yticks([])\n",
    "    if (_start_counter != len(_process)):\n",
    "        print(\"응 오류야 ㅋㅋ~ 정상시작 횟수 :\", _start_counter)\n",
    "    else:\n",
    "        print(\"ALL START GOOD JOB!!!\")\n",
    "    if (_done_counter != len(_process)):\n",
    "        print(\"응 오류야 ㅋㅋ~ 정상종료 횟수 :\", _done_counter)\n",
    "    else:\n",
    "        print(\"ALL EXIT  GOOD JOB!!!\")\n",
    "    plt.show()\n",
    "    \n",
    "\n",
    "    # print value\n",
    "    if (_PRINT_FLAG_ == True):\n",
    "        # cpu 이용률    \n",
    "        print(\"CPU utilization : %2.2f\" % float(_sum_of_busrt_time/_now_time*100), \"%\")\n",
    "        # 단위 시간당 처리된 프로세스의 개수\n",
    "        print(\"Throughput :\", len(_process)/_now_time)\n",
    "        # 프로세스를 cpu가 실행하지 않은 평균 대기시간\n",
    "        print(\"Average waiting time :\", _cumsum_waiting_time/len(_process))\n",
    "        # 프로세스를 처음으로 실행하는 데에 걸린 시간\n",
    "        print(\"Average Response time :\", _sum_of_response_time/len(_process))\n",
    "        # 시작하고 나서부터 완료까지 걸린 시간\n",
    "        print(\"Average Running time :\", _sum_of_running_time/len(_process))\n",
    "        # 처음 대기 부터, 작업 완료에 대한 총 소요 시간 / p's 종료시점 - arrival_time\n",
    "        print(\"Average Turnaround time :\", _sum_of_turnaround_time/len(_process))"
   ]
  },
  {
   "cell_type": "code",
   "execution_count": 106,
   "metadata": {},
   "outputs": [],
   "source": [
    "def is_complete(_list):\n",
    "    _sum_of_all_burst_time = 0\n",
    "    for i in _list:\n",
    "        _sum_of_all_burst_time += i['Burst_time']\n",
    "    if (_sum_of_all_burst_time == 0):\n",
    "        return True\n",
    "    else:\n",
    "        return False"
   ]
  },
  {
   "attachments": {},
   "cell_type": "markdown",
   "metadata": {},
   "source": [
    "# 2. 비선점형"
   ]
  },
  {
   "attachments": {},
   "cell_type": "markdown",
   "metadata": {},
   "source": [
    "## 2.1. First-come, First-Served (선입선출) OK\n",
    "- 도착시간만 고려\n",
    "- 기본 Arrival_time 정렬, 동일 시간 도착 시 프로세스 번호 순"
   ]
  },
  {
   "cell_type": "code",
   "execution_count": 107,
   "metadata": {},
   "outputs": [
    {
     "name": "stdout",
     "output_type": "stream",
     "text": [
      "- Order is : [[5, 30], [1, 30], [2, 25], [-1, 1], [-1, 1], [-1, 1], [-1, 1], [-1, 1], [-1, 1], [-1, 1], [-1, 1], [-1, 1], [-1, 1], [-1, 1], [-1, 1], [-1, 1], [-1, 1], [-1, 1], [3, 25], [4, 50], [-1, -999]]\n",
      "ALL START GOOD JOB!!!\n",
      "ALL EXIT  GOOD JOB!!!\n"
     ]
    },
    {
     "data": {
      "image/png": "[encoded data removed]",
      "text/plain": [
       "<Figure size 1000x100 with 1 Axes>"
      ]
     },
     "metadata": {},
     "output_type": "display_data"
    }
   ],
   "source": [
    "_order = []\n",
    "_list = copy.deepcopy(_DATA_)\n",
    "_list = sorted(_list, key=lambda x: x['Arrival_time'])\n",
    "\n",
    "_end_time = 0\n",
    "# arrival_time 고려해야하니 timer 작동\n",
    "for _now_time in range(_MAX_TIME_LENGTH_):\n",
    "    # 만약 모든 Burst_time 합이 0이면 모든 작업이 종료된 것\n",
    "    # 다만 마지막 작업 추가했을 때와, _now_time간 오차있음.\n",
    "    if (is_complete(_list) == True):\n",
    "        _order.append([_NON_PROCESS_, _ALL_JOB_IS_DONE_])\n",
    "        break\n",
    "    # 아직 안 끝남.\n",
    "    else:\n",
    "        # 노는 중\n",
    "        if (_end_time < _now_time):\n",
    "            # take a rest 1sec == timer speed\n",
    "            _order.append([_NON_PROCESS_, 1])\n",
    "            _end_time += 1\n",
    "            \n",
    "        # 현재 시간에 도착해있는 작업들 리스트업\n",
    "        for _process in _list:\n",
    "            if (_process['Arrival_time'] == _now_time):\n",
    "                _order.append([_process['Num'], _process['Burst_time']])\n",
    "                _end_time += _process['Burst_time']\n",
    "                _process['Burst_time'] = 0\n",
    "draw(_order)"
   ]
  },
  {
   "attachments": {},
   "cell_type": "markdown",
   "metadata": {},
   "source": [
    "## 2.2. Shortest-Job-First (최단길이작업우선) OK\n",
    "- Burst_time만 고려\n",
    "- 기본 Arrival_time 정렬, 동일 시간 도착 시 프로세스 번호 순"
   ]
  },
  {
   "cell_type": "code",
   "execution_count": 108,
   "metadata": {},
   "outputs": [
    {
     "name": "stdout",
     "output_type": "stream",
     "text": [
      "- Order is : [[5, 30], [2, 25], [1, 30], [-1, 1], [-1, 1], [-1, 1], [-1, 1], [-1, 1], [-1, 1], [-1, 1], [-1, 1], [-1, 1], [-1, 1], [-1, 1], [-1, 1], [-1, 1], [-1, 1], [-1, 1], [3, 25], [4, 50], [-1, -999]]\n",
      "ALL START GOOD JOB!!!\n",
      "ALL EXIT  GOOD JOB!!!\n"
     ]
    },
    {
     "data": {
      "image/png": "[encoded data removed]",
      "text/plain": [
       "<Figure size 1000x100 with 1 Axes>"
      ]
     },
     "metadata": {},
     "output_type": "display_data"
    }
   ],
   "source": [
    "_order = []\n",
    "_list = copy.deepcopy(_DATA_)\n",
    "_list = sorted(_list, key=lambda x: x['Arrival_time'])\n",
    "\n",
    "_end_time = 0\n",
    "# arrival_time 고려해야하니 timer 작동\n",
    "for _now_time in range(_MAX_TIME_LENGTH_):\n",
    "    # 만약 모든 Burst_time 합이 0이면 모든 작업이 종료된 것\n",
    "    # 다만 마지막 작업 추가했을 때와, _now_time간 오차있음.\n",
    "    if (is_complete(_list) == True):\n",
    "        _order.append([_NON_PROCESS_, _ALL_JOB_IS_DONE_])\n",
    "        break\n",
    "    # 아직 안 끝남.\n",
    "    else:\n",
    "        # 노는 중\n",
    "        if (_end_time < _now_time):\n",
    "            # take a rest 1sec == timer speed\n",
    "            _order.append([_NON_PROCESS_, 1])\n",
    "            _end_time += 1\n",
    "            \n",
    "        # 현재 시간에 도착해있는 작업들 리스트업\n",
    "        _queue = []\n",
    "        for _process in _list:\n",
    "            if (_process['Arrival_time'] == _now_time):\n",
    "                _queue.append(_process)\n",
    "        \n",
    "        # 정렬 후 order에 추가    \n",
    "        _queue.sort(key=lambda x: x['Burst_time'])\n",
    "        for _process in _queue:\n",
    "            _order.append([_process['Num'], _process['Burst_time']])\n",
    "            _end_time += _process['Burst_time']\n",
    "            _process['Burst_time'] = 0\n",
    "\n",
    "draw(_order)\n"
   ]
  },
  {
   "attachments": {},
   "cell_type": "markdown",
   "metadata": {},
   "source": [
    "## 2.3. Priority First Served (우선순위먼저) \n",
    "- Burst_time, Priority 고려\n",
    "- 기본 Arrival_time 정렬, 동일 시간 도착 시 프로세스 번호 순\n",
    "- 우선 순위 동일 시 프로세스 번호 순"
   ]
  },
  {
   "cell_type": "code",
   "execution_count": 109,
   "metadata": {},
   "outputs": [
    {
     "name": "stdout",
     "output_type": "stream",
     "text": [
      "- Order is : [[5, 30], [2, 25], [1, 30], [-1, 1], [-1, 1], [-1, 1], [-1, 1], [-1, 1], [-1, 1], [-1, 1], [-1, 1], [-1, 1], [-1, 1], [-1, 1], [-1, 1], [-1, 1], [-1, 1], [-1, 1], [4, 50], [3, 25], [-1, -999]]\n",
      "ALL START GOOD JOB!!!\n",
      "ALL EXIT  GOOD JOB!!!\n"
     ]
    },
    {
     "data": {
      "image/png": "[encoded data removed]",
      "text/plain": [
       "<Figure size 1000x100 with 1 Axes>"
      ]
     },
     "metadata": {},
     "output_type": "display_data"
    }
   ],
   "source": [
    "_order = []\n",
    "_list = copy.deepcopy(_DATA_)\n",
    "_list = sorted(_list, key=lambda x: x['Arrival_time'])\n",
    "\n",
    "_end_time = 0\n",
    "# arrival_time 고려해야하니 timer 작동\n",
    "for _now_time in range(_MAX_TIME_LENGTH_):\n",
    "    # 만약 모든 Burst_time 합이 0이면 모든 작업이 종료된 것\n",
    "    # 다만 마지막 작업 추가했을 때와, _now_time간 오차있음.\n",
    "    if (is_complete(_list) == True):\n",
    "        _order.append([_NON_PROCESS_, _ALL_JOB_IS_DONE_])\n",
    "        break\n",
    "    # 아직 안 끝남.\n",
    "    else:\n",
    "        # 노는 중\n",
    "        if (_end_time < _now_time):\n",
    "            # take a rest 1sec == timer speed\n",
    "            _order.append([_NON_PROCESS_, 1])\n",
    "            _end_time += 1\n",
    "\n",
    "        # 현재 시간에 도착해있는 작업들 리스트업\n",
    "        _queue = []\n",
    "        for _process in _list:\n",
    "            if (_process['Arrival_time'] == _now_time):\n",
    "                _queue.append(_process)\n",
    "\n",
    "        # 정렬 후 order에 추가\n",
    "        _queue.sort(key=lambda x: x['Priority'])\n",
    "        for _process in _queue:\n",
    "            _order.append([_process['Num'], _process['Burst_time']])\n",
    "            _end_time += _process['Burst_time']\n",
    "            _process['Burst_time'] = 0\n",
    "\n",
    "draw(_order)\n"
   ]
  },
  {
   "attachments": {},
   "cell_type": "markdown",
   "metadata": {},
   "source": [
    "## 2.4. Round robin(퀀텀타임대로 순회) \n",
    "- Burst_time만 고려\n",
    "- 기본 Arrival_time 정렬, 동일 시간 도착 시 프로세스 번호 순"
   ]
  },
  {
   "cell_type": "code",
   "execution_count": 110,
   "metadata": {},
   "outputs": [
    {
     "name": "stdout",
     "output_type": "stream",
     "text": [
      "- Order is : [[5, 10], [1, 10], [2, 10], [5, 10], [1, 10], [2, 10], [5, 10], [1, 10], [2, 5], [-1, 1], [-1, 1], [-1, 1], [-1, 1], [-1, 1], [-1, 1], [-1, 1], [-1, 1], [-1, 1], [-1, 1], [-1, 1], [-1, 1], [-1, 1], [-1, 1], [-1, 1], [3, 10], [4, 10], [3, 10], [4, 10], [3, 5], [4, 10], [4, 10], [4, 10], [-1, -999]]\n",
      "ALL START GOOD JOB!!!\n",
      "ALL EXIT  GOOD JOB!!!\n"
     ]
    },
    {
     "data": {
      "image/png": "[encoded data removed]",
      "text/plain": [
       "<Figure size 1000x100 with 1 Axes>"
      ]
     },
     "metadata": {},
     "output_type": "display_data"
    }
   ],
   "source": [
    "_order = []\n",
    "_list = copy.deepcopy(_DATA_)\n",
    "_list = sorted(_list, key=lambda x: x['Arrival_time'])\n",
    "#########################\n",
    "# round robin이나 선점형에선 작업 추가 후 다시 볼 일이 있기 때문에 해당 변수 초기화하면 안 됨.\n",
    "_queue = []\n",
    "#########################\n",
    "_end_time = 0\n",
    "# arrival_time 고려해야하니 timer 작동\n",
    "for _now_time in range(_MAX_TIME_LENGTH_):\n",
    "    \n",
    "    # 만약 모든 Burst_time 합이 0이면 모든 작업이 종료된 것\n",
    "    # 다만 마지막 작업 추가했을 때와, _now_time간 오차있음.\n",
    "    if (is_complete(_list) == True):\n",
    "        _order.append([_NON_PROCESS_, _ALL_JOB_IS_DONE_])\n",
    "        break\n",
    "    # 아직 안 끝남.\n",
    "    else:\n",
    "        # 노는 중\n",
    "        if (_end_time < _now_time):\n",
    "            # take a rest 1sec == timer speed\n",
    "            _order.append([_NON_PROCESS_, 1])\n",
    "            _end_time += 1\n",
    "            \n",
    "        # 현재 시간에 도착해있는 작업들 리스트업\n",
    "        for _process in _list:\n",
    "            if (_process['Arrival_time'] == _now_time):\n",
    "                # _arrival_list.append(_process)\n",
    "                _queue.append(_process)\n",
    "        \n",
    "        # _QUANTUM_TIME_ 마다 큐에서 스케쥴링\n",
    "        if (_now_time % _QUANTUM_TIME_ == 0):\n",
    "            _queue.sort(key=lambda x: x['Num'])\n",
    "            for _process in _queue:\n",
    "                if (_process['Burst_time'] > 0):\n",
    "                    if (_process['Burst_time'] - _QUANTUM_TIME_ >= 0):\n",
    "                        _order.append([_process['Num'], _QUANTUM_TIME_])\n",
    "                        _end_time += _QUANTUM_TIME_\n",
    "                        _process['Burst_time'] -= _QUANTUM_TIME_\n",
    "                    else:\n",
    "                        _order.append([_process['Num'], _process['Burst_time']])\n",
    "                        _end_time += _process['Burst_time']\n",
    "                        _process['Burst_time'] = 0\n",
    "draw(_order)\n"
   ]
  },
  {
   "attachments": {},
   "cell_type": "markdown",
   "metadata": {},
   "source": [
    "## 2.5. Priority + Round robin"
   ]
  },
  {
   "cell_type": "code",
   "execution_count": 111,
   "metadata": {},
   "outputs": [
    {
     "name": "stdout",
     "output_type": "stream",
     "text": [
      "- Order is : [[5, 10], [2, 10], [1, 10], [5, 10], [2, 10], [1, 10], [5, 10], [2, 5], [1, 10], [-1, 1], [-1, 1], [-1, 1], [-1, 1], [-1, 1], [-1, 1], [-1, 1], [-1, 1], [-1, 1], [-1, 1], [-1, 1], [-1, 1], [-1, 1], [-1, 1], [-1, 1], [4, 10], [3, 10], [4, 10], [3, 10], [4, 10], [3, 5], [4, 10], [4, 10], [-1, -999]]\n",
      "ALL START GOOD JOB!!!\n",
      "ALL EXIT  GOOD JOB!!!\n"
     ]
    },
    {
     "data": {
      "image/png": "[encoded data removed]",
      "text/plain": [
       "<Figure size 1000x100 with 1 Axes>"
      ]
     },
     "metadata": {},
     "output_type": "display_data"
    }
   ],
   "source": [
    "_order = []\n",
    "_list = copy.deepcopy(_DATA_)\n",
    "_list = sorted(_list, key=lambda x: x['Arrival_time'])\n",
    "#########################\n",
    "# round robin이나 선점형에선 작업 추가 후 다시 볼 일이 있기 때문에 해당 변수 초기화하면 안 됨.\n",
    "_queue = []\n",
    "#########################\n",
    "_end_time = 0\n",
    "# arrival_time 고려해야하니 timer 작동\n",
    "for _now_time in range(_MAX_TIME_LENGTH_):\n",
    "\n",
    "    # 만약 모든 Burst_time 합이 0이면 모든 작업이 종료된 것\n",
    "    # 다만 마지막 작업 추가했을 때와, _now_time간 오차있음.\n",
    "    if (is_complete(_list) == True):\n",
    "        _order.append([_NON_PROCESS_, _ALL_JOB_IS_DONE_])\n",
    "        break\n",
    "    # 아직 안 끝남.\n",
    "    else:\n",
    "        # 노는 중\n",
    "        if (_end_time < _now_time):\n",
    "            # take a rest 1sec == timer speed\n",
    "            _order.append([_NON_PROCESS_, 1])\n",
    "            _end_time += 1\n",
    "\n",
    "        # 현재 시간에 도착해있는 작업들 리스트업\n",
    "        for _process in _list:\n",
    "            if (_process['Arrival_time'] == _now_time):\n",
    "                # _arrival_list.append(_process)\n",
    "                _queue.append(_process)\n",
    "\n",
    "        # _QUANTUM_TIME_ 마다 큐에서 스케쥴링\n",
    "        if (_now_time % _QUANTUM_TIME_ == 0):\n",
    "            _queue.sort(key=lambda x: x['Priority'])\n",
    "            for _process in _queue:\n",
    "                if (_process['Burst_time'] > 0):\n",
    "                    if (_process['Burst_time'] - _QUANTUM_TIME_ >= 0):\n",
    "                        _order.append([_process['Num'], _QUANTUM_TIME_])\n",
    "                        _end_time += _QUANTUM_TIME_\n",
    "                        _process['Burst_time'] -= _QUANTUM_TIME_\n",
    "                    else:\n",
    "                        _order.append(\n",
    "                            [_process['Num'], _process['Burst_time']])\n",
    "                        _end_time += _process['Burst_time']\n",
    "                        _process['Burst_time'] = 0\n",
    "draw(_order)\n"
   ]
  },
  {
   "attachments": {},
   "cell_type": "markdown",
   "metadata": {},
   "source": [
    "# 3. 선점형"
   ]
  },
  {
   "attachments": {},
   "cell_type": "markdown",
   "metadata": {},
   "source": [
    "## 3.1. Shortest-Job-First (최단작업우선)\n",
    "- Arrival_time, Burst_time 고려"
   ]
  },
  {
   "cell_type": "code",
   "execution_count": 112,
   "metadata": {},
   "outputs": [
    {
     "name": "stdout",
     "output_type": "stream",
     "text": [
      "- Order is : [[5, 10], [5, 10], [1, 10], [2, 10], [5, 10], [1, 10], [2, 10], [1, 10], [2, 5], [-1, 1], [-1, 1], [-1, 1], [-1, 1], [-1, 1], [-1, 1], [-1, 1], [-1, 1], [-1, 1], [-1, 1], [-1, 1], [-1, 1], [-1, 1], [-1, 1], [-1, 1], [3, 10], [4, 10], [3, 10], [4, 10], [3, 5], [4, 10], [4, 10], [4, 10], [-1, -999]]\n",
      "ALL START GOOD JOB!!!\n",
      "ALL EXIT  GOOD JOB!!!\n"
     ]
    },
    {
     "data": {
      "image/png": "[encoded data removed]",
      "text/plain": [
       "<Figure size 1000x100 with 1 Axes>"
      ]
     },
     "metadata": {},
     "output_type": "display_data"
    }
   ],
   "source": [
    "_order = []\n",
    "_list = copy.deepcopy(_DATA_)\n",
    "_list = sorted(_list, key=lambda x: x['Arrival_time'])\n",
    "#########################\n",
    "# round robin이나 선점형에선 작업 추가 후 다시 볼 일이 있기 때문에 해당 변수 초기화하면 안 됨.\n",
    "_queue = []\n",
    "#########################\n",
    "_end_time = 0\n",
    "# arrival_time 고려해야하니 timer 작동\n",
    "for _now_time in range(_MAX_TIME_LENGTH_):\n",
    "\n",
    "    # 만약 모든 Burst_time 합이 0이면 모든 작업이 종료된 것\n",
    "    # 다만 마지막 작업 추가했을 때와, _now_time간 오차있음.\n",
    "    if (is_complete(_list) == True):\n",
    "        _order.append([_NON_PROCESS_, _ALL_JOB_IS_DONE_])\n",
    "        break\n",
    "    # 아직 안 끝남.\n",
    "    else:\n",
    "        # 노는 중\n",
    "        if (_end_time < _now_time):\n",
    "            # take a rest 1sec == timer speed\n",
    "            _order.append([_NON_PROCESS_, 1])\n",
    "            _end_time += 1\n",
    "\n",
    "        # 현재 시간에 도착해있는 작업들 리스트업\n",
    "        for _process in _list:\n",
    "            if (_process['Arrival_time'] == _now_time):\n",
    "                # _arrival_list.append(_process)\n",
    "                _queue.append(_process)\n",
    "        \n",
    "        # _QUANTUM_TIME_ 마다 큐에서 스케쥴링\n",
    "        if (_now_time % _QUANTUM_TIME_ == 0):\n",
    "            for _process in _queue:\n",
    "                if (_process['Burst_time'] > 0):\n",
    "                    if (_process['Burst_time'] - _QUANTUM_TIME_ >= 0):\n",
    "                        _order.append([_process['Num'], _QUANTUM_TIME_])\n",
    "                        _end_time += _QUANTUM_TIME_\n",
    "                        _process['Burst_time'] -= _QUANTUM_TIME_\n",
    "                    else:\n",
    "                        _order.append(\n",
    "                            [_process['Num'], _process['Burst_time']])\n",
    "                        _end_time += _process['Burst_time']\n",
    "                        _process['Burst_time'] = 0\n",
    "draw(_order)\n"
   ]
  },
  {
   "attachments": {},
   "cell_type": "markdown",
   "metadata": {},
   "source": [
    "## 2.3. Shortest-Remaining-Job-First (최단종료작업우선) \n",
    "- Burst_time, 잔여시간 고려\n",
    "- 기본 Arrival_time 정렬, 동일 시간 도착 시 프로세스 번호 순"
   ]
  },
  {
   "attachments": {},
   "cell_type": "markdown",
   "metadata": {},
   "source": [
    "## 3.2. Priority First Served (우선순위먼저)\n",
    "- Burst_time, Priority 고려\n",
    "- Starvation 고려한 Aging 실행\n"
   ]
  },
  {
   "attachments": {},
   "cell_type": "markdown",
   "metadata": {},
   "source": [
    "## 3.3. Shortest-remaining-time-first (최단잔여시간우선)\n",
    "- Arrival_time, Burst_time 고려"
   ]
  }
 ],
 "metadata": {
  "kernelspec": {
   "display_name": "Python 3",
   "language": "python",
   "name": "python3"
  },
  "language_info": {
   "codemirror_mode": {
    "name": "ipython",
    "version": 3
   },
   "file_extension": ".py",
   "mimetype": "text/x-python",
   "name": "python",
   "nbconvert_exporter": "python",
   "pygments_lexer": "ipython3",
   "version": "3.11.0"
  },
  "orig_nbformat": 4
 },
 "nbformat": 4,
 "nbformat_minor": 2
}
