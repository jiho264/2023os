{
 "cells": [
  {
   "attachments": {},
   "cell_type": "markdown",
   "metadata": {},
   "source": [
    "# 0.운영체제 과제 01\n",
    "- 201901763 이지호"
   ]
  },
  {
   "attachments": {},
   "cell_type": "markdown",
   "metadata": {},
   "source": [
    "- 과제 1\n",
    "- 마감 : 4월 30일(일) 저녁 6시까지\n",
    "- 내용 :\n",
    "    - 수업때 이야기한 모든 스케줄링 방법을 구현하고 성능(5가지) 비교\n",
    "    - Json 파일로 입력정보를 주면 포맷을 체크해서 비교판단\n",
    "    - 실시간스케줄링과 비실시간스케줄링을 Json  입력파일로 자동 구분처리\n",
    "    - 파이썬만 사용, 간트차트 출력을 포함하여 5가지를 모두 비교하고, 각 입력 데이터에 대해 그 중 종합적으로 제일 나은 방법을 \"자동\" 결과 리포팅 (리포팅 내용을 간단한 설명을 포함하여 자동 생성)\n",
    "    - 숫자 결과와 그래픽결과를 모두 나타내고 자동으로 리포팅\n",
    "    - chatGPT 포함한 외부 자료 사용 절대 금함. 특성을 이미 잘 알고 있으므로,  사용흔적이 보이면 0점 처리\n",
    "\n",
    "    - MarkDown 문서로 설명과 해설 그리고 주석이 포함된 주피터노트북 파일(*.ipynb 파일) 과 해당 파일을 PDF 로 저장한 파일, 입력에 사용하는 json 파일 3개 (입력예제 3개임) 등, 총 5개를 이러닝 사이트에 제출함.\n",
    "\n",
    "    - 실행 결과는 절대 평가함. (제대로 되었는지 여부, 제출한 입력 포맷에 평가 데이터를 적용해서 진행)\n",
    "    - 전체 결과는 등급제로 상대 평가함. 열심히 코드 만들고, 열심히 최선의 결과를 잘 만든 사람에게 높은 등급\n",
    "\n",
    "    - 위 내용을 기준으로 추가로 필요한 부분은 스스로 판단해서 진행하면 됨. 의도에서 벗어나거나 축소되면 안됨."
   ]
  },
  {
   "attachments": {},
   "cell_type": "markdown",
   "metadata": {},
   "source": [
    "# 1.분석 준비"
   ]
  },
  {
   "attachments": {},
   "cell_type": "markdown",
   "metadata": {},
   "source": [
    "## 1.1. Set Value"
   ]
  },
  {
   "cell_type": "code",
   "execution_count": 169,
   "metadata": {},
   "outputs": [],
   "source": [
    "import copy\n",
    "import matplotlib.pyplot as plt\n",
    "import json"
   ]
  },
  {
   "attachments": {},
   "cell_type": "markdown",
   "metadata": {},
   "source": [
    "- _JSON_NUM_ 변경해가며 출력 가능"
   ]
  },
  {
   "cell_type": "code",
   "execution_count": 170,
   "metadata": {},
   "outputs": [],
   "source": [
    "_JSON_NUM_ = 1"
   ]
  },
  {
   "attachments": {},
   "cell_type": "markdown",
   "metadata": {},
   "source": [
    "- 입력할 전체 프로세스들의 시간 길이. 스케쥴링 완료 시 이전에 for문 종료\n"
   ]
  },
  {
   "cell_type": "code",
   "execution_count": 171,
   "metadata": {},
   "outputs": [],
   "source": [
    "_MAX_TIME_LENGTH_ = 9999"
   ]
  },
  {
   "attachments": {},
   "cell_type": "markdown",
   "metadata": {},
   "source": [
    "- Round robin"
   ]
  },
  {
   "cell_type": "code",
   "execution_count": 172,
   "metadata": {},
   "outputs": [],
   "source": [
    "_DEFAULT_QUANTUM_TIME_ = 20"
   ]
  },
  {
   "attachments": {},
   "cell_type": "markdown",
   "metadata": {},
   "source": [
    "- print flag"
   ]
  },
  {
   "cell_type": "code",
   "execution_count": 173,
   "metadata": {},
   "outputs": [],
   "source": [
    "_PRINT_FLAG_ = False\n",
    "# _PRINT_FLAG_ = True"
   ]
  },
  {
   "attachments": {},
   "cell_type": "markdown",
   "metadata": {},
   "source": [
    "## 1.2. Load data"
   ]
  },
  {
   "cell_type": "code",
   "execution_count": 174,
   "metadata": {},
   "outputs": [
    {
     "name": "stdout",
     "output_type": "stream",
     "text": [
      "--Data_loader-----------------\n",
      "- Num of Process : 5\n",
      "- Data Loading Success\n"
     ]
    }
   ],
   "source": [
    "def data_loader():\n",
    "    print(\"--Data_loader-----------------\")\n",
    "    _jsonfilename = \"case\" + str(_JSON_NUM_) + \".json\"\n",
    "    with open(_jsonfilename) as f:\n",
    "        json_object = json.load(f)\n",
    "\n",
    "    num_of_processs = len(json_object['list'])\n",
    "    print(\"- Num of Process :\", num_of_processs)\n",
    "\n",
    "    # data checking\n",
    "    assert json_object['list']\n",
    "    for i in range(num_of_processs):\n",
    "        assert json_object['list'][i][\"Num\"] > 0\n",
    "        assert json_object['list'][i][\"Burst_time\"] > 0\n",
    "        assert json_object['list'][i][\"Priority\"] > 0\n",
    "        assert json_object['list'][i][\"Arrival_time\"] >= 0\n",
    "    print(\"- Data Loading Success\")\n",
    "\n",
    "    return json_object\n",
    "\n",
    "_DATA_ = data_loader()[\"list\"]\n"
   ]
  },
  {
   "attachments": {},
   "cell_type": "markdown",
   "metadata": {},
   "source": [
    "## 1.3. Function\n",
    "### 1.3.1. draw()\n"
   ]
  },
  {
   "attachments": {},
   "cell_type": "markdown",
   "metadata": {},
   "source": [
    "#### 1.3.1.1. Color List\n",
    "- Process 마다 같은 색으로 시각화 하기 위해 색상표 작성.\n",
    "- \"_COLORS_\" 변수 길이 이상의 Process 갯수가 입력 될 시, 랜덤 색상 배정."
   ]
  },
  {
   "cell_type": "code",
   "execution_count": 175,
   "metadata": {},
   "outputs": [
    {
     "name": "stdout",
     "output_type": "stream",
     "text": [
      "_COLORS_ length is : 117\n"
     ]
    }
   ],
   "source": [
    "file = open(\"color_list.txt\", \"r\")\n",
    "_COLORS_ = file.read().splitlines()\n",
    "file.close()\n",
    "print(\"_COLORS_ length is :\", len(_COLORS_))"
   ]
  },
  {
   "attachments": {},
   "cell_type": "markdown",
   "metadata": {},
   "source": [
    "#### 1.3.1.2. draw Gantt chart\n",
    "- 프로세스 목록 json 파일 + Order 배열만으로 ploting 일반화 함.\n",
    "    - ex...\n",
    "    - Order == [[1, 50], [2, 30], [3, 40]]\n",
    "    - 1번 프로세스 50, 이후 2번 프로세스 30, 이후 3번 프로세스 40.. "
   ]
  },
  {
   "cell_type": "code",
   "execution_count": 176,
   "metadata": {},
   "outputs": [],
   "source": [
    "_ALL_JOB_IS_DONE_ = -999\n",
    "_NON_PROCESS_ = -1\n",
    "\n",
    "def draw(_order, _Displaying=True):\n",
    "    ## set print level\n",
    "    # nothing\n",
    "    if (_Displaying == False):\n",
    "        _PRINT_LEVEL_ = 0\n",
    "    # all information\n",
    "    elif (_PRINT_FLAG_ == True):\n",
    "        _PRINT_LEVEL_ = 2\n",
    "    # simple information\n",
    "    else:\n",
    "        _PRINT_LEVEL_ = 1\n",
    "    if (_PRINT_LEVEL_ > 0):\n",
    "        print(\"- Order :\", _order)\n",
    "    if (_PRINT_LEVEL_ > 1):\n",
    "        print(\"--Start Analysis--------------\")\n",
    "        \n",
    "    # init default variable\n",
    "    fig, ax = plt.subplots(figsize=(10, 1))\n",
    "    _process = copy.deepcopy(_DATA_)\n",
    "    _sum_of_busrt_time = 0\n",
    "    _sum_of_response_time = 0\n",
    "    _sum_of_turnaround_time = 0\n",
    "    _sum_of_running_time = 0\n",
    "    _now_time = 0\n",
    "    _cumsum_waiting_time = 0\n",
    "    _xlim_tickers = []\n",
    "\n",
    "    # 완전동작 카운터\n",
    "    _start_counter = 0\n",
    "    _exit_counter = 0\n",
    "\n",
    "    for _pid, _runtime in _order:\n",
    "        # NOT CPU RUNNING\n",
    "        if (_pid < 0):\n",
    "            # TAKE A REST\n",
    "            if (_runtime > 0):\n",
    "                _now_time += _runtime\n",
    "                continue\n",
    "            # ALL JOP IS DONE\n",
    "            elif (_runtime == _ALL_JOB_IS_DONE_):\n",
    "                break\n",
    "        # CPU RUNNING\n",
    "        else:\n",
    "            # P_num은 1부터 시작하기에, index 맞추는 용도.\n",
    "            _JUST_PRINT_IDX_ = _pid\n",
    "            for i in range(len(_process)):\n",
    "                if (_process[i]['Num'] == _pid):\n",
    "                    _target = _process[i]\n",
    "            \n",
    "            # First come in CPU\n",
    "            if (_target['Priority'] > 0):\n",
    "                _sum_of_response_time += _now_time\n",
    "                if (_PRINT_LEVEL_ > 1):\n",
    "                    print(\"START - P\", _JUST_PRINT_IDX_, \"    time is\", _now_time)\n",
    "                # target의 우선순위에 음수로 시작시간 저장\n",
    "                # order는 정해져있고, Priority는 이 단계에서 사용하지 않음.\n",
    "                _target['Priority'] = 0\n",
    "                _target['Priority'] = - _now_time\n",
    "                _start_counter += 1\n",
    "                _xlim_tickers.append(_now_time)\n",
    "            \n",
    "            # 통계용 전체 동작 시간 구하기\n",
    "            _sum_of_busrt_time += _target['Burst_time']\n",
    "            # 통계용 전체 대기 시간 구하기\n",
    "            _cumsum_waiting_time += _now_time\n",
    "            \n",
    "            # ploting\n",
    "            ax.barh(0, _runtime, left=_now_time,\n",
    "                    edgecolor='black', color=_COLORS_[_JUST_PRINT_IDX_-1])\n",
    "            _now_time += _runtime\n",
    "            ax.text(_now_time - _runtime/2, 0,\n",
    "                    ('P'+str(_JUST_PRINT_IDX_)), ha='center', va='center')\n",
    "            _xlim_tickers.append(_now_time)\n",
    "            \n",
    "            # 프로세스 정보에서 진행 시간만큼 차감\n",
    "            # >> 남은 시간만큼 더 스케줄링하면 됨.\n",
    "            _target['Burst_time'] -= _runtime\n",
    "            \n",
    "            # JOP IS DONE ?\n",
    "            if (_target['Burst_time'] == 0):\n",
    "                if (_PRINT_LEVEL_ > 1):\n",
    "                    print(\" P\", _JUST_PRINT_IDX_, \"Turnaround time is\",_now_time - _target['Arrival_time'])\n",
    "                _sum_of_turnaround_time += _now_time - _target['Arrival_time']\n",
    "                if (_PRINT_LEVEL_ > 1):\n",
    "                    print(\" P\", _JUST_PRINT_IDX_, \"Running    time is\", _now_time -abs(_target['Priority']))\n",
    "                _sum_of_running_time += _now_time - abs(_target['Priority'])\n",
    "                if (_PRINT_LEVEL_ > 1):\n",
    "                    print(\"EXIT  - P\", _JUST_PRINT_IDX_, \"    time is\", _now_time)\n",
    "                    print(\"\")\n",
    "                _exit_counter +=1\n",
    "                \n",
    "    # is_success?\n",
    "    if (_PRINT_LEVEL_ > 0):\n",
    "        print(\"------------------------------\")\n",
    "        if (_start_counter != len(_process)):\n",
    "            print(\"START ERROR.. start fault cnt :\", len(_process) - _start_counter)\n",
    "        else:\n",
    "            print(\"ALL START GOOD JOB!!!\")\n",
    "        if (_exit_counter != len(_process)):\n",
    "            print(\"EXIT  ERROR.. exit  complete cnt :\", len(_process) - _exit_counter)\n",
    "        else:\n",
    "            print(\"ALL EXIT  GOOD JOB!!!\")\n",
    "    # ploting\n",
    "    ax.set_xticks(_xlim_tickers)\n",
    "    ax.set_xlim([0, _now_time])\n",
    "    ax.set_yticks([])\n",
    "    if (_PRINT_LEVEL_ > 0):\n",
    "        plt.show()\n",
    "    \n",
    "    # print value\n",
    "    if (_PRINT_LEVEL_ > 1):\n",
    "        # cpu 이용률    \n",
    "        print(\"CPU utilization : %2.2f\" % float(_sum_of_busrt_time/_now_time*100), \"%\")\n",
    "        # 단위 시간당 처리된 프로세스의 개수\n",
    "        print(\"Throughput :\", len(_process)/_now_time)\n",
    "        # 프로세스를 cpu가 실행하지 않은 평균 대기시간\n",
    "        print(\"Average waiting time :\", _cumsum_waiting_time/len(_process))\n",
    "        # 프로세스를 처음으로 실행하는 데에 걸린 시간\n",
    "        print(\"Average Response time :\", _sum_of_response_time/len(_process))\n",
    "        # 시작하고 나서부터 완료까지 걸린 시간\n",
    "        print(\"Average Running time :\", _sum_of_running_time/len(_process))\n",
    "        # 처음 대기 부터, 작업 완료에 대한 총 소요 시간 / p's 종료시점 - arrival_time\n",
    "        print(\"Average Turnaround time :\", _sum_of_turnaround_time/len(_process))"
   ]
  },
  {
   "attachments": {},
   "cell_type": "markdown",
   "metadata": {},
   "source": [
    "### 1.3.3. is_complete()\n",
    "- 해당 list에 들은 burst time의 합이 0인지 판단하기\n"
   ]
  },
  {
   "cell_type": "code",
   "execution_count": 177,
   "metadata": {},
   "outputs": [],
   "source": [
    "def is_complete(_list):\n",
    "    _sum_of_all_burst_time = 0\n",
    "    for i in _list:\n",
    "        _sum_of_all_burst_time += i['Burst_time']\n",
    "    if (_sum_of_all_burst_time == 0):\n",
    "        return True\n",
    "    else:\n",
    "        return False"
   ]
  },
  {
   "attachments": {},
   "cell_type": "markdown",
   "metadata": {},
   "source": [
    "### 1.3.3. order_zip()\n",
    "- order 압축기\n",
    "- [5, 1]. [5, 1],..을 [5, 2]로 압축해줌"
   ]
  },
  {
   "cell_type": "code",
   "execution_count": 178,
   "metadata": {},
   "outputs": [],
   "source": [
    "def order_zip(_order):\n",
    "    _idx = 0\n",
    "    while (_idx < len(_order)):\n",
    "        # 만약 종료 지점 만나면 무한루프 탈출\n",
    "        if (_order[_idx] == [_NON_PROCESS_, _ALL_JOB_IS_DONE_]):\n",
    "            break\n",
    "        # 만약 같은 프로세스의 작업지시 만나면 합체\n",
    "        elif (_order[_idx][0] == _order[_idx + 1][0]):\n",
    "            _order[_idx + 1][1] += _order[_idx][1]\n",
    "            _order.pop(_idx)\n",
    "        # 다른 프로세스 만난거면 다음 process 압축하러 넘어감\n",
    "        else:\n",
    "            _idx += 1\n",
    "    return _order"
   ]
  },
  {
   "attachments": {},
   "cell_type": "markdown",
   "metadata": {},
   "source": [
    "# 2.Non Real-time Scheduling\n"
   ]
  },
  {
   "attachments": {},
   "cell_type": "markdown",
   "metadata": {},
   "source": [
    "## 2.1. First-come, First-Served\n",
    "- 기본 Arrival_time 정렬, 동일 시간 도착 시 프로세스 번호 순"
   ]
  },
  {
   "cell_type": "code",
   "execution_count": 179,
   "metadata": {},
   "outputs": [
    {
     "name": "stdout",
     "output_type": "stream",
     "text": [
      "- Order : [[-1, 11], [2, 5], [5, 200], [1, 30], [3, 500], [4, 500], [-1, -999]]\n",
      "------------------------------\n",
      "ALL START GOOD JOB!!!\n",
      "ALL EXIT  GOOD JOB!!!\n"
     ]
    },
    {
     "data": {
      "image/png": "[encoded data removed]",
      "text/plain": [
       "<Figure size 1000x100 with 1 Axes>"
      ]
     },
     "metadata": {},
     "output_type": "display_data"
    }
   ],
   "source": [
    "def FCFO(_list, _Displaying=True):\n",
    "    _order = []\n",
    "\n",
    "    _list = sorted(_list, key=lambda x: x['Arrival_time'])\n",
    "\n",
    "    _end_time = 0\n",
    "    # arrival_time 고려해야하니 timer 작동\n",
    "    for _now_time in range(_MAX_TIME_LENGTH_):\n",
    "        # 만약 모든 Burst_time 합이 0이면 모든 작업이 종료된 것\n",
    "        # 다만 마지막 작업 추가했을 때와, _now_time간 오차있음.\n",
    "        if (is_complete(_list) == True):\n",
    "            _order.append([_NON_PROCESS_, _ALL_JOB_IS_DONE_])\n",
    "            break\n",
    "        # 아직 안 끝남.\n",
    "        else:\n",
    "            # 노는 중\n",
    "            if (_end_time < _now_time):\n",
    "                # take a rest 1sec == timer speed\n",
    "                _order.append([_NON_PROCESS_, 1])\n",
    "                _end_time += 1\n",
    "                \n",
    "            # 현재 시간에 도착해있는 작업들 리스트업\n",
    "            for _process in _list:\n",
    "                if (_process['Arrival_time'] == _now_time):\n",
    "                    _order.append([_process['Num'], _process['Burst_time']])\n",
    "                    _end_time += _process['Burst_time']\n",
    "                    _process['Burst_time'] = 0\n",
    "    _order = order_zip(_order)\n",
    "    if (_Displaying == True):\n",
    "        draw(_order, _Displaying)\n",
    "    return _order\n",
    "\n",
    "_list = copy.deepcopy(_DATA_)\n",
    "_tmp = FCFO(_list)\n"
   ]
  },
  {
   "attachments": {},
   "cell_type": "markdown",
   "metadata": {},
   "source": [
    "## 2.2. Shortest-Job-First\n"
   ]
  },
  {
   "attachments": {},
   "cell_type": "markdown",
   "metadata": {},
   "source": [
    "### 2.2.1. SJF\n",
    "- 기본 Arrival_time 정렬, 동일 시간 도착 시 프로세스 번호 순\n",
    "- Arrival_time 시점 기준, Burst_time만 고려"
   ]
  },
  {
   "cell_type": "code",
   "execution_count": 180,
   "metadata": {},
   "outputs": [
    {
     "name": "stdout",
     "output_type": "stream",
     "text": [
      "- Order : [[-1, 11], [2, 5], [5, 200], [1, 30], [3, 500], [4, 500], [-1, -999]]\n",
      "------------------------------\n",
      "ALL START GOOD JOB!!!\n",
      "ALL EXIT  GOOD JOB!!!\n"
     ]
    },
    {
     "data": {
      "image/png": "[encoded data removed]",
      "text/plain": [
       "<Figure size 1000x100 with 1 Axes>"
      ]
     },
     "metadata": {},
     "output_type": "display_data"
    }
   ],
   "source": [
    "def SJF(_list, _Displaying=True):\n",
    "    _order = []\n",
    "    _list = sorted(_list, key=lambda x: x['Arrival_time'])\n",
    "\n",
    "    _end_time = 0\n",
    "    # arrival_time 고려해야하니 timer 작동\n",
    "    for _now_time in range(_MAX_TIME_LENGTH_):\n",
    "        # 만약 모든 Burst_time 합이 0이면 모든 작업이 종료된 것\n",
    "        # 다만 마지막 작업 추가했을 때와, _now_time간 오차있음.\n",
    "        if (is_complete(_list) == True):\n",
    "            _order.append([_NON_PROCESS_, _ALL_JOB_IS_DONE_])\n",
    "            break\n",
    "        # 아직 안 끝남.\n",
    "        else:\n",
    "            # 노는 중\n",
    "            if (_end_time < _now_time):\n",
    "                # take a rest 1sec == timer speed\n",
    "                _order.append([_NON_PROCESS_, 1])\n",
    "                _end_time += 1\n",
    "                \n",
    "            # 현재 시간에 도착해있는 작업들 리스트업\n",
    "            _queue = []\n",
    "            for _process in _list:\n",
    "                if (_process['Arrival_time'] == _now_time):\n",
    "                    _queue.append(_process)\n",
    "            \n",
    "            # 정렬 후 order에 추가    \n",
    "            _queue.sort(key=lambda x: x['Burst_time'])\n",
    "            for _process in _queue:\n",
    "                _order.append([_process['Num'], _process['Burst_time']])\n",
    "                _end_time += _process['Burst_time']\n",
    "                _process['Burst_time'] = 0\n",
    "    \n",
    "    _order = order_zip(_order)\n",
    "    if (_Displaying == True):\n",
    "        draw(_order, _Displaying)\n",
    "    return _order\n",
    "\n",
    "\n",
    "_list = copy.deepcopy(_DATA_)\n",
    "_tmp = SJF(_list)\n"
   ]
  },
  {
   "attachments": {},
   "cell_type": "markdown",
   "metadata": {},
   "source": [
    "### 2.2.2. Preemptive_SJF\n",
    "- 기본 Arrival_time 정렬, 동일 시간 도착 시 프로세스 번호 순\n",
    "- Arrival_time 시점 기준, Burst_time만 고려\n",
    "- 단, Burst_time 짧은 process 도착 시, 이것으로 대체 됨."
   ]
  },
  {
   "cell_type": "code",
   "execution_count": 181,
   "metadata": {},
   "outputs": [
    {
     "name": "stdout",
     "output_type": "stream",
     "text": [
      "- Order : [[-1, 11], [2, 5], [5, 200], [1, 30], [3, 500], [4, 500], [-1, -999]]\n",
      "------------------------------\n",
      "ALL START GOOD JOB!!!\n",
      "ALL EXIT  GOOD JOB!!!\n"
     ]
    },
    {
     "data": {
      "image/png": "[encoded data removed]",
      "text/plain": [
       "<Figure size 1000x100 with 1 Axes>"
      ]
     },
     "metadata": {},
     "output_type": "display_data"
    }
   ],
   "source": [
    "def Preemptive_SJF(_list, _Displaying=True):\n",
    "    _order = []\n",
    "    _list = sorted(_list, key=lambda x: x['Arrival_time'])\n",
    "    #########################\n",
    "    # round robin이나 선점형에선 작업 추가 후 다시 볼 일이 있기 때문에 해당 변수 초기화하면 안 됨.\n",
    "    _queue = []\n",
    "    #########################\n",
    "    _end_time = 0\n",
    "    # arrival_time 고려해야하니 timer 작동\n",
    "    for _now_time in range(_MAX_TIME_LENGTH_):\n",
    "\n",
    "        # 만약 모든 Burst_time 합이 0이면 모든 작업이 종료된 것\n",
    "        # 다만 마지막 작업 추가했을 때와, _now_time간 오차있음.\n",
    "        if (is_complete(_list) == True):\n",
    "            _order.append([_NON_PROCESS_, _ALL_JOB_IS_DONE_])\n",
    "            break\n",
    "        # 아직 안 끝남.\n",
    "        else:\n",
    "            # 노는 중\n",
    "            if (_end_time < _now_time):\n",
    "                # take a rest 1sec == timer speed\n",
    "                _order.append([_NON_PROCESS_, 1])\n",
    "                _end_time += 1\n",
    "\n",
    "            # 현재 시간에 도착해있는 작업들 리스트업\n",
    "            for _process in _list:\n",
    "                if (_process['Arrival_time'] == _now_time):\n",
    "                    _queue.append(_process)\n",
    "            # 아무 작업도 없으면 다음 for로 넘어감\n",
    "            if(len(_queue) == 0):\n",
    "                continue\n",
    "            # _now_time 마다 큐에서 스케쥴링\n",
    "            # (1) 일단 앞에서부터 burst_time == 0 인 프로세스 있을 때 마다 다음 실행을 위해 인덱스 넘어감\n",
    "            _idx = 0\n",
    "            while (_queue[_idx]['Burst_time'] == 0):\n",
    "                # index 넘어가는데, 도착 목록들에 남은 것 있으면 넘기기\n",
    "                if (is_complete(_queue) == False):\n",
    "                    _idx += 1\n",
    "                # 미도착 목록 존재하면 idx넘어가지 않음. out of range error있음.\n",
    "                else:\n",
    "                    break\n",
    "            \n",
    "            # 원래의 burst_time 순으로 정렬하기\n",
    "            _compare_queue = copy.deepcopy(_DATA_)\n",
    "            _compare_queue = [tmp for tmp in _compare_queue if tmp['Num'] in [q['Num'] for q in _queue]]\n",
    "            _compare_queue.sort(key=lambda x: x['Burst_time'])\n",
    "            \n",
    "            # (2) 원래 짧은 시간이 누구인가 찾았음. 그 프로세스는 _queue에서는 시간이 줄어든 채로 있을 것임.\n",
    "            # 그 줄어든 burst_time을 가지는 친구를 _queue에서 찾아야함. >> _idx가 찾은 결과\n",
    "            for i in range(len(_queue)):\n",
    "                if (_compare_queue[0]['Num'] == _queue[i]['Num'] and _queue[i]['Burst_time'] != 0):\n",
    "                    _idx = i\n",
    "                    \n",
    "            # (1)과 (2)에서 정해진 인덱스 둘 중 하나로 스케쥴링한다.\n",
    "            _process = _queue[_idx]\n",
    "            if (_process['Burst_time'] > 0):\n",
    "                if (_process['Burst_time'] - 1 >= 0):\n",
    "                    _order.append([_process['Num'], 1])\n",
    "                    _end_time += 1\n",
    "                    _process['Burst_time'] -= 1\n",
    "    _order = order_zip(_order)\n",
    "    if (_Displaying == True):\n",
    "        draw(_order, _Displaying)\n",
    "    return _order\n",
    "\n",
    "_list = copy.deepcopy(_DATA_)\n",
    "_tmp = Preemptive_SJF(_list)\n"
   ]
  },
  {
   "attachments": {},
   "cell_type": "markdown",
   "metadata": {},
   "source": [
    "### 2.2.3. Preemptive_SRJF\n",
    "- 기본 Arrival_time 정렬, 동일 시간 도착 시 프로세스 번호 순\n",
    "- Arrival_time 시점 기준, 잔여 Burst_time 고려\n",
    "- 단, 잔여 Burst_time 짧은 process 발견 시, 이것으로 대체 됨."
   ]
  },
  {
   "cell_type": "code",
   "execution_count": 182,
   "metadata": {},
   "outputs": [
    {
     "name": "stdout",
     "output_type": "stream",
     "text": [
      "- Order : [[-1, 11], [2, 5], [5, 34], [1, 30], [5, 166], [3, 500], [4, 500], [-1, -999]]\n",
      "------------------------------\n",
      "ALL START GOOD JOB!!!\n",
      "ALL EXIT  GOOD JOB!!!\n"
     ]
    },
    {
     "data": {
      "image/png": "[encoded data removed]",
      "text/plain": [
       "<Figure size 1000x100 with 1 Axes>"
      ]
     },
     "metadata": {},
     "output_type": "display_data"
    }
   ],
   "source": [
    "def Preemptive_SRJF(_list, _Displaying=True):\n",
    "    _order = []\n",
    "    _list = sorted(_list, key=lambda x: x['Arrival_time'])\n",
    "    #########################\n",
    "    # round robin이나 선점형에선 작업 추가 후 다시 볼 일이 있기 때문에 해당 변수 초기화하면 안 됨.\n",
    "    _queue = []\n",
    "    #########################\n",
    "    _end_time = 0\n",
    "    # arrival_time 고려해야하니 timer 작동\n",
    "    for _now_time in range(_MAX_TIME_LENGTH_):\n",
    "\n",
    "        # 만약 모든 Burst_time 합이 0이면 모든 작업이 종료된 것\n",
    "        # 다만 마지막 작업 추가했을 때와, _now_time간 오차있음.\n",
    "        if (is_complete(_list) == True):\n",
    "            _order.append([_NON_PROCESS_, _ALL_JOB_IS_DONE_])\n",
    "            break\n",
    "        # 아직 안 끝남.\n",
    "        else:\n",
    "            # 노는 중\n",
    "            if (_end_time < _now_time):\n",
    "                # take a rest 1sec == timer speed\n",
    "                _order.append([_NON_PROCESS_, 1])\n",
    "                _end_time += 1\n",
    "\n",
    "            # 현재 시간에 도착해있는 작업들 리스트업\n",
    "            for _process in _list:\n",
    "                if (_process['Arrival_time'] == _now_time):\n",
    "                    _queue.append(_process)\n",
    "            # 아무 작업도 없으면 다음 for로 넘어감\n",
    "            if (len(_queue) == 0):\n",
    "                continue\n",
    "            # 남은 burst_time 순으로 정렬하기\n",
    "            _queue.sort(key=lambda x: x['Burst_time'])\n",
    "            # _now_time 마다 큐에서 스케쥴링\n",
    "            _idx = 0\n",
    "            while (_queue[_idx]['Burst_time'] == 0):\n",
    "                # index 넘어가는데, 도착 목록들에 남은 것 있으면 넘기기\n",
    "                if (is_complete(_queue) == False):\n",
    "                    _idx += 1\n",
    "                # 미도착 목록 존재하면 idx넘어가지 않음. out of range error있음.\n",
    "                else:\n",
    "                    break\n",
    "\n",
    "            _process = _queue[_idx]\n",
    "            if (_process['Burst_time'] > 0):\n",
    "                if (_process['Burst_time'] - 1 >= 0):\n",
    "                    _order.append([_process['Num'], 1])\n",
    "                    _end_time += 1\n",
    "                    _process['Burst_time'] -= 1\n",
    "\n",
    "    _order = order_zip(_order)\n",
    "    if (_Displaying == True):\n",
    "        draw(_order, _Displaying)\n",
    "    return _order\n",
    "\n",
    "_list = copy.deepcopy(_DATA_)\n",
    "_tmp = Preemptive_SRJF(_list)\n"
   ]
  },
  {
   "attachments": {},
   "cell_type": "markdown",
   "metadata": {},
   "source": [
    "## 2.3. Priority First Served"
   ]
  },
  {
   "attachments": {},
   "cell_type": "markdown",
   "metadata": {},
   "source": [
    "### 2.3.1. Priority\n",
    "- 기본 Arrival_time 정렬, 동일 시간 도착 시 프로세스 번호 순\n",
    "- Priority 고려, 우선 순위 동일 시 프로세스 번호 순"
   ]
  },
  {
   "cell_type": "code",
   "execution_count": 183,
   "metadata": {},
   "outputs": [
    {
     "name": "stdout",
     "output_type": "stream",
     "text": [
      "- Order : [[-1, 11], [2, 5], [5, 200], [1, 30], [3, 500], [4, 500], [-1, -999]]\n",
      "------------------------------\n",
      "ALL START GOOD JOB!!!\n",
      "ALL EXIT  GOOD JOB!!!\n"
     ]
    },
    {
     "data": {
      "image/png": "[encoded data removed]",
      "text/plain": [
       "<Figure size 1000x100 with 1 Axes>"
      ]
     },
     "metadata": {},
     "output_type": "display_data"
    }
   ],
   "source": [
    "def Priority(_list, _Displaying=True):\n",
    "    _order = []\n",
    "    _list = sorted(_list, key=lambda x: x['Arrival_time'])\n",
    "\n",
    "    _end_time = 0\n",
    "    # arrival_time 고려해야하니 timer 작동\n",
    "    for _now_time in range(_MAX_TIME_LENGTH_):\n",
    "        # 만약 모든 Burst_time 합이 0이면 모든 작업이 종료된 것\n",
    "        # 다만 마지막 작업 추가했을 때와, _now_time간 오차있음.\n",
    "        if (is_complete(_list) == True):\n",
    "            _order.append([_NON_PROCESS_, _ALL_JOB_IS_DONE_])\n",
    "            break\n",
    "        # 아직 안 끝남.\n",
    "        else:\n",
    "            # 노는 중\n",
    "            if (_end_time < _now_time):\n",
    "                # take a rest 1sec == timer speed\n",
    "                _order.append([_NON_PROCESS_, 1])\n",
    "                _end_time += 1\n",
    "\n",
    "            # 현재 시간에 도착해있는 작업들 리스트업\n",
    "            _queue = []\n",
    "            for _process in _list:\n",
    "                if (_process['Arrival_time'] == _now_time):\n",
    "                    _queue.append(_process)\n",
    "\n",
    "            # 정렬 후 order에 추가\n",
    "            _queue.sort(key=lambda x: x['Priority'])\n",
    "            for _process in _queue:\n",
    "                _order.append([_process['Num'], _process['Burst_time']])\n",
    "                _end_time += _process['Burst_time']\n",
    "                _process['Burst_time'] = 0\n",
    "    _order = order_zip(_order)\n",
    "    if (_Displaying == True):\n",
    "        draw(_order, _Displaying)\n",
    "    return _order\n",
    "\n",
    "_list = copy.deepcopy(_DATA_)\n",
    "_tmp = Priority(_list)\n"
   ]
  },
  {
   "attachments": {},
   "cell_type": "markdown",
   "metadata": {},
   "source": [
    "### 2.3.2. Preemptive_Priority\n",
    "- 기본 Arrival_time 정렬, 동일 시간 도착 시 프로세스 번호 순\n",
    "- Priority 고려, 우선 순위 동일 시 프로세스 번호 순\n",
    "- 단, 더 높은 우선 순위 process 발견 시 이것으로 대체 됨."
   ]
  },
  {
   "cell_type": "code",
   "execution_count": 184,
   "metadata": {},
   "outputs": [
    {
     "name": "stdout",
     "output_type": "stream",
     "text": [
      "- Order : [[-1, 11], [2, 5], [5, 34], [1, 30], [3, 500], [4, 500], [5, 166], [-1, -999]]\n",
      "------------------------------\n",
      "ALL START GOOD JOB!!!\n",
      "ALL EXIT  GOOD JOB!!!\n"
     ]
    },
    {
     "data": {
      "image/png": "[encoded data removed]",
      "text/plain": [
       "<Figure size 1000x100 with 1 Axes>"
      ]
     },
     "metadata": {},
     "output_type": "display_data"
    }
   ],
   "source": [
    "def Preemptive_Priority(_list, _Displaying=True):\n",
    "    _order = []\n",
    "    _list = sorted(_list, key=lambda x: x['Arrival_time'])\n",
    "    #########################\n",
    "    # round robin이나 선점형에선 작업 추가 후 다시 볼 일이 있기 때문에 해당 변수 초기화하면 안 됨.\n",
    "    _queue = []\n",
    "    #########################\n",
    "    _end_time = 0\n",
    "    # arrival_time 고려해야하니 timer 작동\n",
    "    for _now_time in range(_MAX_TIME_LENGTH_):\n",
    "\n",
    "        # 만약 모든 Burst_time 합이 0이면 모든 작업이 종료된 것\n",
    "        # 다만 마지막 작업 추가했을 때와, _now_time간 오차있음.\n",
    "        if (is_complete(_list) == True):\n",
    "            _order.append([_NON_PROCESS_, _ALL_JOB_IS_DONE_])\n",
    "            break\n",
    "        # 아직 안 끝남.\n",
    "        else:\n",
    "            # 노는 중\n",
    "            if (_end_time < _now_time):\n",
    "                # take a rest 1sec == timer speed\n",
    "                _order.append([_NON_PROCESS_, 1])\n",
    "                _end_time += 1\n",
    "\n",
    "            # 현재 시간에 도착해있는 작업들 리스트업\n",
    "            for _process in _list:\n",
    "                if (_process['Arrival_time'] == _now_time):\n",
    "                    _queue.append(_process)\n",
    "            # 아무 작업도 없으면 다음 for로 넘어감\n",
    "            if (len(_queue) == 0):\n",
    "                continue\n",
    "            # 남은 Priority 순으로 정렬하기\n",
    "            _queue.sort(\n",
    "                key=lambda x: x['Priority'])\n",
    "\n",
    "            # _now_time 마다 큐에서 스케쥴링\n",
    "            _idx = 0\n",
    "            while (_queue[_idx]['Burst_time'] == 0):\n",
    "                # index 넘어가는데, 도착 목록들에 남은 것 있으면 넘기기\n",
    "                if (is_complete(_queue) == False):\n",
    "                    _idx += 1\n",
    "                # 미도착 목록 존재하면 idx넘어가지 않음. out of range error있음.\n",
    "                else:\n",
    "                    break\n",
    "\n",
    "            _process = _queue[_idx]\n",
    "            if (_process['Burst_time'] > 0):\n",
    "                if (_process['Burst_time'] - 1 >= 0):\n",
    "                    _order.append([_process['Num'], 1])\n",
    "                    _end_time += 1\n",
    "                    _process['Burst_time'] -= 1\n",
    "\n",
    "    _order = order_zip(_order)\n",
    "    if (_Displaying == True):\n",
    "        draw(_order, _Displaying)\n",
    "    return _order\n",
    "\n",
    "\n",
    "_list = copy.deepcopy(_DATA_)\n",
    "_tmp = Preemptive_Priority(_list)\n"
   ]
  },
  {
   "attachments": {},
   "cell_type": "markdown",
   "metadata": {},
   "source": [
    "## 2.4. Round robin\n",
    "- 기본 Arrival_time 정렬, 동일 시간 도착 시 프로세스 번호 순\n",
    "- QUANTUM_TIME 내에 처리하지 못 할 경우, 남은 Burst_time은 큐의 맨 뒤로 감."
   ]
  },
  {
   "attachments": {},
   "cell_type": "markdown",
   "metadata": {},
   "source": [
    "### 2.4.1. Round Robin"
   ]
  },
  {
   "cell_type": "code",
   "execution_count": 189,
   "metadata": {},
   "outputs": [
    {
     "name": "stdout",
     "output_type": "stream",
     "text": [
      "- Order : [[-1, 11], [2, 5], [5, 39], [1, 30], [5, 40], [3, 70], [4, 70], [5, 70], [3, 70], [4, 70], [5, 51], [3, 19], [4, 70], [3, 70], [4, 70], [3, 70], [4, 70], [3, 70], [4, 70], [3, 70], [4, 70], [3, 61], [4, 10], [-1, -999]]\n",
      "------------------------------\n",
      "ALL START GOOD JOB!!!\n",
      "ALL EXIT  GOOD JOB!!!\n"
     ]
    },
    {
     "data": {
      "image/png": "[encoded data removed]",
      "text/plain": [
       "<Figure size 1000x100 with 1 Axes>"
      ]
     },
     "metadata": {},
     "output_type": "display_data"
    }
   ],
   "source": [
    "def RR(_list, _Displaying=True, _usr_quantum_time=_DEFAULT_QUANTUM_TIME_):\n",
    "    _order = []\n",
    "    _QUANTUM_TIME_ = _usr_quantum_time\n",
    "    _list = sorted(_list, key=lambda x: x['Arrival_time'])\n",
    "    #########################\n",
    "    # round robin이나 선점형에선 작업 추가 후 다시 볼 일이 있기 때문에 해당 변수 초기화하면 안 됨.\n",
    "    _queue = []\n",
    "    #########################\n",
    "    _how_many_add_this_jop = 0\n",
    "    _i_do_one_cycle = False\n",
    "    # arrival_time 고려해야하니 timer 작동\n",
    "    for _now_time in range(_MAX_TIME_LENGTH_):\n",
    "\n",
    "        # 만약 모든 Burst_time 합이 0이면 모든 작업이 종료된 것\n",
    "        # 다만 마지막 작업 추가했을 때와, _now_time간 오차있음.\n",
    "        if (is_complete(_list) == True):\n",
    "            _order.append([_NON_PROCESS_, _ALL_JOB_IS_DONE_])\n",
    "            break\n",
    "        # 아직 안 끝남.\n",
    "        else:\n",
    "            # 현재 시간에 도착해있는 작업들 리스트업, 다 끝난 것 비우기\n",
    "            _queue = [job for job in _queue if job['Burst_time'] > 0]\n",
    "            for _process in _list:\n",
    "                if (_process['Arrival_time'] == _now_time):\n",
    "                    _queue.append(_process)\n",
    "            \n",
    "            # _queue.sort(key=lambda x: x['Priority'])\n",
    "            # 실행할 프로세스 없으면 대기 1초 추가하고 넘기기\n",
    "            if (is_complete(_queue) == True and is_complete(_list) == False):\n",
    "                _order.append([_NON_PROCESS_, 1])\n",
    "                pass\n",
    "  \n",
    "            if (is_complete(_queue) == True):\n",
    "                _how_many_add_this_jop = _QUANTUM_TIME_\n",
    "            # 실행할 프로세스 있으면, 큐 돌아가면서 추가하기\n",
    "            if (is_complete(_queue) == False):                    \n",
    "                ########################\n",
    "                # 다음 퀀텀타임 이내에 들어올 놈이 있는가 판단\n",
    "                ########################\n",
    "                for _original_process in _list:\n",
    "                    # 다음 퀀텀타임 이내에\n",
    "                    if (_now_time <= _original_process['Arrival_time'] and _original_process['Arrival_time'] < _now_time + _QUANTUM_TIME_):\n",
    "                        # 나보다 높거나 겹치는 프로세스 있으면\n",
    "                        if (_queue[0]['Priority'] > _original_process['Priority']):\n",
    "                            # 그 차이만큼으로 바꿔버리고, 그 전에 끝내기\n",
    "                            _how_many_add_this_jop = (_original_process['Arrival_time'] - _now_time)\n",
    "                        elif (_queue[0]['Priority'] >= _original_process['Priority']):\n",
    "                            if (_i_do_one_cycle == True):\n",
    "                                _how_many_add_this_jop = _QUANTUM_TIME_\n",
    "                                _queue.append(_queue.pop(0))    \n",
    "                                _i_do_one_cycle == False\n",
    "                            \n",
    "\n",
    "                if (_how_many_add_this_jop == 0):\n",
    "                    _how_many_add_this_jop = _QUANTUM_TIME_\n",
    "\n",
    "                # 만약 들어오는 놈이 하나도 없다면? 퀀텀타임만큼 추가 가능\n",
    "\n",
    "                _order.append([_queue[0]['Num'], 1])\n",
    "                _queue[0]['Burst_time'] -= 1\n",
    "                _how_many_add_this_jop -= 1\n",
    "                if (_how_many_add_this_jop == 0):\n",
    "                    _queue.append(_queue.pop(0))\n",
    "                    _i_do_one_cycle == True\n",
    "            # print(_now_time, _how_many_add_this_jop, _queue)\n",
    "        # print(_now_time, _queue)\n",
    "\n",
    "    _order = order_zip(_order)\n",
    "    if (_Displaying == True):\n",
    "        draw(_order, _Displaying)\n",
    "    return _order\n",
    "\n",
    "\n",
    "_list = copy.deepcopy(_DATA_)\n",
    "_tmp = RR(_list, True, 70)\n",
    "# 어느 프로세스 진행 중에, 동일 우선순위 프로세스 진입 시 선점함.\n"
   ]
  },
  {
   "attachments": {},
   "cell_type": "markdown",
   "metadata": {},
   "source": [
    "### 2.4.2. Priority + Round robin\n",
    "- 기본 Arrival_time 정렬, 동일 시간 도착 시 프로세스 번호 순\n",
    "- QUANTUM_TIME 내에 처리하지 못 할 경우, 남은 Burst_time은 큐의 맨 뒤로 감.\n",
    "- Priority 고려, 우선 순위 동일 시 프로세스 번호 순"
   ]
  },
  {
   "cell_type": "code",
   "execution_count": 186,
   "metadata": {},
   "outputs": [
    {
     "name": "stdout",
     "output_type": "stream",
     "text": [
      "- Order : [[-1, 11], [2, 5], [5, 34], [1, 6], [3, 6], [4, 6], [1, 6], [3, 6], [4, 6], [1, 6], [3, 6], [4, 6], [1, 6], [3, 6], [4, 6], [1, 6], [3, 6], [4, 6], [3, 6], [4, 6], [3, 6], [4, 6], [3, 6], [4, 6], [3, 6], [4, 6], [3, 6], [4, 6], [3, 6], [4, 6], [3, 6], [4, 6], [3, 6], [4, 6], [3, 6], [4, 6], [3, 6], [4, 6], [3, 6], [4, 6], [3, 6], [4, 6], [3, 6], [4, 6], [3, 6], [4, 6], [3, 6], [4, 6], [3, 6], [4, 6], [3, 6], [4, 6], [3, 6], [4, 6], [3, 6], [4, 6], [3, 6], [4, 6], [3, 6], [4, 6], [3, 6], [4, 6], [3, 6], [4, 6], [3, 6], [4, 6], [3, 6], [4, 6], [3, 6], [4, 6], [3, 6], [4, 6], [3, 6], [4, 6], [3, 6], [4, 6], [3, 6], [4, 6], [3, 6], [4, 6], [3, 6], [4, 6], [3, 6], [4, 6], [3, 6], [4, 6], [3, 6], [4, 6], [3, 6], [4, 6], [3, 6], [4, 6], [3, 6], [4, 6], [3, 6], [4, 6], [3, 6], [4, 6], [3, 6], [4, 6], [3, 6], [4, 6], [3, 6], [4, 6], [3, 6], [4, 6], [3, 6], [4, 6], [3, 6], [4, 6], [3, 6], [4, 6], [3, 6], [4, 6], [3, 6], [4, 6], [3, 6], [4, 6], [3, 6], [4, 6], [3, 6], [4, 6], [3, 6], [4, 6], [3, 6], [4, 6], [3, 6], [4, 6], [3, 6], [4, 6], [3, 6], [4, 6], [3, 6], [4, 6], [3, 6], [4, 6], [3, 6], [4, 6], [3, 6], [4, 6], [3, 6], [4, 6], [3, 6], [4, 6], [3, 6], [4, 6], [3, 6], [4, 6], [3, 6], [4, 6], [3, 6], [4, 6], [3, 6], [4, 6], [3, 6], [4, 6], [3, 6], [4, 6], [3, 6], [4, 6], [3, 6], [4, 6], [3, 6], [4, 6], [3, 6], [4, 6], [3, 6], [4, 6], [3, 6], [4, 6], [3, 6], [4, 6], [3, 6], [4, 6], [3, 2], [4, 2], [5, 166], [-1, -999]]\n",
      "------------------------------\n",
      "ALL START GOOD JOB!!!\n",
      "ALL EXIT  GOOD JOB!!!\n"
     ]
    },
    {
     "data": {
      "image/png": "[encoded data removed]",
      "text/plain": [
       "<Figure size 1000x100 with 1 Axes>"
      ]
     },
     "metadata": {},
     "output_type": "display_data"
    }
   ],
   "source": [
    "def Priority_RR(_list, _Displaying=True, _usr_quantum_time=_DEFAULT_QUANTUM_TIME_):\n",
    "    _order = []\n",
    "    _QUANTUM_TIME_ = _usr_quantum_time\n",
    "    _list = sorted(_list, key=lambda x: x['Arrival_time'])\n",
    "    #########################\n",
    "    # round robin이나 선점형에선 작업 추가 후 다시 볼 일이 있기 때문에 해당 변수 초기화하면 안 됨.\n",
    "    _queue = []\n",
    "    #########################\n",
    "    _how_many_add_this_jop = 0\n",
    "    # arrival_time 고려해야하니 timer 작동\n",
    "    for _now_time in range(_MAX_TIME_LENGTH_):\n",
    "        # 만약 모든 Burst_time 합이 0이면 모든 작업이 종료된 것\n",
    "        # 다만 마지막 작업 추가했을 때와, _now_time간 오차있음.\n",
    "        if (is_complete(_list) == True):\n",
    "            _order.append([_NON_PROCESS_, _ALL_JOB_IS_DONE_])\n",
    "            break\n",
    "        # 아직 안 끝남.\n",
    "        else:\n",
    "            # 현재 시간에 도착해있는 작업들 리스트업, 다 끝난 것 비우기\n",
    "            _queue = [job for job in _queue if job['Burst_time'] > 0]\n",
    "            for _process in _list:\n",
    "                if (_process['Arrival_time'] == _now_time):\n",
    "                    _queue.append(_process)\n",
    "            _queue.sort(key=lambda x: x['Priority'])\n",
    "            # 실행할 프로세스 없으면 대기 1초 추가하고 넘기기\n",
    "            if (is_complete(_queue) == True and is_complete(_list) == False):\n",
    "                _order.append([_NON_PROCESS_, 1])\n",
    "                pass\n",
    "            if (is_complete(_queue) == True):\n",
    "                _how_many_add_this_jop = _QUANTUM_TIME_\n",
    "            # 실행할 프로세스 있으면, 큐 돌아가면서 추가하기\n",
    "            if (is_complete(_queue) == False):\n",
    "                ########################\n",
    "                # 다음 퀀텀타임 이내에 들어올 놈이 있는가 판단\n",
    "                ########################\n",
    "                for _original_process in _list:\n",
    "                    # 다음 퀀텀타임 이내에\n",
    "                    if (_now_time <= _original_process['Arrival_time'] and _original_process['Arrival_time'] < _now_time + _QUANTUM_TIME_):\n",
    "                        # 나보다 높거나 겹치는 프로세스 있으면\n",
    "                        if (_queue[0]['Priority'] > _original_process['Priority']):\n",
    "                            # 그 차이만큼으로 바꿔버리고, 그 전에 끝내기\n",
    "                            _how_many_add_this_jop = (\n",
    "                                _original_process['Arrival_time'] - _now_time)\n",
    "\n",
    "                if (_how_many_add_this_jop == 0):\n",
    "                    _how_many_add_this_jop = _QUANTUM_TIME_\n",
    "\n",
    "                # 만약 들어오는 놈이 하나도 없다면? 퀀텀타임만큼 추가 가능\n",
    "\n",
    "                _order.append([_queue[0]['Num'], 1])\n",
    "                _queue[0]['Burst_time'] -= 1\n",
    "                _how_many_add_this_jop -= 1\n",
    "                if (_how_many_add_this_jop == 0):\n",
    "                    _queue.append(_queue.pop(0))\n",
    "            # print(_now_time, _how_many_add_this_jop, _queue)\n",
    "        # print(_now_time, _queue)\n",
    "\n",
    "    _order = order_zip(_order)\n",
    "    if (_Displaying == True):\n",
    "        draw(_order, _Displaying)\n",
    "    return _order\n",
    "\n",
    "\n",
    "_list = copy.deepcopy(_DATA_)\n",
    "_tmp = Priority_RR(_list, True, 6)\n"
   ]
  },
  {
   "attachments": {},
   "cell_type": "markdown",
   "metadata": {},
   "source": [
    "## 2.5. Multi Level Queue\n",
    "- 스케줄링 함수 호출 시, 2번째 파라미터로 False 주면 출력 아예 없음."
   ]
  },
  {
   "attachments": {},
   "cell_type": "markdown",
   "metadata": {},
   "source": [
    "### 2.5.1. Multi Level Queue\n"
   ]
  },
  {
   "cell_type": "code",
   "execution_count": 187,
   "metadata": {},
   "outputs": [
    {
     "name": "stdout",
     "output_type": "stream",
     "text": [
      "- Order : [[-1, 11], [2, 5], [5, 34], [1, 10], [3, 10], [4, 10], [1, 10], [3, 10], [4, 10], [1, 10], [3, 10], [4, 10], [3, 10], [4, 10], [3, 10], [4, 10], [3, 10], [4, 10], [3, 10], [4, 10], [3, 10], [4, 10], [3, 10], [4, 10], [3, 10], [4, 10], [3, 10], [4, 10], [3, 10], [4, 10], [3, 10], [4, 10], [3, 10], [4, 10], [3, 10], [4, 10], [3, 10], [4, 10], [3, 10], [4, 10], [3, 10], [4, 10], [3, 10], [4, 10], [3, 10], [4, 10], [3, 10], [4, 10], [3, 10], [4, 10], [3, 10], [4, 10], [3, 10], [4, 10], [3, 10], [4, 10], [3, 10], [4, 10], [3, 10], [4, 10], [3, 10], [4, 10], [3, 10], [4, 10], [3, 10], [4, 10], [3, 10], [4, 10], [3, 10], [4, 10], [3, 10], [4, 10], [3, 10], [4, 10], [3, 10], [4, 10], [3, 10], [4, 10], [3, 10], [4, 10], [3, 10], [4, 10], [3, 10], [4, 10], [3, 10], [4, 10], [3, 10], [4, 10], [3, 10], [4, 10], [3, 10], [4, 10], [3, 10], [4, 10], [3, 10], [4, 10], [3, 10], [4, 10], [3, 10], [4, 10], [3, 10], [4, 10], [3, 10], [4, 10], [3, 10], [4, 10], [5, 166], [-1, -999]]\n",
      "------------------------------\n",
      "ALL START GOOD JOB!!!\n",
      "ALL EXIT  GOOD JOB!!!\n"
     ]
    },
    {
     "data": {
      "image/png": "[encoded data removed]",
      "text/plain": [
       "<Figure size 1000x100 with 1 Axes>"
      ]
     },
     "metadata": {},
     "output_type": "display_data"
    }
   ],
   "source": [
    "def Multi_level_queue(_list):\n",
    "    _order = []\n",
    "    # 서로다른 priority 갯수 세기\n",
    "    _unique_priorities = set()\n",
    "    for process in _list:\n",
    "        _unique_priorities.add(process['Priority'])\n",
    "    # index 나중에 필요해서 list로 전환\n",
    "    _unique_priorities = list(_unique_priorities)\n",
    "    _unique_priorities = sorted(_unique_priorities)\n",
    "    # create level empty queue\n",
    "    _level = []\n",
    "    # print(_unique_priorities)\n",
    "    for i in range(len(_unique_priorities)):\n",
    "        _level.append([])\n",
    "        # 동일 레벨 갯수대로 각각 level_queue 생성하기\n",
    "    for _target_priority in _unique_priorities:\n",
    "        for i in range(len(_list)):\n",
    "            if (_list[i]['Priority'] == _target_priority):\n",
    "                _level[_unique_priorities.index(\n",
    "                    _target_priority)].append(_list[i])\n",
    "    # print(_level)\n",
    "    #####################################################################    \n",
    "    ## 각자 레벨에서 각기 다른 방식으로 스케쥴링 된 것들이, 선점형 우선순위 스케쥴링 되어야함.\n",
    "    # each level scheduling\n",
    "    _level_complete = []\n",
    "    for i in range(len(_unique_priorities)):\n",
    "        if(i == 0):\n",
    "            _level_complete.append(Priority_RR(_level[i],False, 10))\n",
    "        elif(i == 1):\n",
    "            _level_complete.append(Priority_RR(_level[i], False, 10))\n",
    "        elif (i == 2):\n",
    "            _level_complete.append(Preemptive_SRJF(_level[i], False))\n",
    "        elif (i == 3):\n",
    "            _level_complete.append(Preemptive_SRJF(_level[i], False))\n",
    "        elif (i == 4):\n",
    "            _level_complete.append(SJF(_level[i], False))\n",
    "        else:\n",
    "            _level_complete.append(FCFO(_level[i], False))\n",
    "    #####################################################################\n",
    "    ### 우선순위 기반 큐 간 스케쥴링 \n",
    "    for _now_time in range(_MAX_TIME_LENGTH_):\n",
    "        # 하위 우선순위부터 _now_time에 실행할 것을 갱신함.\n",
    "        # 제일 마지막에 갱신된 것이 가장 높은 우선순위 & 실행가능한 프로세스임.\n",
    "        _now_order = [-1,1]\n",
    "        for _each_level in reversed(_level_complete):\n",
    "            # queue의 맨 앞이 뭐든 비었으면 pop\n",
    "            if (_each_level[0][1] == 0):\n",
    "                _each_level.pop(0)\n",
    "            # queue의 맨 앞이 프로세스고, 진행 가능하면 진행할 것임\n",
    "            if(_each_level[0][0] != _NON_PROCESS_):\n",
    "                _now_order[0] = _each_level[0][0]\n",
    "            # queue의 맨 앞이 non-process\n",
    "            else:\n",
    "                _each_level[0][1] -= 1\n",
    "            # print(_now_time, _now_order, _each_level)\n",
    "        # _now_order가 프로세스일 경우 해당하는 것만 시간 줄여야함    \n",
    "        # _now_order가 정해진 다음에 수행해야함.\n",
    "        if(_now_order[0] != _NON_PROCESS_):\n",
    "            for _each_level in _level_complete:\n",
    "                # 해당 프로세스 찾을 시\n",
    "                if (_now_order[0] == _each_level[0][0]):\n",
    "                    _each_level[0][1] -= 1\n",
    "                \n",
    "        ## 스케줄링 이후 시점        \n",
    "        ## 여기서 999 끊어내야함.\n",
    "        _end_flag = True\n",
    "        for _each_level in _level_complete:\n",
    "            if(_each_level[0][1] > _ALL_JOB_IS_DONE_):\n",
    "                _end_flag = False\n",
    "        if(_end_flag == True):\n",
    "            _order.append([_NON_PROCESS_, _ALL_JOB_IS_DONE_])\n",
    "            break\n",
    "        else:\n",
    "            _order.append(_now_order)\n",
    "        \n",
    "    # order 압축        \n",
    "    _order = order_zip(_order)\n",
    "    draw(_order, True)\n",
    "\n",
    "_list = copy.deepcopy(_DATA_)\n",
    "Multi_level_queue(_list)\n"
   ]
  },
  {
   "attachments": {},
   "cell_type": "markdown",
   "metadata": {},
   "source": [
    "### 2.5.2. Multi Level Feedback Queue"
   ]
  },
  {
   "cell_type": "code",
   "execution_count": 188,
   "metadata": {},
   "outputs": [
    {
     "name": "stdout",
     "output_type": "stream",
     "text": [
      "- Order : [[-1, 11], [2, 5], [5, 40], [1, 8], [3, 8], [4, 8], [5, 16], [1, 16], [3, 16], [4, 16], [5, 16], [1, 6], [3, 16], [4, 16], [5, 16], [3, 16], [4, 16], [5, 16], [3, 16], [4, 16], [5, 16], [3, 16], [4, 16], [5, 16], [3, 16], [4, 16], [5, 16], [3, 16], [4, 16], [5, 16], [3, 16], [4, 16], [5, 16], [3, 16], [4, 16], [5, 16], [3, 16], [4, 16], [3, 16], [4, 16], [3, 16], [4, 16], [3, 16], [4, 16], [3, 16], [4, 16], [3, 16], [4, 16], [3, 16], [4, 16], [3, 16], [4, 16], [3, 16], [4, 16], [3, 16], [4, 16], [3, 16], [4, 16], [3, 16], [4, 16], [3, 16], [4, 16], [3, 16], [4, 16], [3, 16], [4, 16], [3, 16], [4, 16], [3, 16], [4, 16], [3, 16], [4, 16], [3, 16], [4, 16], [3, 16], [4, 16], [3, 16], [4, 16], [3, 12], [4, 12], [-1, -999]]\n",
      "------------------------------\n",
      "ALL START GOOD JOB!!!\n",
      "ALL EXIT  GOOD JOB!!!\n"
     ]
    },
    {
     "data": {
      "image/png": "[encoded data removed]",
      "text/plain": [
       "<Figure size 1000x100 with 1 Axes>"
      ]
     },
     "metadata": {},
     "output_type": "display_data"
    }
   ],
   "source": [
    "# # quantum time대로 order 두 개로 잘라주는 함수\n",
    "# def merge(_list):\n",
    "#     _new_list = []\n",
    "#     for i in range(len(_list)):\n",
    "#         if _list[i][0] == -1:\n",
    "#             _new_list.append(_list[i])\n",
    "#         else:\n",
    "#             _is_found = False\n",
    "#             for j in range(len(_new_list)):\n",
    "#                 if _new_list[j][0] == _list[i][0]:\n",
    "#                     _new_list[j][1] += _list[i][1]\n",
    "#                     _is_found = True\n",
    "#                     break\n",
    "#             if not _is_found:\n",
    "#                 _new_list.append(_list[i])\n",
    "\n",
    "#     return _new_list\n",
    "\n",
    "# def find_now_and_next(_levels, _quantum):\n",
    "#     _level_complete = []\n",
    "#     _go_to_next_level = []\n",
    "#     _process_duplicated = []\n",
    "#     print(\"전\",_levels)\n",
    "#     _levels = merge(_levels)\n",
    "   \n",
    "#     print(\"후\", _levels)\n",
    "#     for _cell in _levels:\n",
    "#         # 중복이면 바로 다음 level queue로 패스\n",
    "#         if _cell[0] in _process_duplicated:\n",
    "#             _go_to_next_level.append(_cell)\n",
    "#             pass\n",
    "#         # 만약 대기 프로세스면, 그대로 추가\n",
    "#         elif (_cell[0] == _NON_PROCESS_):\n",
    "#             _level_complete.append(_cell)\n",
    "#         # 만약 실제 작업이면, 추가\n",
    "#         else:\n",
    "#             if(_cell[0] != _NON_PROCESS_):\n",
    "#                 # 시간 초과 일 경우, 허용치만 저장 후, 넘김\n",
    "#                 if (_cell[1] > _quantum):\n",
    "#                     _level_complete.append([_cell[0], _quantum])\n",
    "#                     _go_to_next_level.append([_cell[0], _cell[1] - _quantum])\n",
    "#                 # 시간 내 처리 가능할 경우, 전부 저장\n",
    "#                 else:   \n",
    "#                     _level_complete.append(_cell)\n",
    "#                 _process_duplicated.append(_cell[0])\n",
    "\n",
    "#     # _go_to_next_level.insert(len(_go_to_next_level), [_NON_PROCESS_, _ALL_JOB_IS_DONE_])\n",
    "#     total = sum(x[1] for x in _level_complete[0:-2])\n",
    "#     print(total)\n",
    "#     _go_to_next_level.insert(0, [_NON_PROCESS_, total])\n",
    "#     print(\"now\",_level_complete)\n",
    "#     print(\"next\",_go_to_next_level)\n",
    "#     return _level_complete, _go_to_next_level\n",
    "def clear(_queue):\n",
    "    _queue = [job for job in _queue if job['Burst_time'] > 0]\n",
    "    return _queue\n",
    "\n",
    "def is_empty_list(_levels):\n",
    "    is_empty = True\n",
    "    for i in range(len(_levels)):\n",
    "        if _levels[i]:\n",
    "            is_empty = False\n",
    "            break\n",
    "    return is_empty\n",
    "\n",
    "def Multi_level_feedback_queue(_list):\n",
    "    _order = []\n",
    "\n",
    "    _list = sorted(_list, key=lambda x: x['Arrival_time'])\n",
    "\n",
    "    # 각 quantum 8, 16, FCFO\n",
    "    _levels = [[],[],[]]\n",
    "    _LEVEL_1_QUANTUM_TIME_ = 8\n",
    "    _LEVEL_2_QUANTUM_TIME_ = 16\n",
    "    _how_many_add_this_jop = 0\n",
    "    #####################################################################\n",
    "    # 우선순위 기반 큐 간 스케쥴링\n",
    "    for _now_time in range(_MAX_TIME_LENGTH_):\n",
    "        # 만약 모든 Burst_time 합이 0이면 모든 작업이 종료된 것\n",
    "        # # 다만 마지막 작업 추가했을 때와, _now_time간 오차있음.\n",
    "        \n",
    "        if (is_complete(_list) == True):\n",
    "            _order.append([_NON_PROCESS_, _ALL_JOB_IS_DONE_])\n",
    "            break\n",
    "        # 현재 시간에 도착해있는 작업들 리스트업\n",
    "        for _process in _list:\n",
    "            if (_process['Arrival_time'] == _now_time):\n",
    "                _levels[0].append(_process)\n",
    "        ###############################################################\n",
    "        # 하나도 도착 안 했으면 >> wait\n",
    "\n",
    "        if (is_empty_list(_levels) == True):\n",
    "            _order.append([_NON_PROCESS_, 1])\n",
    "            _how_many_add_this_jop = _LEVEL_1_QUANTUM_TIME_\n",
    "            \n",
    "        # 기본 세팅 끝. 이하 levels 존재 가정함.\n",
    "        else:\n",
    "            ###########################\n",
    "            ### 비진 않았는데, 1단계에 없는 경우\n",
    "            # 2 > 1\n",
    "            if(_levels[0]==[] and _levels[1] != []):\n",
    "                _how_many_add_this_jop = _LEVEL_2_QUANTUM_TIME_\n",
    "                _levels[0].append(_levels[1].pop(0))\n",
    "            # 3 > 2 // 선입선출 : 자기 남은 실행시간 다 제공해줌\n",
    "            elif (_levels[0] == [] and _levels[1] == []):\n",
    "                _how_many_add_this_jop = _levels[2][0]['Burst_time']\n",
    "                _levels[1].append(_levels[2].pop(0))\n",
    "                # 마찬가지로 2 > 1은 두 배 시간 줌\n",
    "                if (_levels[0] == [] and _levels[1] != []):\n",
    "                    _how_many_add_this_jop = _LEVEL_2_QUANTUM_TIME_\n",
    "                    _levels[0].append(_levels[1].pop(0))\n",
    "                    \n",
    "            ######## 1단계에 존재하는 경우\n",
    "            # 만약 시간 내에 해결하지 못한다면\n",
    "            if (_levels[0][0]['Burst_time'] > 0):\n",
    "                # 할당 시간 오더에 추가하고\n",
    "                _order.append([_levels[0][0]['Num'], 1])\n",
    "                # 일단 시간 줄이고 다음 큐에 대입\n",
    "                _levels[0][0]['Burst_time'] -= 1\n",
    "                _how_many_add_this_jop -= 1\n",
    "            # 빈 프로세서 발견하면 다 치워버리고 카운터 초기화\n",
    "            if (_levels[0][0]['Burst_time'] == 0):\n",
    "                _levels[0].pop(0)\n",
    "                _how_many_add_this_jop = _LEVEL_1_QUANTUM_TIME_\n",
    "                for i in range(3):\n",
    "                    _levels[i] = clear(_levels[i])\n",
    "            # 어찌 되었건 위의 if,else 다녀오면 중복생성됨. 원본 삭제\n",
    "            elif (_how_many_add_this_jop == 0):\n",
    "                _how_many_add_this_jop = _LEVEL_1_QUANTUM_TIME_\n",
    "                if (_levels[0][0]['Burst_time'] != 0):\n",
    "                    _levels[1].append(_levels[0].pop(0))\n",
    "            # print(_now_time, _how_many_add_this_jop, _levels)\n",
    "        \n",
    "    _order = order_zip(_order)\n",
    "    draw(_order, True)\n",
    "\n",
    "_list = copy.deepcopy(_DATA_)\n",
    "Multi_level_feedback_queue(_list)\n"
   ]
  },
  {
   "attachments": {},
   "cell_type": "markdown",
   "metadata": {},
   "source": [
    "# 3.Real-Time scheduling"
   ]
  },
  {
   "attachments": {},
   "cell_type": "markdown",
   "metadata": {},
   "source": [
    "## 3.1. Rate-Monotonic"
   ]
  },
  {
   "attachments": {},
   "cell_type": "markdown",
   "metadata": {},
   "source": [
    "## 3.2. EDF (Earliest Deadline Fiest)"
   ]
  }
 ],
 "metadata": {
  "kernelspec": {
   "display_name": "Python 3",
   "language": "python",
   "name": "python3"
  },
  "language_info": {
   "codemirror_mode": {
    "name": "ipython",
    "version": 3
   },
   "file_extension": ".py",
   "mimetype": "text/x-python",
   "name": "python",
   "nbconvert_exporter": "python",
   "pygments_lexer": "ipython3",
   "version": "3.11.0"
  },
  "orig_nbformat": 4
 },
 "nbformat": 4,
 "nbformat_minor": 2
}
